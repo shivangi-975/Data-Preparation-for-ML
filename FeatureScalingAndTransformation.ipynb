{
  "cells": [
    {
      "cell_type": "markdown",
      "metadata": {
        "id": "view-in-github",
        "colab_type": "text"
      },
      "source": [
        "<a href=\"https://colab.research.google.com/github/shivangi-975/Data-Preparation-for-ML/blob/main/FeatureScalingAndTransformation.ipynb\" target=\"_parent\"><img src=\"https://colab.research.google.com/assets/colab-badge.svg\" alt=\"Open In Colab\"/></a>"
      ]
    },
    {
      "cell_type": "markdown",
      "metadata": {
        "id": "Imt31bNLT2Md"
      },
      "source": [
        "### Importing libraries"
      ]
    },
    {
      "cell_type": "code",
      "execution_count": null,
      "metadata": {
        "id": "aAlSyE6oT2Mh"
      },
      "outputs": [],
      "source": [
        "import pandas as pd\n",
        "import numpy as np\n",
        "import matplotlib.pyplot as plt\n",
        "import math"
      ]
    },
    {
      "cell_type": "code",
      "execution_count": null,
      "metadata": {
        "id": "c12mfnLXT2Mj"
      },
      "outputs": [],
      "source": [
        "np.set_printoptions(precision=3)"
      ]
    },
    {
      "cell_type": "markdown",
      "metadata": {
        "id": "pTIQ1tZsT2Mj"
      },
      "source": [
        "#### Here we are using the processed diabates data so null values are not there."
      ]
    },
    {
      "cell_type": "code",
      "execution_count": null,
      "metadata": {
        "id": "IDWcsnqKT2Mk",
        "outputId": "77fa5d90-65f4-4749-c9d1-b27a3d5abad4"
      },
      "outputs": [
        {
          "data": {
            "text/html": [
              "<div>\n",
              "<style scoped>\n",
              "    .dataframe tbody tr th:only-of-type {\n",
              "        vertical-align: middle;\n",
              "    }\n",
              "\n",
              "    .dataframe tbody tr th {\n",
              "        vertical-align: top;\n",
              "    }\n",
              "\n",
              "    .dataframe thead th {\n",
              "        text-align: right;\n",
              "    }\n",
              "</style>\n",
              "<table border=\"1\" class=\"dataframe\">\n",
              "  <thead>\n",
              "    <tr style=\"text-align: right;\">\n",
              "      <th></th>\n",
              "      <th>Pregnancies</th>\n",
              "      <th>Glucose</th>\n",
              "      <th>BloodPressure</th>\n",
              "      <th>SkinThickness</th>\n",
              "      <th>Insulin</th>\n",
              "      <th>BMI</th>\n",
              "      <th>DiabetesPedigreeFunction</th>\n",
              "      <th>Age</th>\n",
              "      <th>Outcome</th>\n",
              "    </tr>\n",
              "  </thead>\n",
              "  <tbody>\n",
              "    <tr>\n",
              "      <td>0</td>\n",
              "      <td>6.0</td>\n",
              "      <td>148.0</td>\n",
              "      <td>72.000000</td>\n",
              "      <td>35.0</td>\n",
              "      <td>219.028414</td>\n",
              "      <td>33.6</td>\n",
              "      <td>0.627</td>\n",
              "      <td>50.0</td>\n",
              "      <td>1</td>\n",
              "    </tr>\n",
              "    <tr>\n",
              "      <td>1</td>\n",
              "      <td>1.0</td>\n",
              "      <td>85.0</td>\n",
              "      <td>66.000000</td>\n",
              "      <td>29.0</td>\n",
              "      <td>70.341550</td>\n",
              "      <td>26.6</td>\n",
              "      <td>0.351</td>\n",
              "      <td>31.0</td>\n",
              "      <td>0</td>\n",
              "    </tr>\n",
              "    <tr>\n",
              "      <td>2</td>\n",
              "      <td>8.0</td>\n",
              "      <td>183.0</td>\n",
              "      <td>64.000000</td>\n",
              "      <td>32.0</td>\n",
              "      <td>270.573172</td>\n",
              "      <td>23.3</td>\n",
              "      <td>0.672</td>\n",
              "      <td>32.0</td>\n",
              "      <td>1</td>\n",
              "    </tr>\n",
              "    <tr>\n",
              "      <td>3</td>\n",
              "      <td>1.0</td>\n",
              "      <td>89.0</td>\n",
              "      <td>66.000000</td>\n",
              "      <td>23.0</td>\n",
              "      <td>94.000000</td>\n",
              "      <td>28.1</td>\n",
              "      <td>0.167</td>\n",
              "      <td>21.0</td>\n",
              "      <td>0</td>\n",
              "    </tr>\n",
              "    <tr>\n",
              "      <td>4</td>\n",
              "      <td>0.0</td>\n",
              "      <td>137.0</td>\n",
              "      <td>40.000000</td>\n",
              "      <td>35.0</td>\n",
              "      <td>168.000000</td>\n",
              "      <td>43.1</td>\n",
              "      <td>2.288</td>\n",
              "      <td>33.0</td>\n",
              "      <td>1</td>\n",
              "    </tr>\n",
              "    <tr>\n",
              "      <td>5</td>\n",
              "      <td>5.0</td>\n",
              "      <td>116.0</td>\n",
              "      <td>74.000000</td>\n",
              "      <td>32.0</td>\n",
              "      <td>127.840221</td>\n",
              "      <td>25.6</td>\n",
              "      <td>0.201</td>\n",
              "      <td>30.0</td>\n",
              "      <td>0</td>\n",
              "    </tr>\n",
              "    <tr>\n",
              "      <td>6</td>\n",
              "      <td>3.0</td>\n",
              "      <td>78.0</td>\n",
              "      <td>50.000000</td>\n",
              "      <td>32.0</td>\n",
              "      <td>88.000000</td>\n",
              "      <td>31.0</td>\n",
              "      <td>0.248</td>\n",
              "      <td>26.0</td>\n",
              "      <td>1</td>\n",
              "    </tr>\n",
              "    <tr>\n",
              "      <td>7</td>\n",
              "      <td>10.0</td>\n",
              "      <td>115.0</td>\n",
              "      <td>72.405184</td>\n",
              "      <td>32.0</td>\n",
              "      <td>136.570245</td>\n",
              "      <td>35.3</td>\n",
              "      <td>0.134</td>\n",
              "      <td>29.0</td>\n",
              "      <td>0</td>\n",
              "    </tr>\n",
              "    <tr>\n",
              "      <td>8</td>\n",
              "      <td>2.0</td>\n",
              "      <td>197.0</td>\n",
              "      <td>70.000000</td>\n",
              "      <td>45.0</td>\n",
              "      <td>543.000000</td>\n",
              "      <td>30.5</td>\n",
              "      <td>0.158</td>\n",
              "      <td>53.0</td>\n",
              "      <td>1</td>\n",
              "    </tr>\n",
              "    <tr>\n",
              "      <td>9</td>\n",
              "      <td>8.0</td>\n",
              "      <td>125.0</td>\n",
              "      <td>96.000000</td>\n",
              "      <td>32.0</td>\n",
              "      <td>155.571480</td>\n",
              "      <td>32.0</td>\n",
              "      <td>0.232</td>\n",
              "      <td>54.0</td>\n",
              "      <td>1</td>\n",
              "    </tr>\n",
              "  </tbody>\n",
              "</table>\n",
              "</div>"
            ],
            "text/plain": [
              "   Pregnancies  Glucose  BloodPressure  SkinThickness     Insulin   BMI  \\\n",
              "0          6.0    148.0      72.000000           35.0  219.028414  33.6   \n",
              "1          1.0     85.0      66.000000           29.0   70.341550  26.6   \n",
              "2          8.0    183.0      64.000000           32.0  270.573172  23.3   \n",
              "3          1.0     89.0      66.000000           23.0   94.000000  28.1   \n",
              "4          0.0    137.0      40.000000           35.0  168.000000  43.1   \n",
              "5          5.0    116.0      74.000000           32.0  127.840221  25.6   \n",
              "6          3.0     78.0      50.000000           32.0   88.000000  31.0   \n",
              "7         10.0    115.0      72.405184           32.0  136.570245  35.3   \n",
              "8          2.0    197.0      70.000000           45.0  543.000000  30.5   \n",
              "9          8.0    125.0      96.000000           32.0  155.571480  32.0   \n",
              "\n",
              "   DiabetesPedigreeFunction   Age  Outcome  \n",
              "0                     0.627  50.0        1  \n",
              "1                     0.351  31.0        0  \n",
              "2                     0.672  32.0        1  \n",
              "3                     0.167  21.0        0  \n",
              "4                     2.288  33.0        1  \n",
              "5                     0.201  30.0        0  \n",
              "6                     0.248  26.0        1  \n",
              "7                     0.134  29.0        0  \n",
              "8                     0.158  53.0        1  \n",
              "9                     0.232  54.0        1  "
            ]
          },
          "execution_count": 3,
          "metadata": {},
          "output_type": "execute_result"
        }
      ],
      "source": [
        "diabetes = pd.read_csv('datasets/diabetes_processed.csv')\n",
        "\n",
        "diabetes.head(10)"
      ]
    },
    {
      "cell_type": "code",
      "execution_count": null,
      "metadata": {
        "id": "k-yGqeQOT2Ml",
        "outputId": "c7bffec0-10e9-43e0-9703-a990621d9768"
      },
      "outputs": [
        {
          "data": {
            "text/html": [
              "<div>\n",
              "<style scoped>\n",
              "    .dataframe tbody tr th:only-of-type {\n",
              "        vertical-align: middle;\n",
              "    }\n",
              "\n",
              "    .dataframe tbody tr th {\n",
              "        vertical-align: top;\n",
              "    }\n",
              "\n",
              "    .dataframe thead th {\n",
              "        text-align: right;\n",
              "    }\n",
              "</style>\n",
              "<table border=\"1\" class=\"dataframe\">\n",
              "  <thead>\n",
              "    <tr style=\"text-align: right;\">\n",
              "      <th></th>\n",
              "      <th>Pregnancies</th>\n",
              "      <th>Glucose</th>\n",
              "      <th>BloodPressure</th>\n",
              "      <th>SkinThickness</th>\n",
              "      <th>Insulin</th>\n",
              "      <th>BMI</th>\n",
              "      <th>DiabetesPedigreeFunction</th>\n",
              "      <th>Age</th>\n",
              "    </tr>\n",
              "  </thead>\n",
              "  <tbody>\n",
              "    <tr>\n",
              "      <td>0</td>\n",
              "      <td>6.0</td>\n",
              "      <td>148.0</td>\n",
              "      <td>72.0</td>\n",
              "      <td>35.0</td>\n",
              "      <td>219.028414</td>\n",
              "      <td>33.6</td>\n",
              "      <td>0.627</td>\n",
              "      <td>50.0</td>\n",
              "    </tr>\n",
              "    <tr>\n",
              "      <td>1</td>\n",
              "      <td>1.0</td>\n",
              "      <td>85.0</td>\n",
              "      <td>66.0</td>\n",
              "      <td>29.0</td>\n",
              "      <td>70.341550</td>\n",
              "      <td>26.6</td>\n",
              "      <td>0.351</td>\n",
              "      <td>31.0</td>\n",
              "    </tr>\n",
              "    <tr>\n",
              "      <td>2</td>\n",
              "      <td>8.0</td>\n",
              "      <td>183.0</td>\n",
              "      <td>64.0</td>\n",
              "      <td>32.0</td>\n",
              "      <td>270.573172</td>\n",
              "      <td>23.3</td>\n",
              "      <td>0.672</td>\n",
              "      <td>32.0</td>\n",
              "    </tr>\n",
              "    <tr>\n",
              "      <td>3</td>\n",
              "      <td>1.0</td>\n",
              "      <td>89.0</td>\n",
              "      <td>66.0</td>\n",
              "      <td>23.0</td>\n",
              "      <td>94.000000</td>\n",
              "      <td>28.1</td>\n",
              "      <td>0.167</td>\n",
              "      <td>21.0</td>\n",
              "    </tr>\n",
              "    <tr>\n",
              "      <td>4</td>\n",
              "      <td>0.0</td>\n",
              "      <td>137.0</td>\n",
              "      <td>40.0</td>\n",
              "      <td>35.0</td>\n",
              "      <td>168.000000</td>\n",
              "      <td>43.1</td>\n",
              "      <td>2.288</td>\n",
              "      <td>33.0</td>\n",
              "    </tr>\n",
              "  </tbody>\n",
              "</table>\n",
              "</div>"
            ],
            "text/plain": [
              "   Pregnancies  Glucose  BloodPressure  SkinThickness     Insulin   BMI  \\\n",
              "0          6.0    148.0           72.0           35.0  219.028414  33.6   \n",
              "1          1.0     85.0           66.0           29.0   70.341550  26.6   \n",
              "2          8.0    183.0           64.0           32.0  270.573172  23.3   \n",
              "3          1.0     89.0           66.0           23.0   94.000000  28.1   \n",
              "4          0.0    137.0           40.0           35.0  168.000000  43.1   \n",
              "\n",
              "   DiabetesPedigreeFunction   Age  \n",
              "0                     0.627  50.0  \n",
              "1                     0.351  31.0  \n",
              "2                     0.672  32.0  \n",
              "3                     0.167  21.0  \n",
              "4                     2.288  33.0  "
            ]
          },
          "execution_count": 4,
          "metadata": {},
          "output_type": "execute_result"
        }
      ],
      "source": [
        "features_df = diabetes.drop('Outcome', axis=1)\n",
        "target_df = diabetes['Outcome']\n",
        "\n",
        "features_df.head()"
      ]
    },
    {
      "cell_type": "code",
      "execution_count": null,
      "metadata": {
        "id": "mm74YhGuT2Ml",
        "outputId": "b4bafb8b-bee0-41e1-a8d4-d3b616e568a5"
      },
      "outputs": [
        {
          "data": {
            "text/plain": [
              "(768, 8)"
            ]
          },
          "execution_count": 5,
          "metadata": {},
          "output_type": "execute_result"
        }
      ],
      "source": [
        "features_df.shape"
      ]
    },
    {
      "cell_type": "code",
      "execution_count": null,
      "metadata": {
        "id": "pGgHFxhAT2Mm",
        "outputId": "1b250d13-5424-44d1-8b81-54562c6642c9"
      },
      "outputs": [
        {
          "data": {
            "text/html": [
              "<div>\n",
              "<style scoped>\n",
              "    .dataframe tbody tr th:only-of-type {\n",
              "        vertical-align: middle;\n",
              "    }\n",
              "\n",
              "    .dataframe tbody tr th {\n",
              "        vertical-align: top;\n",
              "    }\n",
              "\n",
              "    .dataframe thead th {\n",
              "        text-align: right;\n",
              "    }\n",
              "</style>\n",
              "<table border=\"1\" class=\"dataframe\">\n",
              "  <thead>\n",
              "    <tr style=\"text-align: right;\">\n",
              "      <th></th>\n",
              "      <th>Pregnancies</th>\n",
              "      <th>Glucose</th>\n",
              "      <th>BloodPressure</th>\n",
              "      <th>SkinThickness</th>\n",
              "      <th>Insulin</th>\n",
              "      <th>BMI</th>\n",
              "      <th>DiabetesPedigreeFunction</th>\n",
              "      <th>Age</th>\n",
              "    </tr>\n",
              "  </thead>\n",
              "  <tbody>\n",
              "    <tr>\n",
              "      <td>count</td>\n",
              "      <td>768.000000</td>\n",
              "      <td>768.000000</td>\n",
              "      <td>768.000000</td>\n",
              "      <td>768.000000</td>\n",
              "      <td>768.000000</td>\n",
              "      <td>768.000000</td>\n",
              "      <td>768.000000</td>\n",
              "      <td>768.000000</td>\n",
              "    </tr>\n",
              "    <tr>\n",
              "      <td>mean</td>\n",
              "      <td>3.845052</td>\n",
              "      <td>121.656250</td>\n",
              "      <td>72.405184</td>\n",
              "      <td>29.994792</td>\n",
              "      <td>152.815064</td>\n",
              "      <td>32.450911</td>\n",
              "      <td>0.471876</td>\n",
              "      <td>33.240885</td>\n",
              "    </tr>\n",
              "    <tr>\n",
              "      <td>std</td>\n",
              "      <td>3.369578</td>\n",
              "      <td>30.438286</td>\n",
              "      <td>12.096346</td>\n",
              "      <td>8.886506</td>\n",
              "      <td>97.206638</td>\n",
              "      <td>6.875366</td>\n",
              "      <td>0.331329</td>\n",
              "      <td>11.760232</td>\n",
              "    </tr>\n",
              "    <tr>\n",
              "      <td>min</td>\n",
              "      <td>0.000000</td>\n",
              "      <td>44.000000</td>\n",
              "      <td>24.000000</td>\n",
              "      <td>7.000000</td>\n",
              "      <td>-16.568152</td>\n",
              "      <td>18.200000</td>\n",
              "      <td>0.078000</td>\n",
              "      <td>21.000000</td>\n",
              "    </tr>\n",
              "    <tr>\n",
              "      <td>25%</td>\n",
              "      <td>1.000000</td>\n",
              "      <td>99.750000</td>\n",
              "      <td>64.000000</td>\n",
              "      <td>25.000000</td>\n",
              "      <td>89.976015</td>\n",
              "      <td>27.500000</td>\n",
              "      <td>0.243750</td>\n",
              "      <td>24.000000</td>\n",
              "    </tr>\n",
              "    <tr>\n",
              "      <td>50%</td>\n",
              "      <td>3.000000</td>\n",
              "      <td>117.000000</td>\n",
              "      <td>72.202592</td>\n",
              "      <td>32.000000</td>\n",
              "      <td>131.100779</td>\n",
              "      <td>32.000000</td>\n",
              "      <td>0.372500</td>\n",
              "      <td>29.000000</td>\n",
              "    </tr>\n",
              "    <tr>\n",
              "      <td>75%</td>\n",
              "      <td>6.000000</td>\n",
              "      <td>140.250000</td>\n",
              "      <td>80.000000</td>\n",
              "      <td>32.000000</td>\n",
              "      <td>189.857469</td>\n",
              "      <td>36.600000</td>\n",
              "      <td>0.626250</td>\n",
              "      <td>41.000000</td>\n",
              "    </tr>\n",
              "    <tr>\n",
              "      <td>max</td>\n",
              "      <td>17.000000</td>\n",
              "      <td>199.000000</td>\n",
              "      <td>122.000000</td>\n",
              "      <td>99.000000</td>\n",
              "      <td>846.000000</td>\n",
              "      <td>67.100000</td>\n",
              "      <td>2.420000</td>\n",
              "      <td>81.000000</td>\n",
              "    </tr>\n",
              "  </tbody>\n",
              "</table>\n",
              "</div>"
            ],
            "text/plain": [
              "       Pregnancies     Glucose  BloodPressure  SkinThickness     Insulin  \\\n",
              "count   768.000000  768.000000     768.000000     768.000000  768.000000   \n",
              "mean      3.845052  121.656250      72.405184      29.994792  152.815064   \n",
              "std       3.369578   30.438286      12.096346       8.886506   97.206638   \n",
              "min       0.000000   44.000000      24.000000       7.000000  -16.568152   \n",
              "25%       1.000000   99.750000      64.000000      25.000000   89.976015   \n",
              "50%       3.000000  117.000000      72.202592      32.000000  131.100779   \n",
              "75%       6.000000  140.250000      80.000000      32.000000  189.857469   \n",
              "max      17.000000  199.000000     122.000000      99.000000  846.000000   \n",
              "\n",
              "              BMI  DiabetesPedigreeFunction         Age  \n",
              "count  768.000000                768.000000  768.000000  \n",
              "mean    32.450911                  0.471876   33.240885  \n",
              "std      6.875366                  0.331329   11.760232  \n",
              "min     18.200000                  0.078000   21.000000  \n",
              "25%     27.500000                  0.243750   24.000000  \n",
              "50%     32.000000                  0.372500   29.000000  \n",
              "75%     36.600000                  0.626250   41.000000  \n",
              "max     67.100000                  2.420000   81.000000  "
            ]
          },
          "execution_count": 6,
          "metadata": {},
          "output_type": "execute_result"
        }
      ],
      "source": [
        "features_df.describe()"
      ]
    },
    {
      "cell_type": "markdown",
      "metadata": {
        "id": "XE_kzoWGT2Mm"
      },
      "source": [
        "### Rescale Data\n",
        "#### rescaling data between 0 and 1\n",
        "#### MinMaxScaler\n",
        "https://scikit-learn.org/stable/modules/generated/sklearn.preprocessing.MinMaxScaler.html"
      ]
    },
    {
      "cell_type": "code",
      "execution_count": null,
      "metadata": {
        "id": "aGyqnFLtT2Mn"
      },
      "outputs": [],
      "source": [
        "from sklearn.preprocessing import MinMaxScaler"
      ]
    },
    {
      "cell_type": "code",
      "execution_count": null,
      "metadata": {
        "id": "OjLySowfT2Mn"
      },
      "outputs": [],
      "source": [
        "scaler = MinMaxScaler(feature_range=(0, 1))\n",
        "rescaled_features = scaler.fit_transform(features_df)"
      ]
    },
    {
      "cell_type": "code",
      "execution_count": null,
      "metadata": {
        "id": "4YSJMg70T2Mn",
        "outputId": "42985957-f220-4876-a430-3f4d0b0a805a"
      },
      "outputs": [
        {
          "data": {
            "text/plain": [
              "(768, 8)"
            ]
          },
          "execution_count": 9,
          "metadata": {},
          "output_type": "execute_result"
        }
      ],
      "source": [
        "rescaled_features.shape"
      ]
    },
    {
      "cell_type": "code",
      "execution_count": null,
      "metadata": {
        "id": "dAUvELiRT2Mo",
        "outputId": "414add2b-c4d1-460b-9100-f622bdf83442"
      },
      "outputs": [
        {
          "data": {
            "text/plain": [
              "array([[0.353, 0.671, 0.49 , 0.304, 0.273, 0.315, 0.234, 0.483],\n",
              "       [0.059, 0.265, 0.429, 0.239, 0.101, 0.172, 0.117, 0.167],\n",
              "       [0.471, 0.897, 0.408, 0.272, 0.333, 0.104, 0.254, 0.183],\n",
              "       [0.059, 0.29 , 0.429, 0.174, 0.128, 0.202, 0.038, 0.   ],\n",
              "       [0.   , 0.6  , 0.163, 0.304, 0.214, 0.509, 0.944, 0.2  ]])"
            ]
          },
          "execution_count": 10,
          "metadata": {},
          "output_type": "execute_result"
        }
      ],
      "source": [
        "rescaled_features[0:5]"
      ]
    },
    {
      "cell_type": "code",
      "execution_count": null,
      "metadata": {
        "id": "O4eTTOtdT2Mo",
        "outputId": "707c0477-604e-4fcb-db6a-52d9359ea086"
      },
      "outputs": [
        {
          "data": {
            "text/html": [
              "<div>\n",
              "<style scoped>\n",
              "    .dataframe tbody tr th:only-of-type {\n",
              "        vertical-align: middle;\n",
              "    }\n",
              "\n",
              "    .dataframe tbody tr th {\n",
              "        vertical-align: top;\n",
              "    }\n",
              "\n",
              "    .dataframe thead th {\n",
              "        text-align: right;\n",
              "    }\n",
              "</style>\n",
              "<table border=\"1\" class=\"dataframe\">\n",
              "  <thead>\n",
              "    <tr style=\"text-align: right;\">\n",
              "      <th></th>\n",
              "      <th>Pregnancies</th>\n",
              "      <th>Glucose</th>\n",
              "      <th>BloodPressure</th>\n",
              "      <th>SkinThickness</th>\n",
              "      <th>Insulin</th>\n",
              "      <th>BMI</th>\n",
              "      <th>DiabetesPedigreeFunction</th>\n",
              "      <th>Age</th>\n",
              "    </tr>\n",
              "  </thead>\n",
              "  <tbody>\n",
              "    <tr>\n",
              "      <td>count</td>\n",
              "      <td>768.000000</td>\n",
              "      <td>768.000000</td>\n",
              "      <td>768.000000</td>\n",
              "      <td>768.000000</td>\n",
              "      <td>768.000000</td>\n",
              "      <td>768.000000</td>\n",
              "      <td>768.000000</td>\n",
              "      <td>768.000000</td>\n",
              "    </tr>\n",
              "    <tr>\n",
              "      <td>mean</td>\n",
              "      <td>0.226180</td>\n",
              "      <td>0.501008</td>\n",
              "      <td>0.493930</td>\n",
              "      <td>0.249943</td>\n",
              "      <td>0.196371</td>\n",
              "      <td>0.291430</td>\n",
              "      <td>0.168179</td>\n",
              "      <td>0.204015</td>\n",
              "    </tr>\n",
              "    <tr>\n",
              "      <td>std</td>\n",
              "      <td>0.198210</td>\n",
              "      <td>0.196376</td>\n",
              "      <td>0.123432</td>\n",
              "      <td>0.096592</td>\n",
              "      <td>0.112694</td>\n",
              "      <td>0.140601</td>\n",
              "      <td>0.141473</td>\n",
              "      <td>0.196004</td>\n",
              "    </tr>\n",
              "    <tr>\n",
              "      <td>min</td>\n",
              "      <td>0.000000</td>\n",
              "      <td>0.000000</td>\n",
              "      <td>0.000000</td>\n",
              "      <td>0.000000</td>\n",
              "      <td>0.000000</td>\n",
              "      <td>0.000000</td>\n",
              "      <td>0.000000</td>\n",
              "      <td>0.000000</td>\n",
              "    </tr>\n",
              "    <tr>\n",
              "      <td>25%</td>\n",
              "      <td>0.058824</td>\n",
              "      <td>0.359677</td>\n",
              "      <td>0.408163</td>\n",
              "      <td>0.195652</td>\n",
              "      <td>0.123520</td>\n",
              "      <td>0.190184</td>\n",
              "      <td>0.070773</td>\n",
              "      <td>0.050000</td>\n",
              "    </tr>\n",
              "    <tr>\n",
              "      <td>50%</td>\n",
              "      <td>0.176471</td>\n",
              "      <td>0.470968</td>\n",
              "      <td>0.491863</td>\n",
              "      <td>0.271739</td>\n",
              "      <td>0.171197</td>\n",
              "      <td>0.282209</td>\n",
              "      <td>0.125747</td>\n",
              "      <td>0.133333</td>\n",
              "    </tr>\n",
              "    <tr>\n",
              "      <td>75%</td>\n",
              "      <td>0.352941</td>\n",
              "      <td>0.620968</td>\n",
              "      <td>0.571429</td>\n",
              "      <td>0.271739</td>\n",
              "      <td>0.239315</td>\n",
              "      <td>0.376278</td>\n",
              "      <td>0.234095</td>\n",
              "      <td>0.333333</td>\n",
              "    </tr>\n",
              "    <tr>\n",
              "      <td>max</td>\n",
              "      <td>1.000000</td>\n",
              "      <td>1.000000</td>\n",
              "      <td>1.000000</td>\n",
              "      <td>1.000000</td>\n",
              "      <td>1.000000</td>\n",
              "      <td>1.000000</td>\n",
              "      <td>1.000000</td>\n",
              "      <td>1.000000</td>\n",
              "    </tr>\n",
              "  </tbody>\n",
              "</table>\n",
              "</div>"
            ],
            "text/plain": [
              "       Pregnancies     Glucose  BloodPressure  SkinThickness     Insulin  \\\n",
              "count   768.000000  768.000000     768.000000     768.000000  768.000000   \n",
              "mean      0.226180    0.501008       0.493930       0.249943    0.196371   \n",
              "std       0.198210    0.196376       0.123432       0.096592    0.112694   \n",
              "min       0.000000    0.000000       0.000000       0.000000    0.000000   \n",
              "25%       0.058824    0.359677       0.408163       0.195652    0.123520   \n",
              "50%       0.176471    0.470968       0.491863       0.271739    0.171197   \n",
              "75%       0.352941    0.620968       0.571429       0.271739    0.239315   \n",
              "max       1.000000    1.000000       1.000000       1.000000    1.000000   \n",
              "\n",
              "              BMI  DiabetesPedigreeFunction         Age  \n",
              "count  768.000000                768.000000  768.000000  \n",
              "mean     0.291430                  0.168179    0.204015  \n",
              "std      0.140601                  0.141473    0.196004  \n",
              "min      0.000000                  0.000000    0.000000  \n",
              "25%      0.190184                  0.070773    0.050000  \n",
              "50%      0.282209                  0.125747    0.133333  \n",
              "75%      0.376278                  0.234095    0.333333  \n",
              "max      1.000000                  1.000000    1.000000  "
            ]
          },
          "execution_count": 11,
          "metadata": {},
          "output_type": "execute_result"
        }
      ],
      "source": [
        "rescaled_features_df = pd.DataFrame(rescaled_features, columns=features_df.columns)\n",
        "\n",
        "rescaled_features_df.describe()"
      ]
    },
    {
      "cell_type": "code",
      "execution_count": null,
      "metadata": {
        "id": "xNBZBvKdT2Mp",
        "outputId": "f487356b-7b8b-4a3e-f44b-17e7ed940085"
      },
      "outputs": [
        {
          "data": {
            "image/png": "[encoded data removed]",
            "text/plain": [
              "<Figure size 864x576 with 1 Axes>"
            ]
          },
          "metadata": {},
          "output_type": "display_data"
        }
      ],
      "source": [
        "rescaled_features_df.boxplot(figsize=(12, 8), rot=45)\n",
        "\n",
        "plt.show()"
      ]
    },
    {
      "cell_type": "markdown",
      "metadata": {
        "id": "JUU5FsQIT2Mp"
      },
      "source": [
        "### Standardize Data\n",
        "https://scikit-learn.org/stable/modules/generated/sklearn.preprocessing.StandardScaler.html"
      ]
    },
    {
      "cell_type": "markdown",
      "metadata": {
        "id": "TeB3v5GLT2Mp"
      },
      "source": [
        "Standardization is a useful technique to transform attributes with a Gaussian distribution and differing means and standard deviations to a standard Gaussian distribution with a mean of 0 and a standard deviation of 1."
      ]
    },
    {
      "cell_type": "code",
      "execution_count": null,
      "metadata": {
        "id": "Ww5YeaJRT2Mq"
      },
      "outputs": [],
      "source": [
        "from sklearn.preprocessing import StandardScaler"
      ]
    },
    {
      "cell_type": "code",
      "execution_count": null,
      "metadata": {
        "id": "LHOYYfTsT2Mq"
      },
      "outputs": [],
      "source": [
        "scaler = StandardScaler()\n",
        "\n",
        "scaler = scaler.fit(features_df)\n",
        "\n",
        "standardized_features = scaler.transform(features_df)"
      ]
    },
    {
      "cell_type": "code",
      "execution_count": null,
      "metadata": {
        "id": "3mF0MjQpT2Mr",
        "outputId": "3d0cf33a-b0a5-4b91-ea5c-42b0f0d22830"
      },
      "outputs": [
        {
          "data": {
            "text/plain": [
              "array([[ 0.64 ,  0.866, -0.034,  0.564,  0.682,  0.167,  0.468,  1.426],\n",
              "       [-0.845, -1.205, -0.53 , -0.112, -0.849, -0.852, -0.365, -0.191],\n",
              "       [ 1.234,  2.017, -0.695,  0.226,  1.212, -1.332,  0.604, -0.106],\n",
              "       [-0.845, -1.074, -0.53 , -0.788, -0.605, -0.633, -0.921, -1.042],\n",
              "       [-1.142,  0.504, -2.681,  0.564,  0.156,  1.55 ,  5.485, -0.02 ]])"
            ]
          },
          "execution_count": 15,
          "metadata": {},
          "output_type": "execute_result"
        }
      ],
      "source": [
        "standardized_features[0:5]"
      ]
    },
    {
      "cell_type": "code",
      "execution_count": null,
      "metadata": {
        "id": "LkjIpt-YT2Mr",
        "outputId": "f08361a4-7227-41f5-c3d7-ec42ac864af9"
      },
      "outputs": [
        {
          "data": {
            "text/html": [
              "<div>\n",
              "<style scoped>\n",
              "    .dataframe tbody tr th:only-of-type {\n",
              "        vertical-align: middle;\n",
              "    }\n",
              "\n",
              "    .dataframe tbody tr th {\n",
              "        vertical-align: top;\n",
              "    }\n",
              "\n",
              "    .dataframe thead th {\n",
              "        text-align: right;\n",
              "    }\n",
              "</style>\n",
              "<table border=\"1\" class=\"dataframe\">\n",
              "  <thead>\n",
              "    <tr style=\"text-align: right;\">\n",
              "      <th></th>\n",
              "      <th>Pregnancies</th>\n",
              "      <th>Glucose</th>\n",
              "      <th>BloodPressure</th>\n",
              "      <th>SkinThickness</th>\n",
              "      <th>Insulin</th>\n",
              "      <th>BMI</th>\n",
              "      <th>DiabetesPedigreeFunction</th>\n",
              "      <th>Age</th>\n",
              "    </tr>\n",
              "  </thead>\n",
              "  <tbody>\n",
              "    <tr>\n",
              "      <td>count</td>\n",
              "      <td>7.680000e+02</td>\n",
              "      <td>7.680000e+02</td>\n",
              "      <td>7.680000e+02</td>\n",
              "      <td>7.680000e+02</td>\n",
              "      <td>7.680000e+02</td>\n",
              "      <td>7.680000e+02</td>\n",
              "      <td>7.680000e+02</td>\n",
              "      <td>7.680000e+02</td>\n",
              "    </tr>\n",
              "    <tr>\n",
              "      <td>mean</td>\n",
              "      <td>2.544261e-17</td>\n",
              "      <td>7.661695e-18</td>\n",
              "      <td>-4.474864e-16</td>\n",
              "      <td>3.850725e-17</td>\n",
              "      <td>-2.177078e-16</td>\n",
              "      <td>4.803738e-16</td>\n",
              "      <td>2.491497e-16</td>\n",
              "      <td>1.857600e-16</td>\n",
              "    </tr>\n",
              "    <tr>\n",
              "      <td>std</td>\n",
              "      <td>1.000652e+00</td>\n",
              "      <td>1.000652e+00</td>\n",
              "      <td>1.000652e+00</td>\n",
              "      <td>1.000652e+00</td>\n",
              "      <td>1.000652e+00</td>\n",
              "      <td>1.000652e+00</td>\n",
              "      <td>1.000652e+00</td>\n",
              "      <td>1.000652e+00</td>\n",
              "    </tr>\n",
              "    <tr>\n",
              "      <td>min</td>\n",
              "      <td>-1.141852e+00</td>\n",
              "      <td>-2.552931e+00</td>\n",
              "      <td>-4.004245e+00</td>\n",
              "      <td>-2.589294e+00</td>\n",
              "      <td>-1.743642e+00</td>\n",
              "      <td>-2.074100e+00</td>\n",
              "      <td>-1.189553e+00</td>\n",
              "      <td>-1.041549e+00</td>\n",
              "    </tr>\n",
              "    <tr>\n",
              "      <td>25%</td>\n",
              "      <td>-8.448851e-01</td>\n",
              "      <td>-7.201630e-01</td>\n",
              "      <td>-6.953060e-01</td>\n",
              "      <td>-5.624310e-01</td>\n",
              "      <td>-6.468694e-01</td>\n",
              "      <td>-7.205635e-01</td>\n",
              "      <td>-6.889685e-01</td>\n",
              "      <td>-7.862862e-01</td>\n",
              "    </tr>\n",
              "    <tr>\n",
              "      <td>50%</td>\n",
              "      <td>-2.509521e-01</td>\n",
              "      <td>-1.530732e-01</td>\n",
              "      <td>-1.675912e-02</td>\n",
              "      <td>2.257935e-01</td>\n",
              "      <td>-2.235283e-01</td>\n",
              "      <td>-6.562636e-02</td>\n",
              "      <td>-3.001282e-01</td>\n",
              "      <td>-3.608474e-01</td>\n",
              "    </tr>\n",
              "    <tr>\n",
              "      <td>75%</td>\n",
              "      <td>6.399473e-01</td>\n",
              "      <td>6.112653e-01</td>\n",
              "      <td>6.282695e-01</td>\n",
              "      <td>2.257935e-01</td>\n",
              "      <td>3.813170e-01</td>\n",
              "      <td>6.038649e-01</td>\n",
              "      <td>4.662269e-01</td>\n",
              "      <td>6.602056e-01</td>\n",
              "    </tr>\n",
              "    <tr>\n",
              "      <td>max</td>\n",
              "      <td>3.906578e+00</td>\n",
              "      <td>2.542658e+00</td>\n",
              "      <td>4.102655e+00</td>\n",
              "      <td>7.770228e+00</td>\n",
              "      <td>7.135692e+00</td>\n",
              "      <td>5.042883e+00</td>\n",
              "      <td>5.883565e+00</td>\n",
              "      <td>4.063716e+00</td>\n",
              "    </tr>\n",
              "  </tbody>\n",
              "</table>\n",
              "</div>"
            ],
            "text/plain": [
              "        Pregnancies       Glucose  BloodPressure  SkinThickness       Insulin  \\\n",
              "count  7.680000e+02  7.680000e+02   7.680000e+02   7.680000e+02  7.680000e+02   \n",
              "mean   2.544261e-17  7.661695e-18  -4.474864e-16   3.850725e-17 -2.177078e-16   \n",
              "std    1.000652e+00  1.000652e+00   1.000652e+00   1.000652e+00  1.000652e+00   \n",
              "min   -1.141852e+00 -2.552931e+00  -4.004245e+00  -2.589294e+00 -1.743642e+00   \n",
              "25%   -8.448851e-01 -7.201630e-01  -6.953060e-01  -5.624310e-01 -6.468694e-01   \n",
              "50%   -2.509521e-01 -1.530732e-01  -1.675912e-02   2.257935e-01 -2.235283e-01   \n",
              "75%    6.399473e-01  6.112653e-01   6.282695e-01   2.257935e-01  3.813170e-01   \n",
              "max    3.906578e+00  2.542658e+00   4.102655e+00   7.770228e+00  7.135692e+00   \n",
              "\n",
              "                BMI  DiabetesPedigreeFunction           Age  \n",
              "count  7.680000e+02              7.680000e+02  7.680000e+02  \n",
              "mean   4.803738e-16              2.491497e-16  1.857600e-16  \n",
              "std    1.000652e+00              1.000652e+00  1.000652e+00  \n",
              "min   -2.074100e+00             -1.189553e+00 -1.041549e+00  \n",
              "25%   -7.205635e-01             -6.889685e-01 -7.862862e-01  \n",
              "50%   -6.562636e-02             -3.001282e-01 -3.608474e-01  \n",
              "75%    6.038649e-01              4.662269e-01  6.602056e-01  \n",
              "max    5.042883e+00              5.883565e+00  4.063716e+00  "
            ]
          },
          "execution_count": 16,
          "metadata": {},
          "output_type": "execute_result"
        }
      ],
      "source": [
        "standardized_features_df = pd.DataFrame(standardized_features, columns=features_df.columns)\n",
        "\n",
        "standardized_features_df.describe()"
      ]
    },
    {
      "cell_type": "code",
      "execution_count": null,
      "metadata": {
        "id": "FI2XGEmnT2Mr",
        "outputId": "22366b56-c1b2-45b5-8e81-b617bf1fe2ff"
      },
      "outputs": [
        {
          "data": {
            "image/png": "[encoded data removed]",
            "text/plain": [
              "<Figure size 864x576 with 1 Axes>"
            ]
          },
          "metadata": {},
          "output_type": "display_data"
        }
      ],
      "source": [
        "standardized_features_df.boxplot(figsize=(12, 8), rot=45)\n",
        "\n",
        "plt.show()"
      ]
    },
    {
      "cell_type": "markdown",
      "metadata": {
        "id": "3_Xr46CXT2Mr"
      },
      "source": [
        "### Normalize Data\n",
        "https://scikit-learn.org/stable/modules/generated/sklearn.preprocessing.Normalizer.html\n",
        "\n",
        "Normalization applies a transformation to each row (sample) in the data so that it fulfils a norm condition. For example, if the value of features in a row are f1, f2, f3...fn then:\n",
        "* <b>L1 norm:</b> |f1| + |f2| + |f3| ... |fn| = 1\n",
        "* <b>L2 norm:</b> sqrt(f1<sup>2</sup> + f2<sup>2</sup> + f3<sup>2</sup>...fn<sup>2</sup>) = 1\n",
        "* <b>Max norm:</b> Each value is expressed as a proportion of a max value in the row"
      ]
    },
    {
      "cell_type": "code",
      "execution_count": null,
      "metadata": {
        "id": "Kft77unZT2Ms"
      },
      "outputs": [],
      "source": [
        "from sklearn.preprocessing import Normalizer"
      ]
    },
    {
      "cell_type": "code",
      "execution_count": null,
      "metadata": {
        "id": "TMvkoQitT2Ms"
      },
      "outputs": [],
      "source": [
        "normalizer = Normalizer(norm='l1')\n",
        "\n",
        "normalized_features = normalizer.fit_transform(features_df)"
      ]
    },
    {
      "cell_type": "code",
      "execution_count": null,
      "metadata": {
        "id": "PI-TpPGWT2Ms",
        "outputId": "29f81eaa-fbae-4747-cbcd-c73d81c0e95c"
      },
      "outputs": [
        {
          "data": {
            "text/plain": [
              "array([[0.011, 0.262, 0.128, 0.062, 0.388, 0.06 , 0.001, 0.089],\n",
              "       [0.003, 0.275, 0.213, 0.094, 0.227, 0.086, 0.001, 0.1  ],\n",
              "       [0.013, 0.298, 0.104, 0.052, 0.441, 0.038, 0.001, 0.052],\n",
              "       [0.003, 0.276, 0.205, 0.071, 0.292, 0.087, 0.001, 0.065],\n",
              "       [0.   , 0.299, 0.087, 0.076, 0.367, 0.094, 0.005, 0.072]])"
            ]
          },
          "execution_count": 20,
          "metadata": {},
          "output_type": "execute_result"
        }
      ],
      "source": [
        "normalized_features[0:5]"
      ]
    },
    {
      "cell_type": "code",
      "execution_count": null,
      "metadata": {
        "id": "EWePCRudT2Mt"
      },
      "outputs": [],
      "source": [
        "l1_normalized_features_df = pd.DataFrame(normalized_features, \n",
        "                                         columns=features_df.columns)"
      ]
    },
    {
      "cell_type": "code",
      "execution_count": null,
      "metadata": {
        "id": "gERbg133T2Mt",
        "outputId": "f55e114c-b1be-4fd7-a138-8044092d2e19"
      },
      "outputs": [
        {
          "data": {
            "text/plain": [
              "Pregnancies                 0.010633\n",
              "Glucose                     0.262293\n",
              "BloodPressure               0.127602\n",
              "SkinThickness               0.062029\n",
              "Insulin                     0.388172\n",
              "BMI                         0.059548\n",
              "DiabetesPedigreeFunction    0.001111\n",
              "Age                         0.088612\n",
              "Name: 0, dtype: float64"
            ]
          },
          "execution_count": 22,
          "metadata": {},
          "output_type": "execute_result"
        }
      ],
      "source": [
        "l1_normalized_features_df.iloc[0]"
      ]
    },
    {
      "cell_type": "code",
      "execution_count": null,
      "metadata": {
        "id": "dmUb_94gT2Mt",
        "outputId": "1267510b-9521-4708-99dd-30064b0c2011"
      },
      "outputs": [
        {
          "data": {
            "text/plain": [
              "1.0"
            ]
          },
          "execution_count": 23,
          "metadata": {},
          "output_type": "execute_result"
        }
      ],
      "source": [
        "l1_normalized_features_df.iloc[0].abs().sum()"
      ]
    },
    {
      "cell_type": "code",
      "execution_count": null,
      "metadata": {
        "id": "vFrjW_1rT2Mt"
      },
      "outputs": [],
      "source": [
        "normalizer = Normalizer(norm='l2')\n",
        "\n",
        "normalized_features = normalizer.fit_transform(features_df)\n",
        "\n",
        "\n",
        "l2_normalized_features_df = pd.DataFrame(normalized_features, \n",
        "                                         columns=features_df.columns)"
      ]
    },
    {
      "cell_type": "code",
      "execution_count": null,
      "metadata": {
        "id": "2RkNfwOwT2Mu",
        "outputId": "e4b4d9fc-864a-4360-8287-eb16819b548a"
      },
      "outputs": [
        {
          "data": {
            "text/plain": [
              "Pregnancies                 0.000450\n",
              "Glucose                     0.273965\n",
              "BloodPressure               0.064839\n",
              "SkinThickness               0.015322\n",
              "Insulin                     0.600030\n",
              "BMI                         0.014121\n",
              "DiabetesPedigreeFunction    0.000005\n",
              "Age                         0.031269\n",
              "Name: 0, dtype: float64"
            ]
          },
          "execution_count": 25,
          "metadata": {},
          "output_type": "execute_result"
        }
      ],
      "source": [
        "l2_normalized_features_df.iloc[0].pow(2)"
      ]
    },
    {
      "cell_type": "code",
      "execution_count": null,
      "metadata": {
        "id": "GhW-DNRyT2Mu",
        "outputId": "4268a145-63f1-4a2f-8b28-ce0eba726862"
      },
      "outputs": [
        {
          "data": {
            "text/plain": [
              "1.0"
            ]
          },
          "execution_count": 26,
          "metadata": {},
          "output_type": "execute_result"
        }
      ],
      "source": [
        "l2_normalized_features_df.iloc[0].pow(2).sum()"
      ]
    },
    {
      "cell_type": "code",
      "execution_count": null,
      "metadata": {
        "id": "_m3aEQGPT2Mu"
      },
      "outputs": [],
      "source": [
        "normalizer = Normalizer(norm='max')\n",
        "\n",
        "normalized_features = normalizer.fit_transform(features_df)\n",
        "\n",
        "\n",
        "max_normalized_features_df = pd.DataFrame(normalized_features, \n",
        "                                         columns=features_df.columns)"
      ]
    },
    {
      "cell_type": "code",
      "execution_count": null,
      "metadata": {
        "id": "n8eFHL45T2Mv",
        "outputId": "089e2c4d-c483-4fe0-c515-f56a0cc59f52"
      },
      "outputs": [
        {
          "data": {
            "text/html": [
              "<div>\n",
              "<style scoped>\n",
              "    .dataframe tbody tr th:only-of-type {\n",
              "        vertical-align: middle;\n",
              "    }\n",
              "\n",
              "    .dataframe tbody tr th {\n",
              "        vertical-align: top;\n",
              "    }\n",
              "\n",
              "    .dataframe thead th {\n",
              "        text-align: right;\n",
              "    }\n",
              "</style>\n",
              "<table border=\"1\" class=\"dataframe\">\n",
              "  <thead>\n",
              "    <tr style=\"text-align: right;\">\n",
              "      <th></th>\n",
              "      <th>Pregnancies</th>\n",
              "      <th>Glucose</th>\n",
              "      <th>BloodPressure</th>\n",
              "      <th>SkinThickness</th>\n",
              "      <th>Insulin</th>\n",
              "      <th>BMI</th>\n",
              "      <th>DiabetesPedigreeFunction</th>\n",
              "      <th>Age</th>\n",
              "    </tr>\n",
              "  </thead>\n",
              "  <tbody>\n",
              "    <tr>\n",
              "      <td>0</td>\n",
              "      <td>0.027394</td>\n",
              "      <td>0.675711</td>\n",
              "      <td>0.328724</td>\n",
              "      <td>0.159797</td>\n",
              "      <td>1.000000</td>\n",
              "      <td>0.153405</td>\n",
              "      <td>0.002863</td>\n",
              "      <td>0.228281</td>\n",
              "    </tr>\n",
              "    <tr>\n",
              "      <td>1</td>\n",
              "      <td>0.011765</td>\n",
              "      <td>1.000000</td>\n",
              "      <td>0.776471</td>\n",
              "      <td>0.341176</td>\n",
              "      <td>0.827548</td>\n",
              "      <td>0.312941</td>\n",
              "      <td>0.004129</td>\n",
              "      <td>0.364706</td>\n",
              "    </tr>\n",
              "    <tr>\n",
              "      <td>2</td>\n",
              "      <td>0.029567</td>\n",
              "      <td>0.676342</td>\n",
              "      <td>0.236535</td>\n",
              "      <td>0.118267</td>\n",
              "      <td>1.000000</td>\n",
              "      <td>0.086113</td>\n",
              "      <td>0.002484</td>\n",
              "      <td>0.118267</td>\n",
              "    </tr>\n",
              "    <tr>\n",
              "      <td>3</td>\n",
              "      <td>0.010638</td>\n",
              "      <td>0.946809</td>\n",
              "      <td>0.702128</td>\n",
              "      <td>0.244681</td>\n",
              "      <td>1.000000</td>\n",
              "      <td>0.298936</td>\n",
              "      <td>0.001777</td>\n",
              "      <td>0.223404</td>\n",
              "    </tr>\n",
              "    <tr>\n",
              "      <td>4</td>\n",
              "      <td>0.000000</td>\n",
              "      <td>0.815476</td>\n",
              "      <td>0.238095</td>\n",
              "      <td>0.208333</td>\n",
              "      <td>1.000000</td>\n",
              "      <td>0.256548</td>\n",
              "      <td>0.013619</td>\n",
              "      <td>0.196429</td>\n",
              "    </tr>\n",
              "  </tbody>\n",
              "</table>\n",
              "</div>"
            ],
            "text/plain": [
              "   Pregnancies   Glucose  BloodPressure  SkinThickness   Insulin       BMI  \\\n",
              "0     0.027394  0.675711       0.328724       0.159797  1.000000  0.153405   \n",
              "1     0.011765  1.000000       0.776471       0.341176  0.827548  0.312941   \n",
              "2     0.029567  0.676342       0.236535       0.118267  1.000000  0.086113   \n",
              "3     0.010638  0.946809       0.702128       0.244681  1.000000  0.298936   \n",
              "4     0.000000  0.815476       0.238095       0.208333  1.000000  0.256548   \n",
              "\n",
              "   DiabetesPedigreeFunction       Age  \n",
              "0                  0.002863  0.228281  \n",
              "1                  0.004129  0.364706  \n",
              "2                  0.002484  0.118267  \n",
              "3                  0.001777  0.223404  \n",
              "4                  0.013619  0.196429  "
            ]
          },
          "execution_count": 28,
          "metadata": {},
          "output_type": "execute_result"
        }
      ],
      "source": [
        "max_normalized_features_df.head()"
      ]
    },
    {
      "cell_type": "markdown",
      "metadata": {
        "id": "oAdFnGnuT2Mv"
      },
      "source": [
        "### Binarize Data\n",
        "https://scikit-learn.org/stable/modules/generated/sklearn.preprocessing.Binarizer.html  \n",
        "\n",
        "##### You can transform your data using a binary threshold. All values above the threshold are marked 1 and all equal to or below are marked as 0. Here we are taking mean as threshold value."
      ]
    },
    {
      "cell_type": "code",
      "execution_count": null,
      "metadata": {
        "id": "kMf9o40VT2Mw"
      },
      "outputs": [],
      "source": [
        "from sklearn.preprocessing import Binarizer"
      ]
    },
    {
      "cell_type": "markdown",
      "metadata": {
        "id": "j1Oosi7QT2Mx"
      },
      "source": [
        "##### First we are using binarizer for first column 'Pregnancies'"
      ]
    },
    {
      "cell_type": "code",
      "execution_count": null,
      "metadata": {
        "id": "u7dFbZKeT2Mx"
      },
      "outputs": [],
      "source": [
        "binarizer = Binarizer(threshold=float((features_df[['Pregnancies']]).mean()))\n",
        "\n",
        "binarized_features = binarizer.fit_transform(features_df[['Pregnancies']])"
      ]
    },
    {
      "cell_type": "code",
      "execution_count": null,
      "metadata": {
        "id": "FlMH3LuMT2My",
        "outputId": "b55b4b7a-1d57-443d-f462-8f0999a66bd6"
      },
      "outputs": [
        {
          "data": {
            "text/plain": [
              "array([[1.],\n",
              "       [0.],\n",
              "       [1.],\n",
              "       [0.],\n",
              "       [0.],\n",
              "       [1.],\n",
              "       [0.],\n",
              "       [1.],\n",
              "       [0.],\n",
              "       [1.]])"
            ]
          },
          "execution_count": 31,
          "metadata": {},
          "output_type": "execute_result"
        }
      ],
      "source": [
        "binarized_features[0:10]"
      ]
    },
    {
      "cell_type": "markdown",
      "metadata": {
        "id": "AyYlajB9T2My"
      },
      "source": [
        "#### This time we are using a for loop and one by one binarizing all the columns and concatenating with the already existing array 'binarized_features'. Notice that we are staring the for loop with 1 because first column is already binarized."
      ]
    },
    {
      "cell_type": "code",
      "execution_count": null,
      "metadata": {
        "id": "BRsZh3VOT2My"
      },
      "outputs": [],
      "source": [
        "for i in range(1, features_df.shape[1]):\n",
        "    \n",
        "    scaler = Binarizer(threshold=float((features_df[[features_df.columns[i]]]).mean())). \\\n",
        "                                        fit(features_df[[features_df.columns[i]]])\n",
        "\n",
        "    new_binarized_feature = scaler.transform(features_df[[features_df.columns[i]]])\n",
        "    \n",
        "    binarized_features = np.concatenate((binarized_features, new_binarized_feature), axis=1)"
      ]
    },
    {
      "cell_type": "code",
      "execution_count": null,
      "metadata": {
        "id": "mq73UWSaT2Mz",
        "outputId": "67b86fdb-2128-44e1-963e-9fa5d05c9767"
      },
      "outputs": [
        {
          "data": {
            "text/plain": [
              "array([[1., 1., 0., 1., 1., 1., 1., 1.],\n",
              "       [0., 0., 0., 0., 0., 0., 0., 0.],\n",
              "       [1., 1., 0., 1., 1., 0., 1., 0.],\n",
              "       [0., 0., 0., 0., 0., 0., 0., 0.],\n",
              "       [0., 1., 0., 1., 1., 1., 1., 0.],\n",
              "       [1., 0., 1., 1., 0., 0., 0., 0.],\n",
              "       [0., 0., 0., 1., 0., 0., 0., 0.],\n",
              "       [1., 0., 0., 1., 0., 1., 0., 0.],\n",
              "       [0., 1., 0., 1., 1., 0., 0., 1.],\n",
              "       [1., 1., 1., 1., 1., 0., 0., 1.]])"
            ]
          },
          "execution_count": 33,
          "metadata": {},
          "output_type": "execute_result"
        }
      ],
      "source": [
        "binarized_features[0:10]"
      ]
    },
    {
      "cell_type": "markdown",
      "metadata": {
        "id": "j-CTwWx5T2Mz"
      },
      "source": [
        "#### Logistic Regression\n",
        "https://scikit-learn.org/stable/modules/generated/sklearn.linear_model.LogisticRegression.html"
      ]
    },
    {
      "cell_type": "code",
      "execution_count": null,
      "metadata": {
        "id": "2VAcZBJST2Mz"
      },
      "outputs": [],
      "source": [
        "from sklearn.linear_model import LogisticRegression\n",
        "from sklearn.model_selection import train_test_split\n",
        "from sklearn.metrics import accuracy_score"
      ]
    },
    {
      "cell_type": "code",
      "execution_count": null,
      "metadata": {
        "id": "AbJjW83PT2M0"
      },
      "outputs": [],
      "source": [
        "def build_model(X, Y, test_frac):\n",
        "    \n",
        "    x_train, x_test, y_train, y_test = train_test_split(X, Y, test_size=test_frac)\n",
        "    \n",
        "    model = LogisticRegression(solver='liblinear').fit(x_train, y_train)\n",
        "    y_pred = model.predict(x_test)\n",
        "    \n",
        "    print(\"Test_score : \", accuracy_score(y_test, y_pred))"
      ]
    },
    {
      "cell_type": "code",
      "execution_count": null,
      "metadata": {
        "id": "QrA6GZ4pT2M1",
        "outputId": "2d33f2e3-4bef-4007-dcd6-a0a26e136b9b"
      },
      "outputs": [
        {
          "name": "stdout",
          "output_type": "stream",
          "text": [
            "Test_score :  0.7922077922077922\n"
          ]
        }
      ],
      "source": [
        "build_model(rescaled_features, target_df, 0.2)"
      ]
    },
    {
      "cell_type": "code",
      "execution_count": null,
      "metadata": {
        "id": "LmUx6faST2M1",
        "outputId": "9a19931d-dbad-4a91-a684-37bf35daffe0"
      },
      "outputs": [
        {
          "name": "stdout",
          "output_type": "stream",
          "text": [
            "Test_score :  0.7272727272727273\n"
          ]
        }
      ],
      "source": [
        "build_model(standardized_features, target_df, 0.2)"
      ]
    },
    {
      "cell_type": "code",
      "execution_count": null,
      "metadata": {
        "id": "6c_rM2OxT2M1",
        "outputId": "e502850c-fdd7-4b4e-e206-1f66c5db1b21"
      },
      "outputs": [
        {
          "name": "stdout",
          "output_type": "stream",
          "text": [
            "Test_score :  0.7207792207792207\n"
          ]
        }
      ],
      "source": [
        "build_model(normalized_features, target_df, 0.2)"
      ]
    },
    {
      "cell_type": "code",
      "execution_count": null,
      "metadata": {
        "id": "GVMhqiJRT2M2",
        "outputId": "63415951-0815-41dc-d55b-b864b8713363"
      },
      "outputs": [
        {
          "name": "stdout",
          "output_type": "stream",
          "text": [
            "Test_score :  0.7207792207792207\n"
          ]
        }
      ],
      "source": [
        "build_model(binarized_features, target_df, 0.2)"
      ]
    },
    {
      "cell_type": "code",
      "execution_count": null,
      "metadata": {
        "id": "5wpgOtWlT2M2"
      },
      "outputs": [],
      "source": [
        ""
      ]
    },
    {
      "cell_type": "code",
      "execution_count": null,
      "metadata": {
        "id": "mHTbP2HPT2M2"
      },
      "outputs": [],
      "source": [
        ""
      ]
    },
    {
      "cell_type": "code",
      "execution_count": null,
      "metadata": {
        "id": "VlXusjM2T2M2"
      },
      "outputs": [],
      "source": [
        ""
      ]
    },
    {
      "cell_type": "code",
      "execution_count": null,
      "metadata": {
        "id": "zs9WUNwcT2M2"
      },
      "outputs": [],
      "source": [
        ""
      ]
    },
    {
      "cell_type": "code",
      "execution_count": null,
      "metadata": {
        "id": "XHtRtroNT2M2"
      },
      "outputs": [],
      "source": [
        ""
      ]
    }
  ],
  "metadata": {
    "kernelspec": {
      "display_name": "Python 3",
      "language": "python",
      "name": "python3"
    },
    "language_info": {
      "codemirror_mode": {
        "name": "ipython",
        "version": 3
      },
      "file_extension": ".py",
      "mimetype": "text/x-python",
      "name": "python",
      "nbconvert_exporter": "python",
      "pygments_lexer": "ipython3",
      "version": "3.6.4"
    },
    "colab": {
      "name": "eatureScalingAndTransformation.ipynb",
      "provenance": [],
      "include_colab_link": true
    }
  },
  "nbformat": 4,
  "nbformat_minor": 0
}