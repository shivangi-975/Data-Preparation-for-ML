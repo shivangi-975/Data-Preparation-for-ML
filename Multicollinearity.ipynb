{
  "cells": [
    {
      "cell_type": "markdown",
      "metadata": {
        "id": "view-in-github",
        "colab_type": "text"
      },
      "source": [
        "<a href=\"https://colab.research.google.com/github/shivangi-975/Data-Preparation-for-ML/blob/main/Multicollinearity.ipynb\" target=\"_parent\"><img src=\"https://colab.research.google.com/assets/colab-badge.svg\" alt=\"Open In Colab\"/></a>"
      ]
    },
    {
      "cell_type": "markdown",
      "metadata": {
        "id": "gx0dDQRCVsN3"
      },
      "source": [
        "### Importing libraries"
      ]
    },
    {
      "cell_type": "code",
      "execution_count": null,
      "metadata": {
        "id": "NjHzTCNpVsN5"
      },
      "outputs": [],
      "source": [
        "import pandas as pd"
      ]
    },
    {
      "cell_type": "markdown",
      "metadata": {
        "id": "eSxenIhIVsN6"
      },
      "source": [
        "### Loading dataset"
      ]
    },
    {
      "cell_type": "code",
      "execution_count": null,
      "metadata": {
        "id": "5mSUdoJiVsN7",
        "outputId": "adedd20d-f729-41b0-89fc-203c2f8365ac"
      },
      "outputs": [
        {
          "data": {
            "text/html": [
              "<div>\n",
              "<style scoped>\n",
              "    .dataframe tbody tr th:only-of-type {\n",
              "        vertical-align: middle;\n",
              "    }\n",
              "\n",
              "    .dataframe tbody tr th {\n",
              "        vertical-align: top;\n",
              "    }\n",
              "\n",
              "    .dataframe thead th {\n",
              "        text-align: right;\n",
              "    }\n",
              "</style>\n",
              "<table border=\"1\" class=\"dataframe\">\n",
              "  <thead>\n",
              "    <tr style=\"text-align: right;\">\n",
              "      <th></th>\n",
              "      <th>MPG</th>\n",
              "      <th>Cylinders</th>\n",
              "      <th>Displacement</th>\n",
              "      <th>Horsepower</th>\n",
              "      <th>Weight</th>\n",
              "      <th>Acceleration</th>\n",
              "      <th>Origin</th>\n",
              "      <th>Age</th>\n",
              "    </tr>\n",
              "  </thead>\n",
              "  <tbody>\n",
              "    <tr>\n",
              "      <td>0</td>\n",
              "      <td>18.000000</td>\n",
              "      <td>8</td>\n",
              "      <td>307.0</td>\n",
              "      <td>130</td>\n",
              "      <td>3504</td>\n",
              "      <td>12.0</td>\n",
              "      <td>US</td>\n",
              "      <td>49</td>\n",
              "    </tr>\n",
              "    <tr>\n",
              "      <td>1</td>\n",
              "      <td>16.000000</td>\n",
              "      <td>8</td>\n",
              "      <td>304.0</td>\n",
              "      <td>150</td>\n",
              "      <td>3433</td>\n",
              "      <td>12.0</td>\n",
              "      <td>US</td>\n",
              "      <td>49</td>\n",
              "    </tr>\n",
              "    <tr>\n",
              "      <td>2</td>\n",
              "      <td>17.000000</td>\n",
              "      <td>8</td>\n",
              "      <td>302.0</td>\n",
              "      <td>140</td>\n",
              "      <td>3449</td>\n",
              "      <td>10.5</td>\n",
              "      <td>US</td>\n",
              "      <td>49</td>\n",
              "    </tr>\n",
              "    <tr>\n",
              "      <td>3</td>\n",
              "      <td>14.000000</td>\n",
              "      <td>8</td>\n",
              "      <td>454.0</td>\n",
              "      <td>220</td>\n",
              "      <td>4354</td>\n",
              "      <td>9.0</td>\n",
              "      <td>US</td>\n",
              "      <td>49</td>\n",
              "    </tr>\n",
              "    <tr>\n",
              "      <td>4</td>\n",
              "      <td>23.551429</td>\n",
              "      <td>8</td>\n",
              "      <td>440.0</td>\n",
              "      <td>215</td>\n",
              "      <td>4312</td>\n",
              "      <td>8.5</td>\n",
              "      <td>US</td>\n",
              "      <td>49</td>\n",
              "    </tr>\n",
              "  </tbody>\n",
              "</table>\n",
              "</div>"
            ],
            "text/plain": [
              "         MPG  Cylinders  Displacement  Horsepower  Weight  Acceleration  \\\n",
              "0  18.000000          8         307.0         130    3504          12.0   \n",
              "1  16.000000          8         304.0         150    3433          12.0   \n",
              "2  17.000000          8         302.0         140    3449          10.5   \n",
              "3  14.000000          8         454.0         220    4354           9.0   \n",
              "4  23.551429          8         440.0         215    4312           8.5   \n",
              "\n",
              "  Origin  Age  \n",
              "0     US   49  \n",
              "1     US   49  \n",
              "2     US   49  \n",
              "3     US   49  \n",
              "4     US   49  "
            ]
          },
          "execution_count": 2,
          "metadata": {},
          "output_type": "execute_result"
        }
      ],
      "source": [
        "automobile = pd.read_csv('datasets/cars_processed.csv')\n",
        "\n",
        "automobile.head(5)"
      ]
    },
    {
      "cell_type": "code",
      "execution_count": null,
      "metadata": {
        "id": "aFVdNH5qVsN8",
        "outputId": "0e51df55-5ee4-44a5-f250-ccb671eb8ac9"
      },
      "outputs": [
        {
          "data": {
            "text/html": [
              "<div>\n",
              "<style scoped>\n",
              "    .dataframe tbody tr th:only-of-type {\n",
              "        vertical-align: middle;\n",
              "    }\n",
              "\n",
              "    .dataframe tbody tr th {\n",
              "        vertical-align: top;\n",
              "    }\n",
              "\n",
              "    .dataframe thead th {\n",
              "        text-align: right;\n",
              "    }\n",
              "</style>\n",
              "<table border=\"1\" class=\"dataframe\">\n",
              "  <thead>\n",
              "    <tr style=\"text-align: right;\">\n",
              "      <th></th>\n",
              "      <th>MPG</th>\n",
              "      <th>Cylinders</th>\n",
              "      <th>Displacement</th>\n",
              "      <th>Horsepower</th>\n",
              "      <th>Weight</th>\n",
              "      <th>Acceleration</th>\n",
              "      <th>Age</th>\n",
              "    </tr>\n",
              "  </thead>\n",
              "  <tbody>\n",
              "    <tr>\n",
              "      <td>count</td>\n",
              "      <td>387.000000</td>\n",
              "      <td>387.000000</td>\n",
              "      <td>387.000000</td>\n",
              "      <td>387.000000</td>\n",
              "      <td>387.000000</td>\n",
              "      <td>387.000000</td>\n",
              "      <td>387.000000</td>\n",
              "    </tr>\n",
              "    <tr>\n",
              "      <td>mean</td>\n",
              "      <td>23.672514</td>\n",
              "      <td>5.410853</td>\n",
              "      <td>192.184755</td>\n",
              "      <td>103.645995</td>\n",
              "      <td>2965.387597</td>\n",
              "      <td>15.573643</td>\n",
              "      <td>42.917313</td>\n",
              "    </tr>\n",
              "    <tr>\n",
              "      <td>std</td>\n",
              "      <td>7.736579</td>\n",
              "      <td>1.667795</td>\n",
              "      <td>103.703706</td>\n",
              "      <td>38.128651</td>\n",
              "      <td>846.332848</td>\n",
              "      <td>2.746260</td>\n",
              "      <td>3.668715</td>\n",
              "    </tr>\n",
              "    <tr>\n",
              "      <td>min</td>\n",
              "      <td>9.000000</td>\n",
              "      <td>3.000000</td>\n",
              "      <td>68.000000</td>\n",
              "      <td>46.000000</td>\n",
              "      <td>1613.000000</td>\n",
              "      <td>8.000000</td>\n",
              "      <td>37.000000</td>\n",
              "    </tr>\n",
              "    <tr>\n",
              "      <td>25%</td>\n",
              "      <td>17.600000</td>\n",
              "      <td>4.000000</td>\n",
              "      <td>102.500000</td>\n",
              "      <td>75.000000</td>\n",
              "      <td>2221.500000</td>\n",
              "      <td>13.900000</td>\n",
              "      <td>40.000000</td>\n",
              "    </tr>\n",
              "    <tr>\n",
              "      <td>50%</td>\n",
              "      <td>23.200000</td>\n",
              "      <td>4.000000</td>\n",
              "      <td>146.000000</td>\n",
              "      <td>92.000000</td>\n",
              "      <td>2790.000000</td>\n",
              "      <td>15.500000</td>\n",
              "      <td>43.000000</td>\n",
              "    </tr>\n",
              "    <tr>\n",
              "      <td>75%</td>\n",
              "      <td>29.000000</td>\n",
              "      <td>6.000000</td>\n",
              "      <td>260.000000</td>\n",
              "      <td>121.000000</td>\n",
              "      <td>3589.500000</td>\n",
              "      <td>17.050000</td>\n",
              "      <td>46.000000</td>\n",
              "    </tr>\n",
              "    <tr>\n",
              "      <td>max</td>\n",
              "      <td>46.600000</td>\n",
              "      <td>8.000000</td>\n",
              "      <td>455.000000</td>\n",
              "      <td>230.000000</td>\n",
              "      <td>5140.000000</td>\n",
              "      <td>24.800000</td>\n",
              "      <td>49.000000</td>\n",
              "    </tr>\n",
              "  </tbody>\n",
              "</table>\n",
              "</div>"
            ],
            "text/plain": [
              "              MPG   Cylinders  Displacement  Horsepower       Weight  \\\n",
              "count  387.000000  387.000000    387.000000  387.000000   387.000000   \n",
              "mean    23.672514    5.410853    192.184755  103.645995  2965.387597   \n",
              "std      7.736579    1.667795    103.703706   38.128651   846.332848   \n",
              "min      9.000000    3.000000     68.000000   46.000000  1613.000000   \n",
              "25%     17.600000    4.000000    102.500000   75.000000  2221.500000   \n",
              "50%     23.200000    4.000000    146.000000   92.000000  2790.000000   \n",
              "75%     29.000000    6.000000    260.000000  121.000000  3589.500000   \n",
              "max     46.600000    8.000000    455.000000  230.000000  5140.000000   \n",
              "\n",
              "       Acceleration         Age  \n",
              "count    387.000000  387.000000  \n",
              "mean      15.573643   42.917313  \n",
              "std        2.746260    3.668715  \n",
              "min        8.000000   37.000000  \n",
              "25%       13.900000   40.000000  \n",
              "50%       15.500000   43.000000  \n",
              "75%       17.050000   46.000000  \n",
              "max       24.800000   49.000000  "
            ]
          },
          "execution_count": 3,
          "metadata": {},
          "output_type": "execute_result"
        }
      ],
      "source": [
        "automobile.describe()"
      ]
    },
    {
      "cell_type": "markdown",
      "metadata": {
        "id": "VYoxvvGKVsN9"
      },
      "source": [
        "#### Preprocessing the features"
      ]
    },
    {
      "cell_type": "code",
      "execution_count": null,
      "metadata": {
        "id": "N_gEamsRVsN9"
      },
      "outputs": [],
      "source": [
        "from sklearn import preprocessing\n",
        "\n",
        "automobile[['Cylinders']] = preprocessing.scale(automobile[['Cylinders']].astype('float64'))\n",
        "automobile[['Displacement']] = preprocessing.scale(automobile[['Displacement']].astype('float64'))\n",
        "automobile[['Horsepower']] = preprocessing.scale(automobile[['Horsepower']].astype('float64'))\n",
        "automobile[['Weight']] = preprocessing.scale(automobile[['Weight']].astype('float64'))\n",
        "automobile[['Acceleration']] = preprocessing.scale(automobile[['Acceleration']].astype('float64'))\n",
        "automobile[['Age']] = preprocessing.scale(automobile[['Age']].astype('float64'))"
      ]
    },
    {
      "cell_type": "code",
      "execution_count": null,
      "metadata": {
        "id": "bjetmFeiVsN-",
        "outputId": "8fc82da7-90cc-4c2b-a2ef-94b00288ee62"
      },
      "outputs": [
        {
          "data": {
            "text/html": [
              "<div>\n",
              "<style scoped>\n",
              "    .dataframe tbody tr th:only-of-type {\n",
              "        vertical-align: middle;\n",
              "    }\n",
              "\n",
              "    .dataframe tbody tr th {\n",
              "        vertical-align: top;\n",
              "    }\n",
              "\n",
              "    .dataframe thead th {\n",
              "        text-align: right;\n",
              "    }\n",
              "</style>\n",
              "<table border=\"1\" class=\"dataframe\">\n",
              "  <thead>\n",
              "    <tr style=\"text-align: right;\">\n",
              "      <th></th>\n",
              "      <th>MPG</th>\n",
              "      <th>Cylinders</th>\n",
              "      <th>Displacement</th>\n",
              "      <th>Horsepower</th>\n",
              "      <th>Weight</th>\n",
              "      <th>Acceleration</th>\n",
              "      <th>Age</th>\n",
              "    </tr>\n",
              "  </thead>\n",
              "  <tbody>\n",
              "    <tr>\n",
              "      <td>count</td>\n",
              "      <td>387.000000</td>\n",
              "      <td>3.870000e+02</td>\n",
              "      <td>3.870000e+02</td>\n",
              "      <td>3.870000e+02</td>\n",
              "      <td>3.870000e+02</td>\n",
              "      <td>3.870000e+02</td>\n",
              "      <td>3.870000e+02</td>\n",
              "    </tr>\n",
              "    <tr>\n",
              "      <td>mean</td>\n",
              "      <td>23.672514</td>\n",
              "      <td>1.095879e-16</td>\n",
              "      <td>8.778508e-17</td>\n",
              "      <td>-1.061454e-17</td>\n",
              "      <td>-2.008155e-18</td>\n",
              "      <td>2.662240e-16</td>\n",
              "      <td>5.817913e-16</td>\n",
              "    </tr>\n",
              "    <tr>\n",
              "      <td>std</td>\n",
              "      <td>7.736579</td>\n",
              "      <td>1.001294e+00</td>\n",
              "      <td>1.001294e+00</td>\n",
              "      <td>1.001294e+00</td>\n",
              "      <td>1.001294e+00</td>\n",
              "      <td>1.001294e+00</td>\n",
              "      <td>1.001294e+00</td>\n",
              "    </tr>\n",
              "    <tr>\n",
              "      <td>min</td>\n",
              "      <td>9.000000</td>\n",
              "      <td>-1.447404e+00</td>\n",
              "      <td>-1.199046e+00</td>\n",
              "      <td>-1.513838e+00</td>\n",
              "      <td>-1.600007e+00</td>\n",
              "      <td>-2.761372e+00</td>\n",
              "      <td>-1.615000e+00</td>\n",
              "    </tr>\n",
              "    <tr>\n",
              "      <td>25%</td>\n",
              "      <td>17.600000</td>\n",
              "      <td>-8.470340e-01</td>\n",
              "      <td>-8.659368e-01</td>\n",
              "      <td>-7.522710e-01</td>\n",
              "      <td>-8.800918e-01</td>\n",
              "      <td>-6.102152e-01</td>\n",
              "      <td>-7.962160e-01</td>\n",
              "    </tr>\n",
              "    <tr>\n",
              "      <td>50%</td>\n",
              "      <td>23.200000</td>\n",
              "      <td>-8.470340e-01</td>\n",
              "      <td>-4.459295e-01</td>\n",
              "      <td>-3.058349e-01</td>\n",
              "      <td>-2.075007e-01</td>\n",
              "      <td>-2.685060e-02</td>\n",
              "      <td>2.256768e-02</td>\n",
              "    </tr>\n",
              "    <tr>\n",
              "      <td>75%</td>\n",
              "      <td>29.000000</td>\n",
              "      <td>3.537065e-01</td>\n",
              "      <td>6.547792e-01</td>\n",
              "      <td>4.557326e-01</td>\n",
              "      <td>7.383860e-01</td>\n",
              "      <td>5.382839e-01</td>\n",
              "      <td>8.413513e-01</td>\n",
              "    </tr>\n",
              "    <tr>\n",
              "      <td>max</td>\n",
              "      <td>46.600000</td>\n",
              "      <td>1.554447e+00</td>\n",
              "      <td>2.537570e+00</td>\n",
              "      <td>3.318176e+00</td>\n",
              "      <td>2.572779e+00</td>\n",
              "      <td>3.363956e+00</td>\n",
              "      <td>1.660135e+00</td>\n",
              "    </tr>\n",
              "  </tbody>\n",
              "</table>\n",
              "</div>"
            ],
            "text/plain": [
              "              MPG     Cylinders  Displacement    Horsepower        Weight  \\\n",
              "count  387.000000  3.870000e+02  3.870000e+02  3.870000e+02  3.870000e+02   \n",
              "mean    23.672514  1.095879e-16  8.778508e-17 -1.061454e-17 -2.008155e-18   \n",
              "std      7.736579  1.001294e+00  1.001294e+00  1.001294e+00  1.001294e+00   \n",
              "min      9.000000 -1.447404e+00 -1.199046e+00 -1.513838e+00 -1.600007e+00   \n",
              "25%     17.600000 -8.470340e-01 -8.659368e-01 -7.522710e-01 -8.800918e-01   \n",
              "50%     23.200000 -8.470340e-01 -4.459295e-01 -3.058349e-01 -2.075007e-01   \n",
              "75%     29.000000  3.537065e-01  6.547792e-01  4.557326e-01  7.383860e-01   \n",
              "max     46.600000  1.554447e+00  2.537570e+00  3.318176e+00  2.572779e+00   \n",
              "\n",
              "       Acceleration           Age  \n",
              "count  3.870000e+02  3.870000e+02  \n",
              "mean   2.662240e-16  5.817913e-16  \n",
              "std    1.001294e+00  1.001294e+00  \n",
              "min   -2.761372e+00 -1.615000e+00  \n",
              "25%   -6.102152e-01 -7.962160e-01  \n",
              "50%   -2.685060e-02  2.256768e-02  \n",
              "75%    5.382839e-01  8.413513e-01  \n",
              "max    3.363956e+00  1.660135e+00  "
            ]
          },
          "execution_count": 5,
          "metadata": {},
          "output_type": "execute_result"
        }
      ],
      "source": [
        "automobile.describe()"
      ]
    },
    {
      "cell_type": "code",
      "execution_count": null,
      "metadata": {
        "id": "IZYpe4dJVsN_",
        "outputId": "6739eded-2f8b-438f-f40a-8e818bd7dd99"
      },
      "outputs": [
        {
          "data": {
            "text/plain": [
              "(387, 8)"
            ]
          },
          "execution_count": 6,
          "metadata": {},
          "output_type": "execute_result"
        }
      ],
      "source": [
        "automobile.shape"
      ]
    },
    {
      "cell_type": "markdown",
      "metadata": {
        "id": "qhzcYr2wVsN_"
      },
      "source": [
        "### Building a regression model"
      ]
    },
    {
      "cell_type": "code",
      "execution_count": null,
      "metadata": {
        "id": "ws6f2qgoVsOA"
      },
      "outputs": [],
      "source": [
        "from sklearn.model_selection import train_test_split"
      ]
    },
    {
      "cell_type": "code",
      "execution_count": null,
      "metadata": {
        "id": "qHuOOtmjVsOA"
      },
      "outputs": [],
      "source": [
        "X = automobile.drop(['MPG', 'Origin'], axis=1)\n",
        "Y = automobile['MPG']\n",
        "\n",
        "x_train, x_test, y_train, y_test = train_test_split(X, Y, test_size=0.2)"
      ]
    },
    {
      "cell_type": "code",
      "execution_count": null,
      "metadata": {
        "id": "HIC-6gsIVsOA"
      },
      "outputs": [],
      "source": [
        "from sklearn.linear_model import LinearRegression\n",
        "\n",
        "linear_model = LinearRegression(normalize=True).fit(x_train, y_train)"
      ]
    },
    {
      "cell_type": "code",
      "execution_count": null,
      "metadata": {
        "id": "VH8PWREaVsOB",
        "outputId": "2c4fbe13-ebda-483d-bdbc-b9d25d078215"
      },
      "outputs": [
        {
          "name": "stdout",
          "output_type": "stream",
          "text": [
            "Training_score :  0.7930592969178385\n"
          ]
        }
      ],
      "source": [
        "print(\"Training_score : \" , linear_model.score(x_train, y_train))"
      ]
    },
    {
      "cell_type": "code",
      "execution_count": null,
      "metadata": {
        "id": "9YT59cneVsOB"
      },
      "outputs": [],
      "source": [
        "y_pred = linear_model.predict(x_test)"
      ]
    },
    {
      "cell_type": "code",
      "execution_count": null,
      "metadata": {
        "id": "9iMK4nMxVsOC",
        "outputId": "0e005304-b849-40ec-9153-10c48f93edb9"
      },
      "outputs": [
        {
          "name": "stdout",
          "output_type": "stream",
          "text": [
            "Testing_score :  0.7556855845195039\n"
          ]
        }
      ],
      "source": [
        "from sklearn.metrics import r2_score\n",
        "\n",
        "print(\"Testing_score : \", r2_score(y_test, y_pred))"
      ]
    },
    {
      "cell_type": "markdown",
      "metadata": {
        "id": "nlsgPL_aVsOC"
      },
      "source": [
        "### Calculating the adjusted r_2 value"
      ]
    },
    {
      "cell_type": "code",
      "execution_count": null,
      "metadata": {
        "id": "ZHeI5GIQVsOC"
      },
      "outputs": [],
      "source": [
        "def adjusted_r2(r_square, labels, features):\n",
        "    \n",
        "    adj_r_square = 1 - ((1 - r_square) * (len(labels) - 1)) / (len(labels) - features.shape[1] - 1)\n",
        "    \n",
        "    return adj_r_square"
      ]
    },
    {
      "cell_type": "code",
      "execution_count": null,
      "metadata": {
        "id": "NwCg8ojrVsOD",
        "outputId": "44bd6703-a6a8-4c18-c94b-15da77459abc"
      },
      "outputs": [
        {
          "name": "stdout",
          "output_type": "stream",
          "text": [
            "Adjusted_r2_score :  0.7350392958873493\n"
          ]
        }
      ],
      "source": [
        "print(\"Adjusted_r2_score : \", adjusted_r2(r2_score(y_test, y_pred), y_test, x_test))"
      ]
    },
    {
      "cell_type": "markdown",
      "metadata": {
        "id": "Ei8ZUQ_QVsOD"
      },
      "source": [
        "### Showing correlation matrix for multicollinearity detection\n",
        "Higher the correlation value means features are highly correlated"
      ]
    },
    {
      "cell_type": "code",
      "execution_count": null,
      "metadata": {
        "id": "y5ej1ybVVsOD",
        "outputId": "009bfa52-4f69-4204-d383-ee41b7e4b65b"
      },
      "outputs": [
        {
          "data": {
            "text/html": [
              "<div>\n",
              "<style scoped>\n",
              "    .dataframe tbody tr th:only-of-type {\n",
              "        vertical-align: middle;\n",
              "    }\n",
              "\n",
              "    .dataframe tbody tr th {\n",
              "        vertical-align: top;\n",
              "    }\n",
              "\n",
              "    .dataframe thead th {\n",
              "        text-align: right;\n",
              "    }\n",
              "</style>\n",
              "<table border=\"1\" class=\"dataframe\">\n",
              "  <thead>\n",
              "    <tr style=\"text-align: right;\">\n",
              "      <th></th>\n",
              "      <th>Cylinders</th>\n",
              "      <th>Displacement</th>\n",
              "      <th>Horsepower</th>\n",
              "      <th>Weight</th>\n",
              "      <th>Acceleration</th>\n",
              "      <th>Age</th>\n",
              "    </tr>\n",
              "  </thead>\n",
              "  <tbody>\n",
              "    <tr>\n",
              "      <td>Cylinders</td>\n",
              "      <td>1.000000</td>\n",
              "      <td>0.922633</td>\n",
              "      <td>0.811466</td>\n",
              "      <td>0.873029</td>\n",
              "      <td>-0.458161</td>\n",
              "      <td>0.321850</td>\n",
              "    </tr>\n",
              "    <tr>\n",
              "      <td>Displacement</td>\n",
              "      <td>0.922633</td>\n",
              "      <td>1.000000</td>\n",
              "      <td>0.894199</td>\n",
              "      <td>0.932822</td>\n",
              "      <td>-0.526901</td>\n",
              "      <td>0.357047</td>\n",
              "    </tr>\n",
              "    <tr>\n",
              "      <td>Horsepower</td>\n",
              "      <td>0.811466</td>\n",
              "      <td>0.894199</td>\n",
              "      <td>1.000000</td>\n",
              "      <td>0.863388</td>\n",
              "      <td>-0.670920</td>\n",
              "      <td>0.404458</td>\n",
              "    </tr>\n",
              "    <tr>\n",
              "      <td>Weight</td>\n",
              "      <td>0.873029</td>\n",
              "      <td>0.932822</td>\n",
              "      <td>0.863388</td>\n",
              "      <td>1.000000</td>\n",
              "      <td>-0.397181</td>\n",
              "      <td>0.299049</td>\n",
              "    </tr>\n",
              "    <tr>\n",
              "      <td>Acceleration</td>\n",
              "      <td>-0.458161</td>\n",
              "      <td>-0.526901</td>\n",
              "      <td>-0.670920</td>\n",
              "      <td>-0.397181</td>\n",
              "      <td>1.000000</td>\n",
              "      <td>-0.292705</td>\n",
              "    </tr>\n",
              "    <tr>\n",
              "      <td>Age</td>\n",
              "      <td>0.321850</td>\n",
              "      <td>0.357047</td>\n",
              "      <td>0.404458</td>\n",
              "      <td>0.299049</td>\n",
              "      <td>-0.292705</td>\n",
              "      <td>1.000000</td>\n",
              "    </tr>\n",
              "  </tbody>\n",
              "</table>\n",
              "</div>"
            ],
            "text/plain": [
              "              Cylinders  Displacement  Horsepower    Weight  Acceleration  \\\n",
              "Cylinders      1.000000      0.922633    0.811466  0.873029     -0.458161   \n",
              "Displacement   0.922633      1.000000    0.894199  0.932822     -0.526901   \n",
              "Horsepower     0.811466      0.894199    1.000000  0.863388     -0.670920   \n",
              "Weight         0.873029      0.932822    0.863388  1.000000     -0.397181   \n",
              "Acceleration  -0.458161     -0.526901   -0.670920 -0.397181      1.000000   \n",
              "Age            0.321850      0.357047    0.404458  0.299049     -0.292705   \n",
              "\n",
              "                   Age  \n",
              "Cylinders     0.321850  \n",
              "Displacement  0.357047  \n",
              "Horsepower    0.404458  \n",
              "Weight        0.299049  \n",
              "Acceleration -0.292705  \n",
              "Age           1.000000  "
            ]
          },
          "execution_count": 15,
          "metadata": {},
          "output_type": "execute_result"
        }
      ],
      "source": [
        "features_corr = X.corr()\n",
        "\n",
        "features_corr"
      ]
    },
    {
      "cell_type": "markdown",
      "metadata": {
        "id": "-KqPxOiPVsOE"
      },
      "source": [
        "#### Checking for correlation value greater than 0.75\n",
        "Here we can figure out that cylinders, displacement, horsepower and weight are correlated"
      ]
    },
    {
      "cell_type": "code",
      "execution_count": null,
      "metadata": {
        "id": "SHPlT6inVsOE",
        "outputId": "b2cfab5b-e68f-4f2a-8949-f3b1785bad78"
      },
      "outputs": [
        {
          "data": {
            "text/html": [
              "<div>\n",
              "<style scoped>\n",
              "    .dataframe tbody tr th:only-of-type {\n",
              "        vertical-align: middle;\n",
              "    }\n",
              "\n",
              "    .dataframe tbody tr th {\n",
              "        vertical-align: top;\n",
              "    }\n",
              "\n",
              "    .dataframe thead th {\n",
              "        text-align: right;\n",
              "    }\n",
              "</style>\n",
              "<table border=\"1\" class=\"dataframe\">\n",
              "  <thead>\n",
              "    <tr style=\"text-align: right;\">\n",
              "      <th></th>\n",
              "      <th>Cylinders</th>\n",
              "      <th>Displacement</th>\n",
              "      <th>Horsepower</th>\n",
              "      <th>Weight</th>\n",
              "      <th>Acceleration</th>\n",
              "      <th>Age</th>\n",
              "    </tr>\n",
              "  </thead>\n",
              "  <tbody>\n",
              "    <tr>\n",
              "      <td>Cylinders</td>\n",
              "      <td>True</td>\n",
              "      <td>True</td>\n",
              "      <td>True</td>\n",
              "      <td>True</td>\n",
              "      <td>False</td>\n",
              "      <td>False</td>\n",
              "    </tr>\n",
              "    <tr>\n",
              "      <td>Displacement</td>\n",
              "      <td>True</td>\n",
              "      <td>True</td>\n",
              "      <td>True</td>\n",
              "      <td>True</td>\n",
              "      <td>False</td>\n",
              "      <td>False</td>\n",
              "    </tr>\n",
              "    <tr>\n",
              "      <td>Horsepower</td>\n",
              "      <td>True</td>\n",
              "      <td>True</td>\n",
              "      <td>True</td>\n",
              "      <td>True</td>\n",
              "      <td>False</td>\n",
              "      <td>False</td>\n",
              "    </tr>\n",
              "    <tr>\n",
              "      <td>Weight</td>\n",
              "      <td>True</td>\n",
              "      <td>True</td>\n",
              "      <td>True</td>\n",
              "      <td>True</td>\n",
              "      <td>False</td>\n",
              "      <td>False</td>\n",
              "    </tr>\n",
              "    <tr>\n",
              "      <td>Acceleration</td>\n",
              "      <td>False</td>\n",
              "      <td>False</td>\n",
              "      <td>False</td>\n",
              "      <td>False</td>\n",
              "      <td>True</td>\n",
              "      <td>False</td>\n",
              "    </tr>\n",
              "    <tr>\n",
              "      <td>Age</td>\n",
              "      <td>False</td>\n",
              "      <td>False</td>\n",
              "      <td>False</td>\n",
              "      <td>False</td>\n",
              "      <td>False</td>\n",
              "      <td>True</td>\n",
              "    </tr>\n",
              "  </tbody>\n",
              "</table>\n",
              "</div>"
            ],
            "text/plain": [
              "              Cylinders  Displacement  Horsepower  Weight  Acceleration    Age\n",
              "Cylinders          True          True        True    True         False  False\n",
              "Displacement       True          True        True    True         False  False\n",
              "Horsepower         True          True        True    True         False  False\n",
              "Weight             True          True        True    True         False  False\n",
              "Acceleration      False         False       False   False          True  False\n",
              "Age               False         False       False   False         False   True"
            ]
          },
          "execution_count": 16,
          "metadata": {},
          "output_type": "execute_result"
        }
      ],
      "source": [
        "abs(features_corr) > 0.8"
      ]
    },
    {
      "cell_type": "markdown",
      "metadata": {
        "id": "BGfgNiaNVsOE"
      },
      "source": [
        "#### So we are dropping 'cylinders', 'displacement', 'weight' column"
      ]
    },
    {
      "cell_type": "code",
      "execution_count": null,
      "metadata": {
        "id": "fowKpFQNVsOF"
      },
      "outputs": [],
      "source": [
        "trimmed_features_df = X.drop(['Cylinders', 'Displacement', 'Weight'], axis=1)"
      ]
    },
    {
      "cell_type": "markdown",
      "metadata": {
        "id": "zfjeUsUQVsOF"
      },
      "source": [
        "#### After dropping the columns we can see now correlation value is less than 0.75 "
      ]
    },
    {
      "cell_type": "code",
      "execution_count": null,
      "metadata": {
        "id": "jM6lbPIBVsOF",
        "outputId": "0484bcd0-c440-4085-93b5-55e9b63b3ad8"
      },
      "outputs": [
        {
          "data": {
            "text/html": [
              "<div>\n",
              "<style scoped>\n",
              "    .dataframe tbody tr th:only-of-type {\n",
              "        vertical-align: middle;\n",
              "    }\n",
              "\n",
              "    .dataframe tbody tr th {\n",
              "        vertical-align: top;\n",
              "    }\n",
              "\n",
              "    .dataframe thead th {\n",
              "        text-align: right;\n",
              "    }\n",
              "</style>\n",
              "<table border=\"1\" class=\"dataframe\">\n",
              "  <thead>\n",
              "    <tr style=\"text-align: right;\">\n",
              "      <th></th>\n",
              "      <th>Horsepower</th>\n",
              "      <th>Acceleration</th>\n",
              "      <th>Age</th>\n",
              "    </tr>\n",
              "  </thead>\n",
              "  <tbody>\n",
              "    <tr>\n",
              "      <td>Horsepower</td>\n",
              "      <td>1.000000</td>\n",
              "      <td>-0.670920</td>\n",
              "      <td>0.404458</td>\n",
              "    </tr>\n",
              "    <tr>\n",
              "      <td>Acceleration</td>\n",
              "      <td>-0.670920</td>\n",
              "      <td>1.000000</td>\n",
              "      <td>-0.292705</td>\n",
              "    </tr>\n",
              "    <tr>\n",
              "      <td>Age</td>\n",
              "      <td>0.404458</td>\n",
              "      <td>-0.292705</td>\n",
              "      <td>1.000000</td>\n",
              "    </tr>\n",
              "  </tbody>\n",
              "</table>\n",
              "</div>"
            ],
            "text/plain": [
              "              Horsepower  Acceleration       Age\n",
              "Horsepower      1.000000     -0.670920  0.404458\n",
              "Acceleration   -0.670920      1.000000 -0.292705\n",
              "Age             0.404458     -0.292705  1.000000"
            ]
          },
          "execution_count": 18,
          "metadata": {},
          "output_type": "execute_result"
        }
      ],
      "source": [
        "trimmed_features_corr = trimmed_features_df.corr()\n",
        "\n",
        "trimmed_features_corr"
      ]
    },
    {
      "cell_type": "code",
      "execution_count": null,
      "metadata": {
        "id": "EBUIy8dkVsOF",
        "outputId": "81619f60-7c67-4ace-df21-9fffe74f21cc"
      },
      "outputs": [
        {
          "data": {
            "text/html": [
              "<div>\n",
              "<style scoped>\n",
              "    .dataframe tbody tr th:only-of-type {\n",
              "        vertical-align: middle;\n",
              "    }\n",
              "\n",
              "    .dataframe tbody tr th {\n",
              "        vertical-align: top;\n",
              "    }\n",
              "\n",
              "    .dataframe thead th {\n",
              "        text-align: right;\n",
              "    }\n",
              "</style>\n",
              "<table border=\"1\" class=\"dataframe\">\n",
              "  <thead>\n",
              "    <tr style=\"text-align: right;\">\n",
              "      <th></th>\n",
              "      <th>Horsepower</th>\n",
              "      <th>Acceleration</th>\n",
              "      <th>Age</th>\n",
              "    </tr>\n",
              "  </thead>\n",
              "  <tbody>\n",
              "    <tr>\n",
              "      <td>Horsepower</td>\n",
              "      <td>True</td>\n",
              "      <td>False</td>\n",
              "      <td>False</td>\n",
              "    </tr>\n",
              "    <tr>\n",
              "      <td>Acceleration</td>\n",
              "      <td>False</td>\n",
              "      <td>True</td>\n",
              "      <td>False</td>\n",
              "    </tr>\n",
              "    <tr>\n",
              "      <td>Age</td>\n",
              "      <td>False</td>\n",
              "      <td>False</td>\n",
              "      <td>True</td>\n",
              "    </tr>\n",
              "  </tbody>\n",
              "</table>\n",
              "</div>"
            ],
            "text/plain": [
              "              Horsepower  Acceleration    Age\n",
              "Horsepower          True         False  False\n",
              "Acceleration       False          True  False\n",
              "Age                False         False   True"
            ]
          },
          "execution_count": 19,
          "metadata": {},
          "output_type": "execute_result"
        }
      ],
      "source": [
        "abs(trimmed_features_corr) > 0.8"
      ]
    },
    {
      "cell_type": "markdown",
      "metadata": {
        "id": "WBhA0voCVsOG"
      },
      "source": [
        "### Calculating VIF score for multicollinearity detection\n",
        "* 1 = not correlated.\n",
        "* Between 1 and 5 = moderately correlated.\n",
        "* Greater than 5 = highly correlated"
      ]
    },
    {
      "cell_type": "code",
      "execution_count": null,
      "metadata": {
        "id": "SWj6DkoNVsOG"
      },
      "outputs": [],
      "source": [
        "from statsmodels.stats.outliers_influence import variance_inflation_factor"
      ]
    },
    {
      "cell_type": "code",
      "execution_count": null,
      "metadata": {
        "id": "2LhoZVtiVsOG"
      },
      "outputs": [],
      "source": [
        "vif = pd.DataFrame()\n",
        "vif[\"VIF Factor\"] = [variance_inflation_factor(X.values, i) for i in range(X.shape[1])]"
      ]
    },
    {
      "cell_type": "code",
      "execution_count": null,
      "metadata": {
        "id": "pjW7R9dKVsOG"
      },
      "outputs": [],
      "source": [
        "vif[\"features\"] = X.columns"
      ]
    },
    {
      "cell_type": "code",
      "execution_count": null,
      "metadata": {
        "id": "j3I134hYVsOG",
        "outputId": "25773889-77ec-4e74-9f7b-cae058e8be1f"
      },
      "outputs": [
        {
          "data": {
            "text/html": [
              "<div>\n",
              "<style scoped>\n",
              "    .dataframe tbody tr th:only-of-type {\n",
              "        vertical-align: middle;\n",
              "    }\n",
              "\n",
              "    .dataframe tbody tr th {\n",
              "        vertical-align: top;\n",
              "    }\n",
              "\n",
              "    .dataframe thead th {\n",
              "        text-align: right;\n",
              "    }\n",
              "</style>\n",
              "<table border=\"1\" class=\"dataframe\">\n",
              "  <thead>\n",
              "    <tr style=\"text-align: right;\">\n",
              "      <th></th>\n",
              "      <th>VIF Factor</th>\n",
              "      <th>features</th>\n",
              "    </tr>\n",
              "  </thead>\n",
              "  <tbody>\n",
              "    <tr>\n",
              "      <td>0</td>\n",
              "      <td>6.84</td>\n",
              "      <td>Cylinders</td>\n",
              "    </tr>\n",
              "    <tr>\n",
              "      <td>1</td>\n",
              "      <td>16.10</td>\n",
              "      <td>Displacement</td>\n",
              "    </tr>\n",
              "    <tr>\n",
              "      <td>2</td>\n",
              "      <td>8.82</td>\n",
              "      <td>Horsepower</td>\n",
              "    </tr>\n",
              "    <tr>\n",
              "      <td>3</td>\n",
              "      <td>10.69</td>\n",
              "      <td>Weight</td>\n",
              "    </tr>\n",
              "    <tr>\n",
              "      <td>4</td>\n",
              "      <td>2.49</td>\n",
              "      <td>Acceleration</td>\n",
              "    </tr>\n",
              "    <tr>\n",
              "      <td>5</td>\n",
              "      <td>1.22</td>\n",
              "      <td>Age</td>\n",
              "    </tr>\n",
              "  </tbody>\n",
              "</table>\n",
              "</div>"
            ],
            "text/plain": [
              "   VIF Factor      features\n",
              "0        6.84     Cylinders\n",
              "1       16.10  Displacement\n",
              "2        8.82    Horsepower\n",
              "3       10.69        Weight\n",
              "4        2.49  Acceleration\n",
              "5        1.22           Age"
            ]
          },
          "execution_count": 23,
          "metadata": {},
          "output_type": "execute_result"
        }
      ],
      "source": [
        "vif.round(2)"
      ]
    },
    {
      "cell_type": "markdown",
      "metadata": {
        "id": "Diz0M4bHVsOH"
      },
      "source": [
        "#### Dropping top 4 highest VIF factor column"
      ]
    },
    {
      "cell_type": "code",
      "execution_count": null,
      "metadata": {
        "id": "HVDCo6VCVsOH"
      },
      "outputs": [],
      "source": [
        "X = X.drop(['Displacement', 'Weight'], axis=1)"
      ]
    },
    {
      "cell_type": "code",
      "execution_count": null,
      "metadata": {
        "id": "vuQ0hXwZVsOH"
      },
      "outputs": [],
      "source": [
        "vif = pd.DataFrame()\n",
        "vif[\"VIF Factor\"] = [variance_inflation_factor(X.values, i) for i in range(X.shape[1])]"
      ]
    },
    {
      "cell_type": "code",
      "execution_count": null,
      "metadata": {
        "id": "kpuxRwH6VsOI"
      },
      "outputs": [],
      "source": [
        "vif[\"features\"] = X.columns"
      ]
    },
    {
      "cell_type": "code",
      "execution_count": null,
      "metadata": {
        "id": "mrSN_SjSVsOI",
        "outputId": "7a03730e-ccbd-4e97-acfc-1a2f18fe847d"
      },
      "outputs": [
        {
          "data": {
            "text/html": [
              "<div>\n",
              "<style scoped>\n",
              "    .dataframe tbody tr th:only-of-type {\n",
              "        vertical-align: middle;\n",
              "    }\n",
              "\n",
              "    .dataframe tbody tr th {\n",
              "        vertical-align: top;\n",
              "    }\n",
              "\n",
              "    .dataframe thead th {\n",
              "        text-align: right;\n",
              "    }\n",
              "</style>\n",
              "<table border=\"1\" class=\"dataframe\">\n",
              "  <thead>\n",
              "    <tr style=\"text-align: right;\">\n",
              "      <th></th>\n",
              "      <th>VIF Factor</th>\n",
              "      <th>features</th>\n",
              "    </tr>\n",
              "  </thead>\n",
              "  <tbody>\n",
              "    <tr>\n",
              "      <td>0</td>\n",
              "      <td>3.05</td>\n",
              "      <td>Cylinders</td>\n",
              "    </tr>\n",
              "    <tr>\n",
              "      <td>1</td>\n",
              "      <td>4.56</td>\n",
              "      <td>Horsepower</td>\n",
              "    </tr>\n",
              "    <tr>\n",
              "      <td>2</td>\n",
              "      <td>1.90</td>\n",
              "      <td>Acceleration</td>\n",
              "    </tr>\n",
              "    <tr>\n",
              "      <td>3</td>\n",
              "      <td>1.20</td>\n",
              "      <td>Age</td>\n",
              "    </tr>\n",
              "  </tbody>\n",
              "</table>\n",
              "</div>"
            ],
            "text/plain": [
              "   VIF Factor      features\n",
              "0        3.05     Cylinders\n",
              "1        4.56    Horsepower\n",
              "2        1.90  Acceleration\n",
              "3        1.20           Age"
            ]
          },
          "execution_count": 27,
          "metadata": {},
          "output_type": "execute_result"
        }
      ],
      "source": [
        "vif.round(2)"
      ]
    },
    {
      "cell_type": "markdown",
      "metadata": {
        "id": "8M-9LSwoVsOI"
      },
      "source": [
        "#### Here we are dropping that features which are causing multicollinearity and then training the model\n",
        "Here we can see the difference between training, testing and adjusted r2 scores between the models that we build in the starting of the demo and this model."
      ]
    },
    {
      "cell_type": "code",
      "execution_count": null,
      "metadata": {
        "id": "D5Iu6lxyVsOI"
      },
      "outputs": [],
      "source": [
        "X = automobile.drop(['MPG', 'Displacement', 'Weight', 'Origin'], axis=1)\n",
        "Y = automobile['MPG']\n",
        "\n",
        "x_train, x_test, y_train, y_test = train_test_split(X, Y, test_size=0.2)"
      ]
    },
    {
      "cell_type": "code",
      "execution_count": null,
      "metadata": {
        "id": "3yfMMorzVsOJ"
      },
      "outputs": [],
      "source": [
        "linear_model = LinearRegression(normalize=True).fit(x_train, y_train)"
      ]
    },
    {
      "cell_type": "code",
      "execution_count": null,
      "metadata": {
        "id": "hkrV2M6IVsOJ",
        "outputId": "71157e72-e085-486f-c7f8-b6d48aa496b2"
      },
      "outputs": [
        {
          "name": "stdout",
          "output_type": "stream",
          "text": [
            "Training_score :  0.7309760422436427\n"
          ]
        }
      ],
      "source": [
        "print(\"Training_score : \" , linear_model.score(x_train, y_train))"
      ]
    },
    {
      "cell_type": "code",
      "execution_count": null,
      "metadata": {
        "id": "WiLYZg3bVsOJ"
      },
      "outputs": [],
      "source": [
        "y_pred = linear_model.predict(x_test)"
      ]
    },
    {
      "cell_type": "code",
      "execution_count": null,
      "metadata": {
        "id": "lvWSjDStVsOJ",
        "outputId": "1580fb17-54a6-46b6-c6e0-0ccb9bf50a10"
      },
      "outputs": [
        {
          "name": "stdout",
          "output_type": "stream",
          "text": [
            "Testing_score :  0.7009622546471816\n"
          ]
        }
      ],
      "source": [
        "print(\"Testing_score : \", r2_score(y_test, y_pred))"
      ]
    },
    {
      "cell_type": "code",
      "execution_count": null,
      "metadata": {
        "id": "zRCNNqmjVsOK",
        "outputId": "088a7c06-1ba8-44f8-f09e-67e01eb616a6"
      },
      "outputs": [
        {
          "name": "stdout",
          "output_type": "stream",
          "text": [
            "Adjusted_r2_score :  0.6845766247648355\n"
          ]
        }
      ],
      "source": [
        "print(\"Adjusted_r2_score : \", adjusted_r2(r2_score(y_test, y_pred), y_test, x_test))"
      ]
    },
    {
      "cell_type": "code",
      "execution_count": null,
      "metadata": {
        "id": "_FGJTYlDVsOK"
      },
      "outputs": [],
      "source": [
        ""
      ]
    },
    {
      "cell_type": "code",
      "execution_count": null,
      "metadata": {
        "id": "kEjJmL4ZVsOK"
      },
      "outputs": [],
      "source": [
        ""
      ]
    },
    {
      "cell_type": "code",
      "execution_count": null,
      "metadata": {
        "id": "wf4_-Vu_VsOL"
      },
      "outputs": [],
      "source": [
        ""
      ]
    },
    {
      "cell_type": "code",
      "execution_count": null,
      "metadata": {
        "id": "_-14tsovVsOL"
      },
      "outputs": [],
      "source": [
        ""
      ]
    },
    {
      "cell_type": "code",
      "execution_count": null,
      "metadata": {
        "id": "1h_RXAgtVsOL"
      },
      "outputs": [],
      "source": [
        ""
      ]
    },
    {
      "cell_type": "code",
      "execution_count": null,
      "metadata": {
        "id": "Dre8bUBtVsOL"
      },
      "outputs": [],
      "source": [
        ""
      ]
    },
    {
      "cell_type": "code",
      "execution_count": null,
      "metadata": {
        "id": "Yv6GjVeYVsOL"
      },
      "outputs": [],
      "source": [
        ""
      ]
    },
    {
      "cell_type": "code",
      "execution_count": null,
      "metadata": {
        "id": "O9oWWS36VsOL"
      },
      "outputs": [],
      "source": [
        ""
      ]
    },
    {
      "cell_type": "code",
      "execution_count": null,
      "metadata": {
        "id": "P-yrMSrfVsOM"
      },
      "outputs": [],
      "source": [
        ""
      ]
    },
    {
      "cell_type": "code",
      "execution_count": null,
      "metadata": {
        "id": "vOS7uUIoVsOM"
      },
      "outputs": [],
      "source": [
        ""
      ]
    },
    {
      "cell_type": "code",
      "execution_count": null,
      "metadata": {
        "id": "TRcNXX2SVsOM"
      },
      "outputs": [],
      "source": [
        ""
      ]
    },
    {
      "cell_type": "code",
      "execution_count": null,
      "metadata": {
        "id": "5xjPxbDZVsOM"
      },
      "outputs": [],
      "source": [
        ""
      ]
    },
    {
      "cell_type": "code",
      "execution_count": null,
      "metadata": {
        "id": "DNQAysQsVsOM"
      },
      "outputs": [],
      "source": [
        ""
      ]
    },
    {
      "cell_type": "code",
      "execution_count": null,
      "metadata": {
        "id": "x6YB7Fq8VsOM"
      },
      "outputs": [],
      "source": [
        ""
      ]
    },
    {
      "cell_type": "code",
      "execution_count": null,
      "metadata": {
        "id": "VhTrB_xAVsOM"
      },
      "outputs": [],
      "source": [
        ""
      ]
    },
    {
      "cell_type": "code",
      "execution_count": null,
      "metadata": {
        "id": "ZE9gG4OsVsOM"
      },
      "outputs": [],
      "source": [
        ""
      ]
    },
    {
      "cell_type": "code",
      "execution_count": null,
      "metadata": {
        "id": "J7RyOeuKVsON"
      },
      "outputs": [],
      "source": [
        ""
      ]
    },
    {
      "cell_type": "code",
      "execution_count": null,
      "metadata": {
        "id": "0Wk0azZXVsON"
      },
      "outputs": [],
      "source": [
        ""
      ]
    },
    {
      "cell_type": "code",
      "execution_count": null,
      "metadata": {
        "id": "8bdtdGN7VsON"
      },
      "outputs": [],
      "source": [
        ""
      ]
    },
    {
      "cell_type": "code",
      "execution_count": null,
      "metadata": {
        "id": "vf_TeP6RVsON"
      },
      "outputs": [],
      "source": [
        ""
      ]
    },
    {
      "cell_type": "code",
      "execution_count": null,
      "metadata": {
        "id": "X4JResHmVsON"
      },
      "outputs": [],
      "source": [
        ""
      ]
    },
    {
      "cell_type": "code",
      "execution_count": null,
      "metadata": {
        "id": "AjluxptMVsON"
      },
      "outputs": [],
      "source": [
        ""
      ]
    }
  ],
  "metadata": {
    "kernelspec": {
      "display_name": "Python 3",
      "language": "python",
      "name": "python3"
    },
    "language_info": {
      "codemirror_mode": {
        "name": "ipython",
        "version": 3
      },
      "file_extension": ".py",
      "mimetype": "text/x-python",
      "name": "python",
      "nbconvert_exporter": "python",
      "pygments_lexer": "ipython3",
      "version": "3.7.4"
    },
    "colab": {
      "name": "Multicollinearity.ipynb",
      "provenance": [],
      "include_colab_link": true
    }
  },
  "nbformat": 4,
  "nbformat_minor": 0
}