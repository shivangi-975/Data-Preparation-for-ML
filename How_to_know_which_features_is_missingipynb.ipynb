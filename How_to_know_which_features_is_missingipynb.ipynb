{
  "cells": [
    {
      "cell_type": "markdown",
      "metadata": {
        "id": "view-in-github",
        "colab_type": "text"
      },
      "source": [
        "<a href=\"https://colab.research.google.com/github/shivangi-975/Data-Preparation-for-ML/blob/main/How_to_know_which_features_is_missingipynb.ipynb\" target=\"_parent\"><img src=\"https://colab.research.google.com/assets/colab-badge.svg\" alt=\"Open In Colab\"/></a>"
      ]
    },
    {
      "cell_type": "markdown",
      "metadata": {
        "id": "J91Vi8Hm0uT_"
      },
      "source": [
        "### Importing libraries"
      ]
    },
    {
      "cell_type": "code",
      "execution_count": null,
      "metadata": {
        "id": "NXC0nPLq0uUB"
      },
      "outputs": [],
      "source": [
        "import pandas as pd\n",
        "import numpy as np\n",
        "\n",
        "from sklearn.impute import MissingIndicator"
      ]
    },
    {
      "cell_type": "code",
      "execution_count": null,
      "metadata": {
        "id": "8xmQ1an20uUC"
      },
      "outputs": [],
      "source": [
        "features = [[4, 2, 1], \n",
        "            [24, 12, 6], \n",
        "            [8, 4, 2], \n",
        "            [28, 14, 7], \n",
        "            [32, 16, -1], \n",
        "            [600, 300, 150], \n",
        "            [-1, 60, 30], \n",
        "            [-1, 4, 1]]"
      ]
    },
    {
      "cell_type": "code",
      "execution_count": null,
      "metadata": {
        "id": "FDL-r2sn0uUD"
      },
      "outputs": [],
      "source": [
        "indicator = MissingIndicator(missing_values=-1)"
      ]
    },
    {
      "cell_type": "markdown",
      "source": [
        "Only shows those features which have missing values"
      ],
      "metadata": {
        "id": "VODxixZv3PXh"
      }
    },
    {
      "cell_type": "code",
      "execution_count": null,
      "metadata": {
        "id": "IG2a4sIG0uUD",
        "outputId": "fb239e86-2e45-4e7d-e354-86b43ea44302"
      },
      "outputs": [
        {
          "data": {
            "text/plain": [
              "array([[False, False],\n",
              "       [False, False],\n",
              "       [False, False],\n",
              "       [False, False],\n",
              "       [False,  True],\n",
              "       [False, False],\n",
              "       [ True, False],\n",
              "       [ True, False]])"
            ]
          },
          "execution_count": 4,
          "metadata": {},
          "output_type": "execute_result"
        }
      ],
      "source": [
        "mask_missing_values_only = indicator.fit_transform(features)\n",
        "\n",
        "mask_missing_values_only"
      ]
    },
    {
      "cell_type": "code",
      "execution_count": null,
      "metadata": {
        "id": "_bS2XUmJ0uUE",
        "outputId": "175f6ede-000b-4560-bef6-163ac36b636f"
      },
      "outputs": [
        {
          "data": {
            "text/plain": [
              "array([0, 2])"
            ]
          },
          "execution_count": 5,
          "metadata": {},
          "output_type": "execute_result"
        }
      ],
      "source": [
        "indicator.features_"
      ]
    },
    {
      "cell_type": "markdown",
      "source": [
        "If you want to show the features which doesn't have any missing value ....then use features=\"all"
      ],
      "metadata": {
        "id": "CBMgq3Ml3FKi"
      }
    },
    {
      "cell_type": "code",
      "execution_count": null,
      "metadata": {
        "id": "DyKFiVa30uUF"
      },
      "outputs": [],
      "source": [
        "indicator = MissingIndicator(missing_values=-1, features=\"all\")"
      ]
    },
    {
      "cell_type": "code",
      "execution_count": null,
      "metadata": {
        "id": "gldX9VRO0uUF",
        "outputId": "f589e3a1-7ea2-44e6-e042-c7e20f925c0e"
      },
      "outputs": [
        {
          "data": {
            "text/plain": [
              "array([[False, False, False],\n",
              "       [False, False, False],\n",
              "       [False, False, False],\n",
              "       [False, False, False],\n",
              "       [False, False,  True],\n",
              "       [False, False, False],\n",
              "       [ True, False, False],\n",
              "       [ True, False, False]])"
            ]
          },
          "execution_count": 7,
          "metadata": {},
          "output_type": "execute_result"
        }
      ],
      "source": [
        "mask_all = indicator.fit_transform(features)\n",
        "\n",
        "mask_all"
      ]
    },
    {
      "cell_type": "code",
      "execution_count": null,
      "metadata": {
        "id": "xxEmfOcf0uUG",
        "outputId": "cc8425ee-a7fe-4b6c-c9d5-10bcc7d414e9"
      },
      "outputs": [
        {
          "data": {
            "text/plain": [
              "array([0, 1, 2])"
            ]
          },
          "execution_count": 8,
          "metadata": {},
          "output_type": "execute_result"
        }
      ],
      "source": [
        "indicator.features_"
      ]
    }
  ],
  "metadata": {
    "kernelspec": {
      "display_name": "Python 3",
      "language": "python",
      "name": "python3"
    },
    "language_info": {
      "codemirror_mode": {
        "name": "ipython",
        "version": 3
      },
      "file_extension": ".py",
      "mimetype": "text/x-python",
      "name": "python",
      "nbconvert_exporter": "python",
      "pygments_lexer": "ipython3",
      "version": "3.6.4"
    },
    "colab": {
      "name": "How to know which features is missingipynb",
      "provenance": [],
      "include_colab_link": true
    }
  },
  "nbformat": 4,
  "nbformat_minor": 0
}