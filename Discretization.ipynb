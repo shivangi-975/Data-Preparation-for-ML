{
  "cells": [
    {
      "cell_type": "markdown",
      "metadata": {
        "id": "view-in-github",
        "colab_type": "text"
      },
      "source": [
        "<a href=\"https://colab.research.google.com/github/shivangi-975/Data-Preparation-for-ML/blob/main/Discretization.ipynb\" target=\"_parent\"><img src=\"https://colab.research.google.com/assets/colab-badge.svg\" alt=\"Open In Colab\"/></a>"
      ]
    },
    {
      "cell_type": "markdown",
      "metadata": {
        "id": "3TvV4p-nUsFA"
      },
      "source": [
        "### Importing libraries"
      ]
    },
    {
      "cell_type": "code",
      "execution_count": null,
      "metadata": {
        "id": "RJyEDxDNUsFE"
      },
      "outputs": [],
      "source": [
        "import pandas as pd\n",
        "import numpy as np"
      ]
    },
    {
      "cell_type": "markdown",
      "metadata": {
        "id": "RVJcq2abUsFF"
      },
      "source": [
        "#### Setting up a 1-D array"
      ]
    },
    {
      "cell_type": "code",
      "execution_count": null,
      "metadata": {
        "id": "PWyqWeBmUsFF"
      },
      "outputs": [],
      "source": [
        "X = np.array([-7, 2, -3, -11, 14, 6, 8])"
      ]
    },
    {
      "cell_type": "markdown",
      "metadata": {
        "id": "KZ2aUTvkUsFG"
      },
      "source": [
        "#### Discretization in pandas\n",
        "\n",
        "https://pandas.pydata.org/pandas-docs/version/0.23.4/generated/pandas.cut.html"
      ]
    },
    {
      "cell_type": "code",
      "execution_count": null,
      "metadata": {
        "id": "imi1i8VNUsFG",
        "outputId": "4ccf6d3d-f2ff-48d2-93b8-772a5ae99e53"
      },
      "outputs": [
        {
          "data": {
            "text/plain": [
              "[(-11.025, -4.75], (1.5, 7.75], (-4.75, 1.5], (-11.025, -4.75], (7.75, 14.0], (1.5, 7.75], (7.75, 14.0]]\n",
              "Categories (4, interval[float64]): [(-11.025, -4.75] < (-4.75, 1.5] < (1.5, 7.75] < (7.75, 14.0]]"
            ]
          },
          "execution_count": 56,
          "metadata": {},
          "output_type": "execute_result"
        }
      ],
      "source": [
        "categories = pd.cut(X, 4)\n",
        "\n",
        "categories"
      ]
    },
    {
      "cell_type": "code",
      "execution_count": null,
      "metadata": {
        "id": "Dsjd5i8AUsFH",
        "outputId": "e0ab08b2-49a5-4408-e4c6-30bb23fec7a7"
      },
      "outputs": [
        {
          "data": {
            "text/plain": [
              "IntervalIndex([(-11.025, -4.75], (-4.75, 1.5], (1.5, 7.75], (7.75, 14.0]],\n",
              "              closed='right',\n",
              "              dtype='interval[float64]')"
            ]
          },
          "execution_count": 57,
          "metadata": {},
          "output_type": "execute_result"
        }
      ],
      "source": [
        "categories.categories"
      ]
    },
    {
      "cell_type": "code",
      "execution_count": null,
      "metadata": {
        "id": "wynIs7gVUsFI",
        "outputId": "3ceca797-8f41-4666-9c83-e557d7e19d8c"
      },
      "outputs": [
        {
          "data": {
            "text/plain": [
              "array([0, 2, 1, 0, 3, 2, 3], dtype=int8)"
            ]
          },
          "execution_count": 58,
          "metadata": {},
          "output_type": "execute_result"
        }
      ],
      "source": [
        "categories.codes"
      ]
    },
    {
      "cell_type": "code",
      "execution_count": null,
      "metadata": {
        "id": "rSI2dubZUsFI",
        "outputId": "614778a8-d86c-46ed-c2c7-c9fec775c060"
      },
      "outputs": [
        {
          "data": {
            "text/plain": [
              "True"
            ]
          },
          "execution_count": 59,
          "metadata": {},
          "output_type": "execute_result"
        }
      ],
      "source": [
        "categories.ordered"
      ]
    },
    {
      "cell_type": "markdown",
      "metadata": {
        "id": "E5KR1hPcUsFJ"
      },
      "source": [
        "#### This time we are setting retbins parameter to True so it will also return the bins"
      ]
    },
    {
      "cell_type": "code",
      "execution_count": null,
      "metadata": {
        "id": "lljaTEwpUsFJ",
        "outputId": "d94247ed-a210-46bd-e16f-b52a1e4d21f6"
      },
      "outputs": [
        {
          "data": {
            "text/plain": [
              "([(-11.025, -4.75], (1.5, 7.75], (-4.75, 1.5], (-11.025, -4.75], (7.75, 14.0], (1.5, 7.75], (7.75, 14.0]]\n",
              " Categories (4, interval[float64]): [(-11.025, -4.75] < (-4.75, 1.5] < (1.5, 7.75] < (7.75, 14.0]],\n",
              " array([-11.025,  -4.75 ,   1.5  ,   7.75 ,  14.   ]))"
            ]
          },
          "execution_count": 60,
          "metadata": {},
          "output_type": "execute_result"
        }
      ],
      "source": [
        "pd.cut(X, 4, retbins=True)"
      ]
    },
    {
      "cell_type": "markdown",
      "metadata": {
        "id": "HDRQp5nGUsFJ"
      },
      "source": [
        "#### Specifing the labels for the returned bins"
      ]
    },
    {
      "cell_type": "code",
      "execution_count": null,
      "metadata": {
        "id": "dVLCrCXEUsFK"
      },
      "outputs": [],
      "source": [
        "marks = np.array([70, 20, 30, 99, 40, 16, 80])"
      ]
    },
    {
      "cell_type": "code",
      "execution_count": null,
      "metadata": {
        "id": "QaAYcqz3UsFK"
      },
      "outputs": [],
      "source": [
        "categories, bins = pd.cut(marks, 4, retbins=True, labels=['poor', 'average', 'good', 'excellent'])"
      ]
    },
    {
      "cell_type": "code",
      "execution_count": null,
      "metadata": {
        "id": "N-tObGdeUsFK",
        "outputId": "37379cdd-588e-441d-866a-06edfecc47b5"
      },
      "outputs": [
        {
          "data": {
            "text/plain": [
              "[good, poor, poor, excellent, average, poor, excellent]\n",
              "Categories (4, object): [poor < average < good < excellent]"
            ]
          },
          "execution_count": 63,
          "metadata": {},
          "output_type": "execute_result"
        }
      ],
      "source": [
        "categories"
      ]
    },
    {
      "cell_type": "code",
      "execution_count": null,
      "metadata": {
        "id": "HXIiYMe1UsFL",
        "outputId": "9fa460a7-47a2-40ab-b2ad-98fe0d6190e1"
      },
      "outputs": [
        {
          "data": {
            "text/plain": [
              "Index(['poor', 'average', 'good', 'excellent'], dtype='object')"
            ]
          },
          "execution_count": 64,
          "metadata": {},
          "output_type": "execute_result"
        }
      ],
      "source": [
        "categories.categories"
      ]
    },
    {
      "cell_type": "code",
      "execution_count": null,
      "metadata": {
        "id": "pcDvCuagUsFL",
        "outputId": "ebede084-cbe0-4323-c1e8-1f8a25bb0964"
      },
      "outputs": [
        {
          "data": {
            "text/plain": [
              "array([15.917, 36.75 , 57.5  , 78.25 , 99.   ])"
            ]
          },
          "execution_count": 65,
          "metadata": {},
          "output_type": "execute_result"
        }
      ],
      "source": [
        "bins"
      ]
    },
    {
      "cell_type": "markdown",
      "metadata": {
        "id": "_DrVPKlQUsFM"
      },
      "source": [
        "#### Passing a Series as an input returns a Series with mapping value"
      ]
    },
    {
      "cell_type": "code",
      "execution_count": null,
      "metadata": {
        "id": "KnDKQVhqUsFM",
        "outputId": "40c33ce4-6ba0-4001-8b93-daacb3670e41"
      },
      "outputs": [
        {
          "data": {
            "text/plain": [
              "1    70\n",
              "2    20\n",
              "3    30\n",
              "4    99\n",
              "5    40\n",
              "6    16\n",
              "7    80\n",
              "dtype: int64"
            ]
          },
          "execution_count": 66,
          "metadata": {},
          "output_type": "execute_result"
        }
      ],
      "source": [
        "df = pd.Series(marks, index = [1, 2, 3, 4, 5, 6, 7])\n",
        "\n",
        "df"
      ]
    },
    {
      "cell_type": "code",
      "execution_count": null,
      "metadata": {
        "id": "4C8gWatkUsFM"
      },
      "outputs": [],
      "source": [
        "categories, bins = pd.cut(df, 4, retbins=True)"
      ]
    },
    {
      "cell_type": "code",
      "execution_count": null,
      "metadata": {
        "id": "OPoqeQm5UsFN",
        "outputId": "0149b0de-2a2c-42fc-a2e3-5457a720e161"
      },
      "outputs": [
        {
          "data": {
            "text/plain": [
              "1      (57.5, 78.25]\n",
              "2    (15.917, 36.75]\n",
              "3    (15.917, 36.75]\n",
              "4      (78.25, 99.0]\n",
              "5      (36.75, 57.5]\n",
              "6    (15.917, 36.75]\n",
              "7      (78.25, 99.0]\n",
              "dtype: category\n",
              "Categories (4, interval[float64]): [(15.917, 36.75] < (36.75, 57.5] < (57.5, 78.25] < (78.25, 99.0]]"
            ]
          },
          "execution_count": 68,
          "metadata": {},
          "output_type": "execute_result"
        }
      ],
      "source": [
        "categories"
      ]
    },
    {
      "cell_type": "code",
      "execution_count": null,
      "metadata": {
        "id": "yuV0FiUbUsFN",
        "outputId": "4efc5d92-0225-465a-aa6b-74675e71784e"
      },
      "outputs": [
        {
          "data": {
            "text/plain": [
              "array([15.917, 36.75 , 57.5  , 78.25 , 99.   ])"
            ]
          },
          "execution_count": 69,
          "metadata": {},
          "output_type": "execute_result"
        }
      ],
      "source": [
        "bins"
      ]
    },
    {
      "cell_type": "markdown",
      "metadata": {
        "id": "eTWMwZNeUsFN"
      },
      "source": [
        "### KBinsDiscretizer\n",
        "https://scikit-learn.org/stable/modules/generated/sklearn.preprocessing.KBinsDiscretizer.html"
      ]
    },
    {
      "cell_type": "code",
      "execution_count": null,
      "metadata": {
        "id": "Lg99trrhUsFN"
      },
      "outputs": [],
      "source": [
        "from sklearn.preprocessing import KBinsDiscretizer"
      ]
    },
    {
      "cell_type": "markdown",
      "metadata": {
        "id": "ANJkY5-iUsFO"
      },
      "source": [
        "#### Setting up a 2-D array"
      ]
    },
    {
      "cell_type": "code",
      "execution_count": null,
      "metadata": {
        "id": "lO5lCeAIUsFO"
      },
      "outputs": [],
      "source": [
        "marks = [[70], [20], [30], [99], [40], [16], [80]]"
      ]
    },
    {
      "cell_type": "markdown",
      "metadata": {
        "id": "K2__fr3uUsFO"
      },
      "source": [
        "#### Here strategy = 'uniform' so all bins in each feature have identical widths."
      ]
    },
    {
      "cell_type": "code",
      "execution_count": null,
      "metadata": {
        "id": "JdN32gmHUsFO"
      },
      "outputs": [],
      "source": [
        "enc = KBinsDiscretizer(n_bins=4, encode='ordinal', strategy='uniform')"
      ]
    },
    {
      "cell_type": "code",
      "execution_count": null,
      "metadata": {
        "id": "5YsMr8fgUsFO",
        "outputId": "9af9c5b0-ba3b-4a0a-958e-6c08d737f7c9"
      },
      "outputs": [
        {
          "data": {
            "text/plain": [
              "KBinsDiscretizer(encode='ordinal', n_bins=4, strategy='uniform')"
            ]
          },
          "execution_count": 73,
          "metadata": {},
          "output_type": "execute_result"
        }
      ],
      "source": [
        "enc.fit(marks)"
      ]
    },
    {
      "cell_type": "code",
      "execution_count": null,
      "metadata": {
        "id": "N_bAOWdQUsFP",
        "outputId": "6c87ddb7-d7d4-437e-d6ee-11c3c740fce1"
      },
      "outputs": [
        {
          "data": {
            "text/plain": [
              "array([[2.],\n",
              "       [0.],\n",
              "       [0.],\n",
              "       [3.],\n",
              "       [1.],\n",
              "       [0.],\n",
              "       [3.]])"
            ]
          },
          "execution_count": 74,
          "metadata": {},
          "output_type": "execute_result"
        }
      ],
      "source": [
        "enc.transform(marks)"
      ]
    },
    {
      "cell_type": "markdown",
      "metadata": {
        "id": "YFHeRT7aUsFP"
      },
      "source": [
        "#### Edges of each bin"
      ]
    },
    {
      "cell_type": "code",
      "execution_count": null,
      "metadata": {
        "id": "DLde43dnUsFP",
        "outputId": "d066881c-f7e4-4a0c-92cc-d0a9daee685d"
      },
      "outputs": [
        {
          "data": {
            "text/plain": [
              "array([array([16.  , 36.75, 57.5 , 78.25, 99.  ])], dtype=object)"
            ]
          },
          "execution_count": 75,
          "metadata": {},
          "output_type": "execute_result"
        }
      ],
      "source": [
        "enc.bin_edges_"
      ]
    },
    {
      "cell_type": "markdown",
      "metadata": {
        "id": "gfd9rPeLUsFP"
      },
      "source": [
        "#### Setting up another 2-D array with -ve values"
      ]
    },
    {
      "cell_type": "code",
      "execution_count": null,
      "metadata": {
        "id": "AXTKHzDHUsFQ"
      },
      "outputs": [],
      "source": [
        "X = [[-21, 41, -14],\n",
        "     [-13, 23, -31],\n",
        "     [  9, 30, -5],\n",
        "     [  0, 24, -17]]"
      ]
    },
    {
      "cell_type": "markdown",
      "metadata": {
        "id": "_wand7WSUsFQ"
      },
      "source": [
        "#### Here strategy = 'quantile' so all bins in each feature have the same number of points."
      ]
    },
    {
      "cell_type": "code",
      "execution_count": null,
      "metadata": {
        "id": "CvHrrbEiUsFR"
      },
      "outputs": [],
      "source": [
        "enc = KBinsDiscretizer(n_bins=4, encode='ordinal', strategy='quantile')"
      ]
    },
    {
      "cell_type": "code",
      "execution_count": null,
      "metadata": {
        "id": "_dgExJt7UsFS",
        "outputId": "ffa72c7f-0376-41ff-c15a-3a0c58569e39"
      },
      "outputs": [
        {
          "data": {
            "text/plain": [
              "KBinsDiscretizer(encode='ordinal', n_bins=4, strategy='quantile')"
            ]
          },
          "execution_count": 78,
          "metadata": {},
          "output_type": "execute_result"
        }
      ],
      "source": [
        "enc.fit(X)"
      ]
    },
    {
      "cell_type": "code",
      "execution_count": null,
      "metadata": {
        "id": "h1XSipnXUsFS",
        "outputId": "809e5fa4-ba0e-4ca1-b61e-f723560b829b"
      },
      "outputs": [
        {
          "data": {
            "text/plain": [
              "array([[0., 3., 2.],\n",
              "       [1., 0., 0.],\n",
              "       [3., 2., 3.],\n",
              "       [2., 1., 1.]])"
            ]
          },
          "execution_count": 79,
          "metadata": {},
          "output_type": "execute_result"
        }
      ],
      "source": [
        "X_trans = enc.transform(X)\n",
        "\n",
        "X_trans"
      ]
    },
    {
      "cell_type": "code",
      "execution_count": null,
      "metadata": {
        "id": "jBbHmpaGUsFT",
        "outputId": "e3044d3d-3bdd-4ffc-b666-ce654373133d"
      },
      "outputs": [
        {
          "data": {
            "text/plain": [
              "array([array([-21.  , -15.  ,  -6.5 ,   2.25,   9.  ]),\n",
              "       array([23.  , 23.75, 27.  , 32.75, 41.  ]),\n",
              "       array([-31.  , -20.5 , -15.5 , -11.75,  -5.  ])], dtype=object)"
            ]
          },
          "execution_count": 80,
          "metadata": {},
          "output_type": "execute_result"
        }
      ],
      "source": [
        "enc.bin_edges_"
      ]
    },
    {
      "cell_type": "markdown",
      "metadata": {
        "id": "lizZOkdGUsFT"
      },
      "source": [
        "##### The inverse_transform function converts the binned data into the original feature space. Each value will be equal to the mean of the two bin edges."
      ]
    },
    {
      "cell_type": "code",
      "execution_count": null,
      "metadata": {
        "id": "8nn5QY9PUsFT",
        "outputId": "837f0856-f0a9-4e36-f157-00a27a774b0b"
      },
      "outputs": [
        {
          "data": {
            "text/plain": [
              "array([[-18.   ,  36.875, -13.625],\n",
              "       [-10.75 ,  23.375, -25.75 ],\n",
              "       [  5.625,  29.875,  -8.375],\n",
              "       [ -2.125,  25.375, -18.   ]])"
            ]
          },
          "execution_count": 81,
          "metadata": {},
          "output_type": "execute_result"
        }
      ],
      "source": [
        "enc.inverse_transform(X_trans)"
      ]
    },
    {
      "cell_type": "markdown",
      "metadata": {
        "id": "LtE2fA5sUsFT"
      },
      "source": [
        "#### Now we will build a regression model with original data and with discretized data "
      ]
    },
    {
      "cell_type": "markdown",
      "metadata": {
        "id": "lHnNyGwsUsFU"
      },
      "source": [
        "#### Loading the automobiles dataset"
      ]
    },
    {
      "cell_type": "code",
      "execution_count": null,
      "metadata": {
        "id": "KVsUQ4W6UsFU",
        "outputId": "db35bc6d-b3ba-40b2-d161-8d4817a295a7"
      },
      "outputs": [
        {
          "data": {
            "text/html": [
              "<div>\n",
              "<style scoped>\n",
              "    .dataframe tbody tr th:only-of-type {\n",
              "        vertical-align: middle;\n",
              "    }\n",
              "\n",
              "    .dataframe tbody tr th {\n",
              "        vertical-align: top;\n",
              "    }\n",
              "\n",
              "    .dataframe thead th {\n",
              "        text-align: right;\n",
              "    }\n",
              "</style>\n",
              "<table border=\"1\" class=\"dataframe\">\n",
              "  <thead>\n",
              "    <tr style=\"text-align: right;\">\n",
              "      <th></th>\n",
              "      <th>MPG</th>\n",
              "      <th>Cylinders</th>\n",
              "      <th>Displacement</th>\n",
              "      <th>Horsepower</th>\n",
              "      <th>Weight</th>\n",
              "      <th>Acceleration</th>\n",
              "      <th>Origin</th>\n",
              "      <th>age</th>\n",
              "    </tr>\n",
              "  </thead>\n",
              "  <tbody>\n",
              "    <tr>\n",
              "      <td>0</td>\n",
              "      <td>18.000000</td>\n",
              "      <td>8</td>\n",
              "      <td>307.0</td>\n",
              "      <td>130</td>\n",
              "      <td>3504</td>\n",
              "      <td>307.0</td>\n",
              "      <td>US</td>\n",
              "      <td>49</td>\n",
              "    </tr>\n",
              "    <tr>\n",
              "      <td>1</td>\n",
              "      <td>16.000000</td>\n",
              "      <td>8</td>\n",
              "      <td>304.0</td>\n",
              "      <td>150</td>\n",
              "      <td>3433</td>\n",
              "      <td>304.0</td>\n",
              "      <td>US</td>\n",
              "      <td>49</td>\n",
              "    </tr>\n",
              "    <tr>\n",
              "      <td>2</td>\n",
              "      <td>17.000000</td>\n",
              "      <td>8</td>\n",
              "      <td>302.0</td>\n",
              "      <td>140</td>\n",
              "      <td>3449</td>\n",
              "      <td>302.0</td>\n",
              "      <td>US</td>\n",
              "      <td>49</td>\n",
              "    </tr>\n",
              "    <tr>\n",
              "      <td>3</td>\n",
              "      <td>14.000000</td>\n",
              "      <td>8</td>\n",
              "      <td>454.0</td>\n",
              "      <td>220</td>\n",
              "      <td>4354</td>\n",
              "      <td>454.0</td>\n",
              "      <td>US</td>\n",
              "      <td>49</td>\n",
              "    </tr>\n",
              "    <tr>\n",
              "      <td>4</td>\n",
              "      <td>23.551429</td>\n",
              "      <td>8</td>\n",
              "      <td>440.0</td>\n",
              "      <td>215</td>\n",
              "      <td>4312</td>\n",
              "      <td>440.0</td>\n",
              "      <td>US</td>\n",
              "      <td>49</td>\n",
              "    </tr>\n",
              "    <tr>\n",
              "      <td>5</td>\n",
              "      <td>14.000000</td>\n",
              "      <td>8</td>\n",
              "      <td>455.0</td>\n",
              "      <td>225</td>\n",
              "      <td>4425</td>\n",
              "      <td>455.0</td>\n",
              "      <td>US</td>\n",
              "      <td>49</td>\n",
              "    </tr>\n",
              "    <tr>\n",
              "      <td>6</td>\n",
              "      <td>15.000000</td>\n",
              "      <td>8</td>\n",
              "      <td>390.0</td>\n",
              "      <td>190</td>\n",
              "      <td>3850</td>\n",
              "      <td>390.0</td>\n",
              "      <td>US</td>\n",
              "      <td>49</td>\n",
              "    </tr>\n",
              "    <tr>\n",
              "      <td>7</td>\n",
              "      <td>15.000000</td>\n",
              "      <td>8</td>\n",
              "      <td>383.0</td>\n",
              "      <td>170</td>\n",
              "      <td>3563</td>\n",
              "      <td>383.0</td>\n",
              "      <td>US</td>\n",
              "      <td>49</td>\n",
              "    </tr>\n",
              "    <tr>\n",
              "      <td>8</td>\n",
              "      <td>14.000000</td>\n",
              "      <td>5</td>\n",
              "      <td>340.0</td>\n",
              "      <td>160</td>\n",
              "      <td>3609</td>\n",
              "      <td>340.0</td>\n",
              "      <td>US</td>\n",
              "      <td>49</td>\n",
              "    </tr>\n",
              "    <tr>\n",
              "      <td>9</td>\n",
              "      <td>23.551429</td>\n",
              "      <td>8</td>\n",
              "      <td>400.0</td>\n",
              "      <td>150</td>\n",
              "      <td>3761</td>\n",
              "      <td>400.0</td>\n",
              "      <td>US</td>\n",
              "      <td>49</td>\n",
              "    </tr>\n",
              "  </tbody>\n",
              "</table>\n",
              "</div>"
            ],
            "text/plain": [
              "         MPG  Cylinders  Displacement  Horsepower  Weight  Acceleration  \\\n",
              "0  18.000000          8         307.0         130    3504         307.0   \n",
              "1  16.000000          8         304.0         150    3433         304.0   \n",
              "2  17.000000          8         302.0         140    3449         302.0   \n",
              "3  14.000000          8         454.0         220    4354         454.0   \n",
              "4  23.551429          8         440.0         215    4312         440.0   \n",
              "5  14.000000          8         455.0         225    4425         455.0   \n",
              "6  15.000000          8         390.0         190    3850         390.0   \n",
              "7  15.000000          8         383.0         170    3563         383.0   \n",
              "8  14.000000          5         340.0         160    3609         340.0   \n",
              "9  23.551429          8         400.0         150    3761         400.0   \n",
              "\n",
              "  Origin  age  \n",
              "0     US   49  \n",
              "1     US   49  \n",
              "2     US   49  \n",
              "3     US   49  \n",
              "4     US   49  \n",
              "5     US   49  \n",
              "6     US   49  \n",
              "7     US   49  \n",
              "8     US   49  \n",
              "9     US   49  "
            ]
          },
          "execution_count": 82,
          "metadata": {},
          "output_type": "execute_result"
        }
      ],
      "source": [
        "automobile_df = pd.read_csv('datasets/auto_mpg_processed.csv')\n",
        "\n",
        "automobile_df.head(10)"
      ]
    },
    {
      "cell_type": "markdown",
      "metadata": {
        "id": "3bxA5qdBUsFV"
      },
      "source": [
        "#### Here we are taking horsepower column as feature and the predicting the mpg value"
      ]
    },
    {
      "cell_type": "code",
      "execution_count": null,
      "metadata": {
        "id": "3WmOhPByUsFV"
      },
      "outputs": [],
      "source": [
        "X = automobile_df[['Horsepower']]\n",
        "Y = automobile_df['MPG']"
      ]
    },
    {
      "cell_type": "code",
      "execution_count": null,
      "metadata": {
        "id": "4AufgBldUsFV",
        "outputId": "e92554fb-b844-4a37-fa2c-56581e1525c9"
      },
      "outputs": [
        {
          "data": {
            "text/html": [
              "<div>\n",
              "<style scoped>\n",
              "    .dataframe tbody tr th:only-of-type {\n",
              "        vertical-align: middle;\n",
              "    }\n",
              "\n",
              "    .dataframe tbody tr th {\n",
              "        vertical-align: top;\n",
              "    }\n",
              "\n",
              "    .dataframe thead th {\n",
              "        text-align: right;\n",
              "    }\n",
              "</style>\n",
              "<table border=\"1\" class=\"dataframe\">\n",
              "  <thead>\n",
              "    <tr style=\"text-align: right;\">\n",
              "      <th></th>\n",
              "      <th>Horsepower</th>\n",
              "    </tr>\n",
              "  </thead>\n",
              "  <tbody>\n",
              "    <tr>\n",
              "      <td>385</td>\n",
              "      <td>79</td>\n",
              "    </tr>\n",
              "    <tr>\n",
              "      <td>173</td>\n",
              "      <td>86</td>\n",
              "    </tr>\n",
              "    <tr>\n",
              "      <td>268</td>\n",
              "      <td>133</td>\n",
              "    </tr>\n",
              "    <tr>\n",
              "      <td>97</td>\n",
              "      <td>167</td>\n",
              "    </tr>\n",
              "    <tr>\n",
              "      <td>105</td>\n",
              "      <td>107</td>\n",
              "    </tr>\n",
              "    <tr>\n",
              "      <td>87</td>\n",
              "      <td>150</td>\n",
              "    </tr>\n",
              "    <tr>\n",
              "      <td>305</td>\n",
              "      <td>88</td>\n",
              "    </tr>\n",
              "    <tr>\n",
              "      <td>291</td>\n",
              "      <td>90</td>\n",
              "    </tr>\n",
              "    <tr>\n",
              "      <td>295</td>\n",
              "      <td>69</td>\n",
              "    </tr>\n",
              "    <tr>\n",
              "      <td>191</td>\n",
              "      <td>78</td>\n",
              "    </tr>\n",
              "  </tbody>\n",
              "</table>\n",
              "</div>"
            ],
            "text/plain": [
              "     Horsepower\n",
              "385          79\n",
              "173          86\n",
              "268         133\n",
              "97          167\n",
              "105         107\n",
              "87          150\n",
              "305          88\n",
              "291          90\n",
              "295          69\n",
              "191          78"
            ]
          },
          "execution_count": 84,
          "metadata": {},
          "output_type": "execute_result"
        }
      ],
      "source": [
        "X.sample(10)"
      ]
    },
    {
      "cell_type": "code",
      "execution_count": null,
      "metadata": {
        "id": "r1fWvgv0UsFV"
      },
      "outputs": [],
      "source": [
        "import matplotlib.pyplot as plt"
      ]
    },
    {
      "cell_type": "code",
      "execution_count": null,
      "metadata": {
        "id": "I_QsO9XTUsFW",
        "outputId": "d4e1c51b-a6ff-44d2-e216-4674fce9497f"
      },
      "outputs": [
        {
          "data": {
            "image/png": "[encoded data removed]",
            "text/plain": [
              "<Figure size 576x576 with 1 Axes>"
            ]
          },
          "metadata": {},
          "output_type": "display_data"
        }
      ],
      "source": [
        "plt.figure(figsize=(8, 8))\n",
        "\n",
        "plt.plot(X, Y, 'o', c='y')\n",
        "\n",
        "plt.show()"
      ]
    },
    {
      "cell_type": "code",
      "execution_count": null,
      "metadata": {
        "id": "UB5ERDtZUsFW"
      },
      "outputs": [],
      "source": [
        "from sklearn.model_selection import train_test_split\n",
        "from sklearn.linear_model import LinearRegression"
      ]
    },
    {
      "cell_type": "code",
      "execution_count": null,
      "metadata": {
        "id": "Uu1mUpGaUsFW"
      },
      "outputs": [],
      "source": [
        "x_train, x_test, y_train, y_test = train_test_split(X, Y, test_size=0.2)"
      ]
    },
    {
      "cell_type": "markdown",
      "metadata": {
        "id": "eFooYrcKUsFW"
      },
      "source": [
        "### Linear Regression\n",
        "https://scikit-learn.org/stable/modules/generated/sklearn.linear_model.LinearRegression.html"
      ]
    },
    {
      "cell_type": "code",
      "execution_count": null,
      "metadata": {
        "id": "vhvrbThmUsFW"
      },
      "outputs": [],
      "source": [
        "reg = LinearRegression().fit(x_train, y_train)"
      ]
    },
    {
      "cell_type": "code",
      "execution_count": null,
      "metadata": {
        "id": "SDzserl7UsFX",
        "outputId": "39352417-5b23-4949-fff9-2b01d83e2a9f"
      },
      "outputs": [
        {
          "data": {
            "text/plain": [
              "array([11.62732838, 30.0467956 , 11.62732838, 26.61265764, 25.67607456,\n",
              "        3.82246938, 17.09072967, 24.5833943 , 23.33461687, 25.98826892,\n",
              "       24.11510276, 16.31024377, 22.55413097, 12.40781427, 25.98826892,\n",
              "       25.67607456, 16.31024377, 24.11510276, 25.3638802 , 15.52975787,\n",
              "       16.31024377, 27.23704636, 28.64192098, 23.64681123, 26.76875482,\n",
              "       17.87121557, 25.67607456, 28.4858238 , 25.67607456, 26.1443661 ,\n",
              "       29.73460124, 28.79801816, 28.79801816, 24.89558866, 21.77364507,\n",
              "       28.17362944, 25.98826892, 24.89558866, 25.67607456, 27.86143508,\n",
              "       24.5833943 , 24.89558866, 20.99315917, 21.77364507, 25.98826892,\n",
              "       32.07605894, 28.4858238 , 28.4858238 , 31.6077674 , 16.31024377,\n",
              "       24.5833943 , 10.06635658, 30.20289278, 20.99315917, 28.79801816,\n",
              "       17.09072967, 28.95411534, 32.23215612, 32.54435048, 22.55413097,\n",
              "       25.98826892, 22.55413097, 29.11021252, 24.11510276, 16.31024377,\n",
              "       28.01753226, 26.1443661 , 12.40781427, 29.2663097 , 25.67607456,\n",
              "       24.11510276, 17.87121557, 19.58828455, 17.09072967, 16.46634095,\n",
              "       13.96878607,  6.16392708, 25.67607456])"
            ]
          },
          "execution_count": 90,
          "metadata": {},
          "output_type": "execute_result"
        }
      ],
      "source": [
        "y_pred = reg.predict(x_test)\n",
        "\n",
        "y_pred"
      ]
    },
    {
      "cell_type": "code",
      "execution_count": null,
      "metadata": {
        "id": "bDrlP_WTUsFX",
        "outputId": "7841c8aa-874c-433a-ec18-fa21028501c0"
      },
      "outputs": [
        {
          "name": "stdout",
          "output_type": "stream",
          "text": [
            "r_2 score:  0.5295982825213468\n"
          ]
        }
      ],
      "source": [
        "from sklearn.metrics import r2_score\n",
        "\n",
        "print(\"r_2 score: \", r2_score(y_test, y_pred))"
      ]
    },
    {
      "cell_type": "code",
      "execution_count": null,
      "metadata": {
        "id": "mU3xSkAmUsFX",
        "outputId": "db5869df-c1e3-4533-f010-2ea7cf7b4120"
      },
      "outputs": [
        {
          "data": {
            "image/png": "[encoded data removed]",
            "text/plain": [
              "<Figure size 576x576 with 1 Axes>"
            ]
          },
          "metadata": {},
          "output_type": "display_data"
        }
      ],
      "source": [
        "plt.figure(figsize=(8, 8))\n",
        "\n",
        "plt.plot(x_train, y_train, 'o', c='y')\n",
        "\n",
        "plt.plot(x_test, y_pred, linewidth=2, color='green',\n",
        "         linestyle='-', label='linear regression')\n",
        "\n",
        "plt.show()"
      ]
    },
    {
      "cell_type": "markdown",
      "metadata": {
        "id": "-zI-DreXUsFX"
      },
      "source": [
        "#### Discretizing data with encode='ordinal' and strategy='quantile' (by default)"
      ]
    },
    {
      "cell_type": "code",
      "execution_count": null,
      "metadata": {
        "id": "wYrEFOwEUsFX"
      },
      "outputs": [],
      "source": [
        "enc = KBinsDiscretizer(n_bins=20, encode='ordinal')\n",
        "\n",
        "x_binned = enc.fit_transform(x_train)"
      ]
    },
    {
      "cell_type": "code",
      "execution_count": null,
      "metadata": {
        "id": "F4aCcWtvUsFX",
        "outputId": "858c31ca-df25-45a6-a812-8b7c68f7b2a2"
      },
      "outputs": [
        {
          "data": {
            "text/plain": [
              "array([[19.],\n",
              "       [ 5.],\n",
              "       [ 3.],\n",
              "       [ 7.],\n",
              "       [ 0.],\n",
              "       [ 2.],\n",
              "       [11.],\n",
              "       [11.],\n",
              "       [15.],\n",
              "       [ 4.]])"
            ]
          },
          "execution_count": 94,
          "metadata": {},
          "output_type": "execute_result"
        }
      ],
      "source": [
        "x_binned[:10]"
      ]
    },
    {
      "cell_type": "code",
      "execution_count": null,
      "metadata": {
        "id": "0hx97atAUsFY"
      },
      "outputs": [],
      "source": [
        "x_test_binned = enc.transform(x_test)"
      ]
    },
    {
      "cell_type": "code",
      "execution_count": null,
      "metadata": {
        "id": "cmnbTmUMUsFY"
      },
      "outputs": [],
      "source": [
        "reg = LinearRegression().fit(x_binned, y_train)"
      ]
    },
    {
      "cell_type": "code",
      "execution_count": null,
      "metadata": {
        "id": "jYMC2QuPUsFY",
        "outputId": "fb000acc-6a49-4de9-fc1f-22ec3233ffd7"
      },
      "outputs": [
        {
          "data": {
            "text/plain": [
              "array([13.48959997, 33.03010472, 13.48959997, 26.51660314, 24.34543595,\n",
              "       13.48959997, 16.74635077, 22.17426875, 20.00310156, 25.43101954,\n",
              "       21.08868515, 15.66076717, 18.91751796, 14.57518357, 25.43101954,\n",
              "       24.34543595, 15.66076717, 21.08868515, 23.25985235, 14.57518357,\n",
              "       15.66076717, 27.60218674, 29.77335393, 21.08868515, 27.60218674,\n",
              "       16.74635077, 24.34543595, 29.77335393, 24.34543595, 26.51660314,\n",
              "       33.03010472, 30.85893753, 30.85893753, 23.25985235, 18.91751796,\n",
              "       29.77335393, 25.43101954, 23.25985235, 24.34543595, 28.68777033,\n",
              "       22.17426875, 23.25985235, 17.83193436, 18.91751796, 25.43101954,\n",
              "       34.11568832, 29.77335393, 29.77335393, 34.11568832, 15.66076717,\n",
              "       22.17426875, 13.48959997, 33.03010472, 17.83193436, 30.85893753,\n",
              "       16.74635077, 30.85893753, 34.11568832, 34.11568832, 18.91751796,\n",
              "       25.43101954, 18.91751796, 30.85893753, 21.08868515, 15.66076717,\n",
              "       28.68777033, 26.51660314, 14.57518357, 31.94452113, 24.34543595,\n",
              "       21.08868515, 16.74635077, 17.83193436, 16.74635077, 16.74635077,\n",
              "       14.57518357, 13.48959997, 24.34543595])"
            ]
          },
          "execution_count": 97,
          "metadata": {},
          "output_type": "execute_result"
        }
      ],
      "source": [
        "y_pred = reg.predict(x_test_binned)\n",
        "\n",
        "y_pred"
      ]
    },
    {
      "cell_type": "code",
      "execution_count": null,
      "metadata": {
        "id": "skvmaSD3UsFY",
        "outputId": "4232b66c-890b-41a6-eb46-421a63a954d4"
      },
      "outputs": [
        {
          "data": {
            "text/plain": [
              "0.6865118648010272"
            ]
          },
          "execution_count": 98,
          "metadata": {},
          "output_type": "execute_result"
        }
      ],
      "source": [
        "r2_score(y_test, y_pred)"
      ]
    },
    {
      "cell_type": "code",
      "execution_count": null,
      "metadata": {
        "id": "xPo8VyC7UsFY",
        "outputId": "97e72d34-13b0-4db7-e7f9-23086fbfde66"
      },
      "outputs": [
        {
          "data": {
            "image/png": "[encoded data removed]",
            "text/plain": [
              "<Figure size 576x576 with 1 Axes>"
            ]
          },
          "metadata": {},
          "output_type": "display_data"
        }
      ],
      "source": [
        "plt.figure(figsize=(8, 8))\n",
        "\n",
        "plt.scatter(x_train, y_train, c='y')\n",
        "plt.scatter(x_test, y_pred, color='k')\n",
        "\n",
        "plt.vlines(enc.bin_edges_[0], *plt.gca().get_ylim(), linewidth=1, alpha=.2)\n",
        "\n",
        "plt.show()"
      ]
    },
    {
      "cell_type": "markdown",
      "metadata": {
        "id": "eR8yUwjGUsFY"
      },
      "source": [
        "#### Discretizing data with encode='onehot' and strategy='quantile' (by default)"
      ]
    },
    {
      "cell_type": "code",
      "execution_count": null,
      "metadata": {
        "id": "pzR8v8ScUsFY"
      },
      "outputs": [],
      "source": [
        "enc = KBinsDiscretizer(n_bins=20, encode='onehot')\n",
        "\n",
        "x_binned = enc.fit_transform(x_train)"
      ]
    },
    {
      "cell_type": "code",
      "execution_count": null,
      "metadata": {
        "id": "gyrG-afeUsFY",
        "outputId": "f5c09267-28ae-4706-e895-451dcdeb41c4"
      },
      "outputs": [
        {
          "data": {
            "text/plain": [
              "array([[0., 0., 0., 0., 0., 0., 0., 0., 0., 0., 0., 0., 0., 0., 0., 0.,\n",
              "        0., 0., 0., 1.],\n",
              "       [0., 0., 0., 0., 0., 1., 0., 0., 0., 0., 0., 0., 0., 0., 0., 0.,\n",
              "        0., 0., 0., 0.],\n",
              "       [0., 0., 0., 1., 0., 0., 0., 0., 0., 0., 0., 0., 0., 0., 0., 0.,\n",
              "        0., 0., 0., 0.],\n",
              "       [0., 0., 0., 0., 0., 0., 0., 1., 0., 0., 0., 0., 0., 0., 0., 0.,\n",
              "        0., 0., 0., 0.],\n",
              "       [1., 0., 0., 0., 0., 0., 0., 0., 0., 0., 0., 0., 0., 0., 0., 0.,\n",
              "        0., 0., 0., 0.],\n",
              "       [0., 0., 1., 0., 0., 0., 0., 0., 0., 0., 0., 0., 0., 0., 0., 0.,\n",
              "        0., 0., 0., 0.],\n",
              "       [0., 0., 0., 0., 0., 0., 0., 0., 0., 0., 0., 1., 0., 0., 0., 0.,\n",
              "        0., 0., 0., 0.],\n",
              "       [0., 0., 0., 0., 0., 0., 0., 0., 0., 0., 0., 1., 0., 0., 0., 0.,\n",
              "        0., 0., 0., 0.],\n",
              "       [0., 0., 0., 0., 0., 0., 0., 0., 0., 0., 0., 0., 0., 0., 0., 1.,\n",
              "        0., 0., 0., 0.],\n",
              "       [0., 0., 0., 0., 1., 0., 0., 0., 0., 0., 0., 0., 0., 0., 0., 0.,\n",
              "        0., 0., 0., 0.]])"
            ]
          },
          "execution_count": 101,
          "metadata": {},
          "output_type": "execute_result"
        }
      ],
      "source": [
        "x_binned.toarray()[:10]"
      ]
    },
    {
      "cell_type": "code",
      "execution_count": null,
      "metadata": {
        "id": "C_oRiFVnUsFZ"
      },
      "outputs": [],
      "source": [
        "x_test_binned = enc.transform(x_test)"
      ]
    },
    {
      "cell_type": "code",
      "execution_count": null,
      "metadata": {
        "id": "IKUhI-BvUsFZ"
      },
      "outputs": [],
      "source": [
        "reg = LinearRegression().fit(x_binned, y_train)"
      ]
    },
    {
      "cell_type": "code",
      "execution_count": null,
      "metadata": {
        "id": "adCYzkDSUsFZ",
        "outputId": "01b58ae3-aa8d-4021-ab93-f0556be8b17f"
      },
      "outputs": [
        {
          "data": {
            "text/plain": [
              "array([12.49999997, 34.82000002, 12.49999997, 25.44444442, 23.55367351,\n",
              "       12.49999997, 16.1571429 , 24.20025961, 19.85384618, 24.98666667,\n",
              "       19.31428576, 15.03446426, 21.53913043, 14.67196426, 24.98666667,\n",
              "       23.55367351, 15.03446426, 19.31428576, 23.79444452, 14.67196426,\n",
              "       15.03446426, 28.39166691, 26.3       , 19.31428576, 28.39166691,\n",
              "       16.1571429 , 23.55367351, 26.3       , 23.55367351, 25.44444442,\n",
              "       34.82000002, 31.48446424, 31.48446424, 23.79444452, 21.53913043,\n",
              "       26.3       , 24.98666667, 23.79444452, 23.55367351, 27.94      ,\n",
              "       24.20025961, 23.79444452, 18.12499997, 21.53913043, 24.98666667,\n",
              "       33.19374995, 26.3       , 26.3       , 33.19374995, 15.03446426,\n",
              "       24.20025961, 12.49999997, 34.82000002, 18.12499997, 31.48446424,\n",
              "       16.1571429 , 31.48446424, 33.19374995, 33.19374995, 21.53913043,\n",
              "       24.98666667, 21.53913043, 31.48446424, 19.31428576, 15.03446426,\n",
              "       27.94      , 25.44444442, 14.67196426, 33.43333325, 23.55367351,\n",
              "       19.31428576, 16.1571429 , 18.12499997, 16.1571429 , 16.1571429 ,\n",
              "       14.67196426, 12.49999997, 23.55367351])"
            ]
          },
          "execution_count": 104,
          "metadata": {},
          "output_type": "execute_result"
        }
      ],
      "source": [
        "y_pred = reg.predict(x_test_binned)\n",
        "\n",
        "y_pred"
      ]
    },
    {
      "cell_type": "code",
      "execution_count": null,
      "metadata": {
        "id": "0xm3SUUMUsFZ",
        "outputId": "f7c5d224-1802-4efb-a039-c2722d1f9726"
      },
      "outputs": [
        {
          "data": {
            "text/plain": [
              "0.663269379454714"
            ]
          },
          "execution_count": 105,
          "metadata": {},
          "output_type": "execute_result"
        }
      ],
      "source": [
        "r2_score(y_test, y_pred)"
      ]
    },
    {
      "cell_type": "code",
      "execution_count": null,
      "metadata": {
        "id": "gYM-o80RUsFZ",
        "outputId": "e40099ea-91b3-4878-de08-81535e6d8d0a"
      },
      "outputs": [
        {
          "data": {
            "image/png": "[encoded data removed]",
            "text/plain": [
              "<Figure size 576x576 with 1 Axes>"
            ]
          },
          "metadata": {},
          "output_type": "display_data"
        }
      ],
      "source": [
        "plt.figure(figsize=(8, 8))\n",
        "\n",
        "plt.scatter(x_train, y_train, c='y')\n",
        "\n",
        "plt.scatter(x_test, y_pred, color='k')\n",
        "\n",
        "plt.vlines(enc.bin_edges_[0], *plt.gca().get_ylim(), linewidth=1, alpha=.2)\n",
        "\n",
        "plt.tight_layout()"
      ]
    },
    {
      "cell_type": "code",
      "execution_count": null,
      "metadata": {
        "id": "EeCKEFzvUsFZ"
      },
      "outputs": [],
      "source": [
        ""
      ]
    },
    {
      "cell_type": "code",
      "execution_count": null,
      "metadata": {
        "id": "AMxvThX1UsFZ"
      },
      "outputs": [],
      "source": [
        ""
      ]
    },
    {
      "cell_type": "code",
      "execution_count": null,
      "metadata": {
        "id": "XWrNJdSjUsFZ"
      },
      "outputs": [],
      "source": [
        ""
      ]
    },
    {
      "cell_type": "code",
      "execution_count": null,
      "metadata": {
        "id": "Ul--7jJ8UsFZ"
      },
      "outputs": [],
      "source": [
        ""
      ]
    },
    {
      "cell_type": "code",
      "execution_count": null,
      "metadata": {
        "id": "qhBCMkHlUsFZ"
      },
      "outputs": [],
      "source": [
        ""
      ]
    },
    {
      "cell_type": "code",
      "execution_count": null,
      "metadata": {
        "id": "xUdmzFWqUsFZ"
      },
      "outputs": [],
      "source": [
        ""
      ]
    },
    {
      "cell_type": "code",
      "execution_count": null,
      "metadata": {
        "id": "N-l7EVzcUsFZ"
      },
      "outputs": [],
      "source": [
        ""
      ]
    },
    {
      "cell_type": "code",
      "execution_count": null,
      "metadata": {
        "id": "h2x-ELA4UsFZ"
      },
      "outputs": [],
      "source": [
        ""
      ]
    },
    {
      "cell_type": "code",
      "execution_count": null,
      "metadata": {
        "id": "_Gz0MgVKUsFa"
      },
      "outputs": [],
      "source": [
        ""
      ]
    },
    {
      "cell_type": "code",
      "execution_count": null,
      "metadata": {
        "id": "nH1QyXsqUsFa"
      },
      "outputs": [],
      "source": [
        ""
      ]
    },
    {
      "cell_type": "code",
      "execution_count": null,
      "metadata": {
        "id": "nnJt1No8UsFa"
      },
      "outputs": [],
      "source": [
        ""
      ]
    },
    {
      "cell_type": "code",
      "execution_count": null,
      "metadata": {
        "id": "iJAIdsyzUsFa"
      },
      "outputs": [],
      "source": [
        ""
      ]
    },
    {
      "cell_type": "code",
      "execution_count": null,
      "metadata": {
        "id": "tBIn7M9hUsFa"
      },
      "outputs": [],
      "source": [
        ""
      ]
    },
    {
      "cell_type": "code",
      "execution_count": null,
      "metadata": {
        "id": "mcrIQR_CUsFa"
      },
      "outputs": [],
      "source": [
        ""
      ]
    },
    {
      "cell_type": "code",
      "execution_count": null,
      "metadata": {
        "id": "WAkTqaEfUsFa"
      },
      "outputs": [],
      "source": [
        ""
      ]
    },
    {
      "cell_type": "code",
      "execution_count": null,
      "metadata": {
        "id": "0beQP3AwUsFa"
      },
      "outputs": [],
      "source": [
        ""
      ]
    },
    {
      "cell_type": "code",
      "execution_count": null,
      "metadata": {
        "id": "L5Eh3iGFUsFa"
      },
      "outputs": [],
      "source": [
        ""
      ]
    },
    {
      "cell_type": "code",
      "execution_count": null,
      "metadata": {
        "id": "Lf-F-hsfUsFa"
      },
      "outputs": [],
      "source": [
        ""
      ]
    },
    {
      "cell_type": "code",
      "execution_count": null,
      "metadata": {
        "id": "zaOBaAwzUsFa"
      },
      "outputs": [],
      "source": [
        ""
      ]
    },
    {
      "cell_type": "code",
      "execution_count": null,
      "metadata": {
        "id": "Fmjb4zyzUsFa"
      },
      "outputs": [],
      "source": [
        ""
      ]
    },
    {
      "cell_type": "code",
      "execution_count": null,
      "metadata": {
        "id": "R-emR6ToUsFa"
      },
      "outputs": [],
      "source": [
        ""
      ]
    },
    {
      "cell_type": "code",
      "execution_count": null,
      "metadata": {
        "id": "N_ub-KNrUsFa"
      },
      "outputs": [],
      "source": [
        ""
      ]
    },
    {
      "cell_type": "code",
      "execution_count": null,
      "metadata": {
        "id": "ZofqpztXUsFa"
      },
      "outputs": [],
      "source": [
        ""
      ]
    }
  ],
  "metadata": {
    "kernelspec": {
      "display_name": "Python 3",
      "language": "python",
      "name": "python3"
    },
    "language_info": {
      "codemirror_mode": {
        "name": "ipython",
        "version": 3
      },
      "file_extension": ".py",
      "mimetype": "text/x-python",
      "name": "python",
      "nbconvert_exporter": "python",
      "pygments_lexer": "ipython3",
      "version": "3.6.4"
    },
    "colab": {
      "name": "Discretization.ipynb",
      "provenance": [],
      "include_colab_link": true
    }
  },
  "nbformat": 4,
  "nbformat_minor": 0
}