{
  "cells": [
    {
      "cell_type": "markdown",
      "metadata": {
        "id": "view-in-github",
        "colab_type": "text"
      },
      "source": [
        "<a href=\"https://colab.research.google.com/github/shivangi-975/Data-Preparation-for-ML/blob/main/Encoding_of_data(LabelEncoderAndOneHotEncoder).ipynb\" target=\"_parent\"><img src=\"https://colab.research.google.com/assets/colab-badge.svg\" alt=\"Open In Colab\"/></a>"
      ]
    },
    {
      "cell_type": "markdown",
      "metadata": {
        "id": "wGkieAEUUSCi"
      },
      "source": [
        "### Importing library"
      ]
    },
    {
      "cell_type": "code",
      "execution_count": null,
      "metadata": {
        "id": "jqI1ykjyUSCn"
      },
      "outputs": [],
      "source": [
        "import pandas as pd"
      ]
    },
    {
      "cell_type": "markdown",
      "metadata": {
        "id": "lPN8JKynUSCo"
      },
      "source": [
        "### GoSales Dataset\n",
        "Source: https://raw.githubusercontent.com/sandra-calvo/machine-learning-DSX/master/GoSales_Tx_LogisticRegression.csv\n",
        "\n",
        "Datafields: https://developer.ibm.com/dwblog/2017/watson-machine-learning-within-ibm-data-science-experience/\n",
        "\n",
        "* IS_TENT : It has the value TRUE or FALSE which tells us if a customer has bought a tent or not.   \n",
        "* GENDER : Customer's gender  \n",
        "* AGE : Customer's age (F, M)  \n",
        "* MARITAL_STATUS : Customer's marital status ('married', 'single', 'unspecified')  \n",
        "* PROFESSION : Customer's profession ('Professional', 'Other', 'Hospitality', 'Retired', 'Retail', 'Sales', 'Trades', 'Student', 'Executive') "
      ]
    },
    {
      "cell_type": "code",
      "execution_count": null,
      "metadata": {
        "id": "gC6Ds3_FUSCp",
        "outputId": "a715d5ee-73dc-4d0a-84ec-abe6a8138296"
      },
      "outputs": [
        {
          "data": {
            "text/html": [
              "<div>\n",
              "<style scoped>\n",
              "    .dataframe tbody tr th:only-of-type {\n",
              "        vertical-align: middle;\n",
              "    }\n",
              "\n",
              "    .dataframe tbody tr th {\n",
              "        vertical-align: top;\n",
              "    }\n",
              "\n",
              "    .dataframe thead th {\n",
              "        text-align: right;\n",
              "    }\n",
              "</style>\n",
              "<table border=\"1\" class=\"dataframe\">\n",
              "  <thead>\n",
              "    <tr style=\"text-align: right;\">\n",
              "      <th></th>\n",
              "      <th>IS_TENT</th>\n",
              "      <th>GENDER</th>\n",
              "      <th>AGE</th>\n",
              "      <th>MARITAL_STATUS</th>\n",
              "      <th>PROFESSION</th>\n",
              "    </tr>\n",
              "  </thead>\n",
              "  <tbody>\n",
              "    <tr>\n",
              "      <td>27805</td>\n",
              "      <td>False</td>\n",
              "      <td>M</td>\n",
              "      <td>21</td>\n",
              "      <td>Single</td>\n",
              "      <td>Executive</td>\n",
              "    </tr>\n",
              "    <tr>\n",
              "      <td>2671</td>\n",
              "      <td>False</td>\n",
              "      <td>F</td>\n",
              "      <td>37</td>\n",
              "      <td>Unspecified</td>\n",
              "      <td>Hospitality</td>\n",
              "    </tr>\n",
              "    <tr>\n",
              "      <td>8908</td>\n",
              "      <td>False</td>\n",
              "      <td>M</td>\n",
              "      <td>44</td>\n",
              "      <td>Married</td>\n",
              "      <td>Professional</td>\n",
              "    </tr>\n",
              "    <tr>\n",
              "      <td>16773</td>\n",
              "      <td>False</td>\n",
              "      <td>F</td>\n",
              "      <td>38</td>\n",
              "      <td>Married</td>\n",
              "      <td>Professional</td>\n",
              "    </tr>\n",
              "    <tr>\n",
              "      <td>41792</td>\n",
              "      <td>False</td>\n",
              "      <td>F</td>\n",
              "      <td>37</td>\n",
              "      <td>Married</td>\n",
              "      <td>Other</td>\n",
              "    </tr>\n",
              "    <tr>\n",
              "      <td>24858</td>\n",
              "      <td>True</td>\n",
              "      <td>M</td>\n",
              "      <td>20</td>\n",
              "      <td>Single</td>\n",
              "      <td>Sales</td>\n",
              "    </tr>\n",
              "    <tr>\n",
              "      <td>16833</td>\n",
              "      <td>False</td>\n",
              "      <td>F</td>\n",
              "      <td>43</td>\n",
              "      <td>Married</td>\n",
              "      <td>Professional</td>\n",
              "    </tr>\n",
              "    <tr>\n",
              "      <td>26552</td>\n",
              "      <td>False</td>\n",
              "      <td>M</td>\n",
              "      <td>36</td>\n",
              "      <td>Single</td>\n",
              "      <td>Sales</td>\n",
              "    </tr>\n",
              "    <tr>\n",
              "      <td>32526</td>\n",
              "      <td>True</td>\n",
              "      <td>M</td>\n",
              "      <td>25</td>\n",
              "      <td>Single</td>\n",
              "      <td>Other</td>\n",
              "    </tr>\n",
              "    <tr>\n",
              "      <td>28124</td>\n",
              "      <td>False</td>\n",
              "      <td>M</td>\n",
              "      <td>42</td>\n",
              "      <td>Married</td>\n",
              "      <td>Other</td>\n",
              "    </tr>\n",
              "  </tbody>\n",
              "</table>\n",
              "</div>"
            ],
            "text/plain": [
              "       IS_TENT GENDER  AGE MARITAL_STATUS    PROFESSION\n",
              "27805    False      M   21         Single     Executive\n",
              "2671     False      F   37    Unspecified   Hospitality\n",
              "8908     False      M   44        Married  Professional\n",
              "16773    False      F   38        Married  Professional\n",
              "41792    False      F   37        Married         Other\n",
              "24858     True      M   20         Single         Sales\n",
              "16833    False      F   43        Married  Professional\n",
              "26552    False      M   36         Single         Sales\n",
              "32526     True      M   25         Single         Other\n",
              "28124    False      M   42        Married         Other"
            ]
          },
          "execution_count": 2,
          "metadata": {},
          "output_type": "execute_result"
        }
      ],
      "source": [
        "gosales = pd.read_csv('datasets/GoSales_Tx_LogisticRegression.csv')\n",
        "\n",
        "gosales.sample(10)"
      ]
    },
    {
      "cell_type": "code",
      "execution_count": null,
      "metadata": {
        "id": "Q1eKPZRRUSCq",
        "outputId": "56239164-cece-4922-f476-9d4580d54cf9"
      },
      "outputs": [
        {
          "data": {
            "text/plain": [
              "(60252, 5)"
            ]
          },
          "execution_count": 3,
          "metadata": {},
          "output_type": "execute_result"
        }
      ],
      "source": [
        "gosales.shape"
      ]
    },
    {
      "cell_type": "markdown",
      "metadata": {
        "id": "Xqlejs8VUSCr"
      },
      "source": [
        "#### Describe age column"
      ]
    },
    {
      "cell_type": "code",
      "execution_count": null,
      "metadata": {
        "id": "1XrxZv-vUSCr",
        "outputId": "4de228ca-a185-4cf8-b9b0-b226328efc56"
      },
      "outputs": [
        {
          "data": {
            "text/plain": [
              "count    60252.000000\n",
              "mean        34.187479\n",
              "std         10.105477\n",
              "min         17.000000\n",
              "25%         26.000000\n",
              "50%         33.000000\n",
              "75%         41.000000\n",
              "max         69.000000\n",
              "Name: AGE, dtype: float64"
            ]
          },
          "execution_count": 4,
          "metadata": {},
          "output_type": "execute_result"
        }
      ],
      "source": [
        "gosales.AGE.describe()"
      ]
    },
    {
      "cell_type": "markdown",
      "metadata": {
        "id": "OKfYfR65USCs"
      },
      "source": [
        "#### Plot bar graph for categorical values"
      ]
    },
    {
      "cell_type": "code",
      "execution_count": null,
      "metadata": {
        "id": "1tl0omCiUSCs"
      },
      "outputs": [],
      "source": [
        "import matplotlib.pyplot as plt"
      ]
    },
    {
      "cell_type": "code",
      "execution_count": null,
      "metadata": {
        "id": "4Z2np_VIUSCs",
        "outputId": "43f41054-4a6f-4d70-a364-0f5cd9546b62"
      },
      "outputs": [
        {
          "data": {
            "image/png": "[encoded data removed]",
            "text/plain": [
              "<Figure size 576x576 with 1 Axes>"
            ]
          },
          "metadata": {},
          "output_type": "display_data"
        }
      ],
      "source": [
        "plt.figure(figsize=(8, 8))\n",
        "\n",
        "pd.value_counts(gosales['IS_TENT']).plot.bar()\n",
        "\n",
        "plt.show()"
      ]
    },
    {
      "cell_type": "code",
      "execution_count": null,
      "metadata": {
        "id": "IjpapUumUSCt",
        "outputId": "5634189d-6482-4807-a40e-5ed79fab62f1"
      },
      "outputs": [
        {
          "data": {
            "image/png": "[encoded data removed]",
            "text/plain": [
              "<Figure size 576x576 with 1 Axes>"
            ]
          },
          "metadata": {},
          "output_type": "display_data"
        }
      ],
      "source": [
        "plt.figure(figsize=(8, 8))\n",
        "\n",
        "pd.value_counts(gosales['MARITAL_STATUS']).plot.bar()\n",
        "\n",
        "plt.show()"
      ]
    },
    {
      "cell_type": "code",
      "execution_count": null,
      "metadata": {
        "id": "2jgePQ_BUSCu",
        "outputId": "d5237745-a75a-49d6-ffff-adf24a51514c"
      },
      "outputs": [
        {
          "data": {
            "image/png": "[encoded data removed]",
            "text/plain": [
              "<Figure size 576x576 with 1 Axes>"
            ]
          },
          "metadata": {},
          "output_type": "display_data"
        }
      ],
      "source": [
        "plt.figure(figsize=(8, 8))\n",
        "pd.value_counts(gosales['GENDER']).plot.bar()\n",
        "plt.show()"
      ]
    },
    {
      "cell_type": "code",
      "execution_count": null,
      "metadata": {
        "id": "-dxXW-pTUSCu",
        "outputId": "2a0b40a9-83e4-470b-9dc7-61b0b986564c"
      },
      "outputs": [
        {
          "data": {
            "image/png": "[encoded data removed]",
            "text/plain": [
              "<Figure size 576x576 with 1 Axes>"
            ]
          },
          "metadata": {},
          "output_type": "display_data"
        }
      ],
      "source": [
        "plt.figure(figsize=(8, 8))\n",
        "pd.value_counts(gosales['PROFESSION']).plot.bar()\n",
        "plt.show()"
      ]
    },
    {
      "cell_type": "markdown",
      "metadata": {
        "id": "sRPI0ixlUSCv"
      },
      "source": [
        "### Label Encoder\n",
        "https://scikit-learn.org/stable/modules/generated/sklearn.preprocessing.LabelEncoder.html\n",
        "\n",
        "##### Here we are applying label encoding on 'GENDER' column"
      ]
    },
    {
      "cell_type": "code",
      "execution_count": null,
      "metadata": {
        "id": "Qld_3kc7USCv"
      },
      "outputs": [],
      "source": [
        "gender = ['M', 'F']"
      ]
    },
    {
      "cell_type": "code",
      "execution_count": null,
      "metadata": {
        "id": "iInsbeVRUSCw"
      },
      "outputs": [],
      "source": [
        "from sklearn import preprocessing\n",
        "\n",
        "label_encoding = preprocessing.LabelEncoder()\n",
        "\n",
        "label_encoding = label_encoding.fit(gender)"
      ]
    },
    {
      "cell_type": "code",
      "execution_count": null,
      "metadata": {
        "id": "IpEaEL9dUSCw"
      },
      "outputs": [],
      "source": [
        "gosales['GENDER'] = label_encoding.transform(gosales['GENDER'].astype(str))"
      ]
    },
    {
      "cell_type": "code",
      "execution_count": null,
      "metadata": {
        "id": "I4Zgbd53USCw",
        "outputId": "99eb2a6e-6a35-457f-b80e-3dc20674db86"
      },
      "outputs": [
        {
          "data": {
            "text/plain": [
              "array(['F', 'M'], dtype='<U1')"
            ]
          },
          "execution_count": 13,
          "metadata": {},
          "output_type": "execute_result"
        }
      ],
      "source": [
        "label_encoding.classes_"
      ]
    },
    {
      "cell_type": "code",
      "execution_count": null,
      "metadata": {
        "id": "ENBUV_Q3USCx",
        "outputId": "b71d87fc-a79f-4d15-9edd-6f62b99b8255"
      },
      "outputs": [
        {
          "data": {
            "text/html": [
              "<div>\n",
              "<style scoped>\n",
              "    .dataframe tbody tr th:only-of-type {\n",
              "        vertical-align: middle;\n",
              "    }\n",
              "\n",
              "    .dataframe tbody tr th {\n",
              "        vertical-align: top;\n",
              "    }\n",
              "\n",
              "    .dataframe thead th {\n",
              "        text-align: right;\n",
              "    }\n",
              "</style>\n",
              "<table border=\"1\" class=\"dataframe\">\n",
              "  <thead>\n",
              "    <tr style=\"text-align: right;\">\n",
              "      <th></th>\n",
              "      <th>IS_TENT</th>\n",
              "      <th>GENDER</th>\n",
              "      <th>AGE</th>\n",
              "      <th>MARITAL_STATUS</th>\n",
              "      <th>PROFESSION</th>\n",
              "    </tr>\n",
              "  </thead>\n",
              "  <tbody>\n",
              "    <tr>\n",
              "      <td>32268</td>\n",
              "      <td>False</td>\n",
              "      <td>0</td>\n",
              "      <td>34</td>\n",
              "      <td>Unspecified</td>\n",
              "      <td>Hospitality</td>\n",
              "    </tr>\n",
              "    <tr>\n",
              "      <td>31094</td>\n",
              "      <td>False</td>\n",
              "      <td>0</td>\n",
              "      <td>20</td>\n",
              "      <td>Single</td>\n",
              "      <td>Student</td>\n",
              "    </tr>\n",
              "    <tr>\n",
              "      <td>20785</td>\n",
              "      <td>False</td>\n",
              "      <td>1</td>\n",
              "      <td>18</td>\n",
              "      <td>Single</td>\n",
              "      <td>Student</td>\n",
              "    </tr>\n",
              "    <tr>\n",
              "      <td>14913</td>\n",
              "      <td>False</td>\n",
              "      <td>0</td>\n",
              "      <td>28</td>\n",
              "      <td>Single</td>\n",
              "      <td>Student</td>\n",
              "    </tr>\n",
              "    <tr>\n",
              "      <td>24590</td>\n",
              "      <td>False</td>\n",
              "      <td>1</td>\n",
              "      <td>23</td>\n",
              "      <td>Single</td>\n",
              "      <td>Sales</td>\n",
              "    </tr>\n",
              "    <tr>\n",
              "      <td>9565</td>\n",
              "      <td>False</td>\n",
              "      <td>0</td>\n",
              "      <td>36</td>\n",
              "      <td>Married</td>\n",
              "      <td>Executive</td>\n",
              "    </tr>\n",
              "    <tr>\n",
              "      <td>17803</td>\n",
              "      <td>True</td>\n",
              "      <td>1</td>\n",
              "      <td>31</td>\n",
              "      <td>Married</td>\n",
              "      <td>Trades</td>\n",
              "    </tr>\n",
              "    <tr>\n",
              "      <td>58868</td>\n",
              "      <td>False</td>\n",
              "      <td>0</td>\n",
              "      <td>35</td>\n",
              "      <td>Married</td>\n",
              "      <td>Other</td>\n",
              "    </tr>\n",
              "    <tr>\n",
              "      <td>36107</td>\n",
              "      <td>False</td>\n",
              "      <td>1</td>\n",
              "      <td>42</td>\n",
              "      <td>Single</td>\n",
              "      <td>Sales</td>\n",
              "    </tr>\n",
              "    <tr>\n",
              "      <td>7522</td>\n",
              "      <td>False</td>\n",
              "      <td>1</td>\n",
              "      <td>39</td>\n",
              "      <td>Married</td>\n",
              "      <td>Other</td>\n",
              "    </tr>\n",
              "  </tbody>\n",
              "</table>\n",
              "</div>"
            ],
            "text/plain": [
              "       IS_TENT  GENDER  AGE MARITAL_STATUS   PROFESSION\n",
              "32268    False       0   34    Unspecified  Hospitality\n",
              "31094    False       0   20         Single      Student\n",
              "20785    False       1   18         Single      Student\n",
              "14913    False       0   28         Single      Student\n",
              "24590    False       1   23         Single        Sales\n",
              "9565     False       0   36        Married    Executive\n",
              "17803     True       1   31        Married       Trades\n",
              "58868    False       0   35        Married        Other\n",
              "36107    False       1   42         Single        Sales\n",
              "7522     False       1   39        Married        Other"
            ]
          },
          "execution_count": 14,
          "metadata": {},
          "output_type": "execute_result"
        }
      ],
      "source": [
        "gosales.sample(10)"
      ]
    },
    {
      "cell_type": "markdown",
      "metadata": {
        "id": "A6eRUJYXUSCx"
      },
      "source": [
        "### One-hot Encoder\n",
        "https://scikit-learn.org/stable/modules/generated/sklearn.preprocessing.OneHotEncoder.html"
      ]
    },
    {
      "cell_type": "code",
      "execution_count": null,
      "metadata": {
        "id": "5EnY3HQAUSCy",
        "outputId": "e4d00c48-a65d-4c4a-b81e-9773dd706d6d"
      },
      "outputs": [
        {
          "data": {
            "text/html": [
              "<div>\n",
              "<style scoped>\n",
              "    .dataframe tbody tr th:only-of-type {\n",
              "        vertical-align: middle;\n",
              "    }\n",
              "\n",
              "    .dataframe tbody tr th {\n",
              "        vertical-align: top;\n",
              "    }\n",
              "\n",
              "    .dataframe thead th {\n",
              "        text-align: right;\n",
              "    }\n",
              "</style>\n",
              "<table border=\"1\" class=\"dataframe\">\n",
              "  <thead>\n",
              "    <tr style=\"text-align: right;\">\n",
              "      <th></th>\n",
              "      <th>MARITAL_STATUS</th>\n",
              "    </tr>\n",
              "  </thead>\n",
              "  <tbody>\n",
              "    <tr>\n",
              "      <td>46037</td>\n",
              "      <td>Married</td>\n",
              "    </tr>\n",
              "    <tr>\n",
              "      <td>7932</td>\n",
              "      <td>Married</td>\n",
              "    </tr>\n",
              "    <tr>\n",
              "      <td>4402</td>\n",
              "      <td>Married</td>\n",
              "    </tr>\n",
              "    <tr>\n",
              "      <td>17568</td>\n",
              "      <td>Unspecified</td>\n",
              "    </tr>\n",
              "    <tr>\n",
              "      <td>44125</td>\n",
              "      <td>Single</td>\n",
              "    </tr>\n",
              "  </tbody>\n",
              "</table>\n",
              "</div>"
            ],
            "text/plain": [
              "      MARITAL_STATUS\n",
              "46037        Married\n",
              "7932         Married\n",
              "4402         Married\n",
              "17568    Unspecified\n",
              "44125         Single"
            ]
          },
          "execution_count": 15,
          "metadata": {},
          "output_type": "execute_result"
        }
      ],
      "source": [
        "gosales[['MARITAL_STATUS']].sample(5)"
      ]
    },
    {
      "cell_type": "code",
      "execution_count": null,
      "metadata": {
        "id": "iDa1ne_HUSCy"
      },
      "outputs": [],
      "source": [
        "one_hot_encoding = preprocessing.OneHotEncoder()\n",
        "\n",
        "one_hot_encoding = one_hot_encoding.fit(gosales['MARITAL_STATUS'].values.reshape(-1, 1))"
      ]
    },
    {
      "cell_type": "code",
      "execution_count": null,
      "metadata": {
        "id": "d-Xx1mjYUSCy",
        "outputId": "aa7f95ff-ee3d-4adb-964a-441bf3e9ef7a"
      },
      "outputs": [
        {
          "data": {
            "text/plain": [
              "[array(['Married', 'Single', 'Unspecified'], dtype=object)]"
            ]
          },
          "execution_count": 17,
          "metadata": {},
          "output_type": "execute_result"
        }
      ],
      "source": [
        "one_hot_encoding.categories_"
      ]
    },
    {
      "cell_type": "code",
      "execution_count": null,
      "metadata": {
        "id": "iyoImUqrUSCy",
        "outputId": "29dfed86-3c71-49c9-c53a-88b51646ec55"
      },
      "outputs": [
        {
          "data": {
            "text/plain": [
              "array([[0., 1., 0.],\n",
              "       [1., 0., 0.],\n",
              "       [1., 0., 0.],\n",
              "       ...,\n",
              "       [1., 0., 0.],\n",
              "       [0., 1., 0.],\n",
              "       [1., 0., 0.]])"
            ]
          },
          "execution_count": 18,
          "metadata": {},
          "output_type": "execute_result"
        }
      ],
      "source": [
        "one_hot_labels = one_hot_encoding.transform(gosales['MARITAL_STATUS'].values.reshape(-1, 1)).toarray()\n",
        "\n",
        "one_hot_labels"
      ]
    },
    {
      "cell_type": "code",
      "execution_count": null,
      "metadata": {
        "id": "zfQ_Wy8xUSCz",
        "outputId": "2ce40a72-3f7d-4842-be53-ec6790ea6f32"
      },
      "outputs": [
        {
          "data": {
            "text/plain": [
              "(60252, 3)"
            ]
          },
          "execution_count": 19,
          "metadata": {},
          "output_type": "execute_result"
        }
      ],
      "source": [
        "one_hot_labels.shape"
      ]
    },
    {
      "cell_type": "markdown",
      "metadata": {
        "id": "SQKaWGu2USCz"
      },
      "source": [
        "#### Creating a dataframe for encoded values"
      ]
    },
    {
      "cell_type": "code",
      "execution_count": null,
      "metadata": {
        "id": "vyl7G9P-USCz",
        "outputId": "fa201373-dfa6-469b-e429-68080145f601"
      },
      "outputs": [
        {
          "data": {
            "text/plain": [
              "array([0., 1., 1., ..., 1., 0., 1.])"
            ]
          },
          "execution_count": 20,
          "metadata": {},
          "output_type": "execute_result"
        }
      ],
      "source": [
        "one_hot_labels[:,0]"
      ]
    },
    {
      "cell_type": "code",
      "execution_count": null,
      "metadata": {
        "id": "0d-H3RxYUSC0",
        "outputId": "b0da180d-5858-49ae-e256-d0092dc9f4a8"
      },
      "outputs": [
        {
          "data": {
            "text/html": [
              "<div>\n",
              "<style scoped>\n",
              "    .dataframe tbody tr th:only-of-type {\n",
              "        vertical-align: middle;\n",
              "    }\n",
              "\n",
              "    .dataframe tbody tr th {\n",
              "        vertical-align: top;\n",
              "    }\n",
              "\n",
              "    .dataframe thead th {\n",
              "        text-align: right;\n",
              "    }\n",
              "</style>\n",
              "<table border=\"1\" class=\"dataframe\">\n",
              "  <thead>\n",
              "    <tr style=\"text-align: right;\">\n",
              "      <th></th>\n",
              "      <th>MARITAL_STATUS_Married</th>\n",
              "      <th>MARITAL_STATUS_Single</th>\n",
              "      <th>MARITAL_STATUS_Unspecified</th>\n",
              "    </tr>\n",
              "  </thead>\n",
              "  <tbody>\n",
              "    <tr>\n",
              "      <td>0</td>\n",
              "      <td>0.0</td>\n",
              "      <td>1.0</td>\n",
              "      <td>0.0</td>\n",
              "    </tr>\n",
              "    <tr>\n",
              "      <td>1</td>\n",
              "      <td>1.0</td>\n",
              "      <td>0.0</td>\n",
              "      <td>0.0</td>\n",
              "    </tr>\n",
              "    <tr>\n",
              "      <td>2</td>\n",
              "      <td>1.0</td>\n",
              "      <td>0.0</td>\n",
              "      <td>0.0</td>\n",
              "    </tr>\n",
              "    <tr>\n",
              "      <td>3</td>\n",
              "      <td>0.0</td>\n",
              "      <td>0.0</td>\n",
              "      <td>1.0</td>\n",
              "    </tr>\n",
              "    <tr>\n",
              "      <td>4</td>\n",
              "      <td>1.0</td>\n",
              "      <td>0.0</td>\n",
              "      <td>0.0</td>\n",
              "    </tr>\n",
              "    <tr>\n",
              "      <td>5</td>\n",
              "      <td>1.0</td>\n",
              "      <td>0.0</td>\n",
              "      <td>0.0</td>\n",
              "    </tr>\n",
              "    <tr>\n",
              "      <td>6</td>\n",
              "      <td>1.0</td>\n",
              "      <td>0.0</td>\n",
              "      <td>0.0</td>\n",
              "    </tr>\n",
              "    <tr>\n",
              "      <td>7</td>\n",
              "      <td>1.0</td>\n",
              "      <td>0.0</td>\n",
              "      <td>0.0</td>\n",
              "    </tr>\n",
              "    <tr>\n",
              "      <td>8</td>\n",
              "      <td>1.0</td>\n",
              "      <td>0.0</td>\n",
              "      <td>0.0</td>\n",
              "    </tr>\n",
              "    <tr>\n",
              "      <td>9</td>\n",
              "      <td>1.0</td>\n",
              "      <td>0.0</td>\n",
              "      <td>0.0</td>\n",
              "    </tr>\n",
              "  </tbody>\n",
              "</table>\n",
              "</div>"
            ],
            "text/plain": [
              "   MARITAL_STATUS_Married  MARITAL_STATUS_Single  MARITAL_STATUS_Unspecified\n",
              "0                     0.0                    1.0                         0.0\n",
              "1                     1.0                    0.0                         0.0\n",
              "2                     1.0                    0.0                         0.0\n",
              "3                     0.0                    0.0                         1.0\n",
              "4                     1.0                    0.0                         0.0\n",
              "5                     1.0                    0.0                         0.0\n",
              "6                     1.0                    0.0                         0.0\n",
              "7                     1.0                    0.0                         0.0\n",
              "8                     1.0                    0.0                         0.0\n",
              "9                     1.0                    0.0                         0.0"
            ]
          },
          "execution_count": 21,
          "metadata": {},
          "output_type": "execute_result"
        }
      ],
      "source": [
        "labels_df = pd.DataFrame()\n",
        "\n",
        "labels_df['MARITAL_STATUS_Married'] = one_hot_labels[:,0]\n",
        "labels_df['MARITAL_STATUS_Single'] = one_hot_labels[:,1]\n",
        "labels_df['MARITAL_STATUS_Unspecified'] = one_hot_labels[:,2]\n",
        "\n",
        "labels_df.head(10)"
      ]
    },
    {
      "cell_type": "markdown",
      "metadata": {
        "id": "AJd0Kt9MUSC0"
      },
      "source": [
        "#### Concatenate the one hot_encoded columns with original dataset and dropping the original MARITAL_STATUS column"
      ]
    },
    {
      "cell_type": "code",
      "execution_count": null,
      "metadata": {
        "id": "tdoDn-RUUSC0"
      },
      "outputs": [],
      "source": [
        "encoded_df = pd.concat([gosales, labels_df], axis=1)\n",
        "encoded_df.drop('MARITAL_STATUS', axis=1, inplace=True)"
      ]
    },
    {
      "cell_type": "code",
      "execution_count": null,
      "metadata": {
        "id": "G0p9Mqb3USC0",
        "outputId": "6d8e131a-bdc6-41b0-836a-3f8ef4ef8e0e"
      },
      "outputs": [
        {
          "data": {
            "text/html": [
              "<div>\n",
              "<style scoped>\n",
              "    .dataframe tbody tr th:only-of-type {\n",
              "        vertical-align: middle;\n",
              "    }\n",
              "\n",
              "    .dataframe tbody tr th {\n",
              "        vertical-align: top;\n",
              "    }\n",
              "\n",
              "    .dataframe thead th {\n",
              "        text-align: right;\n",
              "    }\n",
              "</style>\n",
              "<table border=\"1\" class=\"dataframe\">\n",
              "  <thead>\n",
              "    <tr style=\"text-align: right;\">\n",
              "      <th></th>\n",
              "      <th>IS_TENT</th>\n",
              "      <th>GENDER</th>\n",
              "      <th>AGE</th>\n",
              "      <th>PROFESSION</th>\n",
              "      <th>MARITAL_STATUS_Married</th>\n",
              "      <th>MARITAL_STATUS_Single</th>\n",
              "      <th>MARITAL_STATUS_Unspecified</th>\n",
              "    </tr>\n",
              "  </thead>\n",
              "  <tbody>\n",
              "    <tr>\n",
              "      <td>14790</td>\n",
              "      <td>False</td>\n",
              "      <td>1</td>\n",
              "      <td>18</td>\n",
              "      <td>Student</td>\n",
              "      <td>0.0</td>\n",
              "      <td>1.0</td>\n",
              "      <td>0.0</td>\n",
              "    </tr>\n",
              "    <tr>\n",
              "      <td>5897</td>\n",
              "      <td>False</td>\n",
              "      <td>0</td>\n",
              "      <td>29</td>\n",
              "      <td>Other</td>\n",
              "      <td>0.0</td>\n",
              "      <td>1.0</td>\n",
              "      <td>0.0</td>\n",
              "    </tr>\n",
              "    <tr>\n",
              "      <td>5031</td>\n",
              "      <td>False</td>\n",
              "      <td>1</td>\n",
              "      <td>29</td>\n",
              "      <td>Student</td>\n",
              "      <td>0.0</td>\n",
              "      <td>1.0</td>\n",
              "      <td>0.0</td>\n",
              "    </tr>\n",
              "    <tr>\n",
              "      <td>51728</td>\n",
              "      <td>False</td>\n",
              "      <td>1</td>\n",
              "      <td>40</td>\n",
              "      <td>Sales</td>\n",
              "      <td>1.0</td>\n",
              "      <td>0.0</td>\n",
              "      <td>0.0</td>\n",
              "    </tr>\n",
              "    <tr>\n",
              "      <td>39546</td>\n",
              "      <td>False</td>\n",
              "      <td>0</td>\n",
              "      <td>30</td>\n",
              "      <td>Other</td>\n",
              "      <td>1.0</td>\n",
              "      <td>0.0</td>\n",
              "      <td>0.0</td>\n",
              "    </tr>\n",
              "    <tr>\n",
              "      <td>6941</td>\n",
              "      <td>False</td>\n",
              "      <td>1</td>\n",
              "      <td>42</td>\n",
              "      <td>Other</td>\n",
              "      <td>1.0</td>\n",
              "      <td>0.0</td>\n",
              "      <td>0.0</td>\n",
              "    </tr>\n",
              "    <tr>\n",
              "      <td>54356</td>\n",
              "      <td>False</td>\n",
              "      <td>0</td>\n",
              "      <td>63</td>\n",
              "      <td>Hospitality</td>\n",
              "      <td>0.0</td>\n",
              "      <td>0.0</td>\n",
              "      <td>1.0</td>\n",
              "    </tr>\n",
              "    <tr>\n",
              "      <td>48011</td>\n",
              "      <td>False</td>\n",
              "      <td>0</td>\n",
              "      <td>43</td>\n",
              "      <td>Hospitality</td>\n",
              "      <td>0.0</td>\n",
              "      <td>0.0</td>\n",
              "      <td>1.0</td>\n",
              "    </tr>\n",
              "    <tr>\n",
              "      <td>14575</td>\n",
              "      <td>False</td>\n",
              "      <td>0</td>\n",
              "      <td>34</td>\n",
              "      <td>Other</td>\n",
              "      <td>1.0</td>\n",
              "      <td>0.0</td>\n",
              "      <td>0.0</td>\n",
              "    </tr>\n",
              "    <tr>\n",
              "      <td>51514</td>\n",
              "      <td>False</td>\n",
              "      <td>0</td>\n",
              "      <td>46</td>\n",
              "      <td>Executive</td>\n",
              "      <td>1.0</td>\n",
              "      <td>0.0</td>\n",
              "      <td>0.0</td>\n",
              "    </tr>\n",
              "  </tbody>\n",
              "</table>\n",
              "</div>"
            ],
            "text/plain": [
              "       IS_TENT  GENDER  AGE   PROFESSION  MARITAL_STATUS_Married  \\\n",
              "14790    False       1   18      Student                     0.0   \n",
              "5897     False       0   29        Other                     0.0   \n",
              "5031     False       1   29      Student                     0.0   \n",
              "51728    False       1   40        Sales                     1.0   \n",
              "39546    False       0   30        Other                     1.0   \n",
              "6941     False       1   42        Other                     1.0   \n",
              "54356    False       0   63  Hospitality                     0.0   \n",
              "48011    False       0   43  Hospitality                     0.0   \n",
              "14575    False       0   34        Other                     1.0   \n",
              "51514    False       0   46    Executive                     1.0   \n",
              "\n",
              "       MARITAL_STATUS_Single  MARITAL_STATUS_Unspecified  \n",
              "14790                    1.0                         0.0  \n",
              "5897                     1.0                         0.0  \n",
              "5031                     1.0                         0.0  \n",
              "51728                    0.0                         0.0  \n",
              "39546                    0.0                         0.0  \n",
              "6941                     0.0                         0.0  \n",
              "54356                    0.0                         1.0  \n",
              "48011                    0.0                         1.0  \n",
              "14575                    0.0                         0.0  \n",
              "51514                    0.0                         0.0  "
            ]
          },
          "execution_count": 23,
          "metadata": {},
          "output_type": "execute_result"
        }
      ],
      "source": [
        "encoded_df.sample(10)"
      ]
    },
    {
      "cell_type": "markdown",
      "metadata": {
        "id": "fBPdXdqbUSC1"
      },
      "source": [
        "\n",
        "\n",
        "\n",
        "#### We can do one hot encoding using the pandas get_dummies( ) function"
      ]
    },
    {
      "cell_type": "code",
      "execution_count": null,
      "metadata": {
        "id": "-RiOc8XAUSC1",
        "outputId": "ac0de19a-d1c7-4e06-f5a8-ebf5adac6e1d"
      },
      "outputs": [
        {
          "data": {
            "text/html": [
              "<div>\n",
              "<style scoped>\n",
              "    .dataframe tbody tr th:only-of-type {\n",
              "        vertical-align: middle;\n",
              "    }\n",
              "\n",
              "    .dataframe tbody tr th {\n",
              "        vertical-align: top;\n",
              "    }\n",
              "\n",
              "    .dataframe thead th {\n",
              "        text-align: right;\n",
              "    }\n",
              "</style>\n",
              "<table border=\"1\" class=\"dataframe\">\n",
              "  <thead>\n",
              "    <tr style=\"text-align: right;\">\n",
              "      <th></th>\n",
              "      <th>IS_TENT</th>\n",
              "      <th>GENDER</th>\n",
              "      <th>AGE</th>\n",
              "      <th>MARITAL_STATUS_Married</th>\n",
              "      <th>MARITAL_STATUS_Single</th>\n",
              "      <th>MARITAL_STATUS_Unspecified</th>\n",
              "      <th>PROFESSION_Executive</th>\n",
              "      <th>PROFESSION_Hospitality</th>\n",
              "      <th>PROFESSION_Other</th>\n",
              "      <th>PROFESSION_Professional</th>\n",
              "      <th>PROFESSION_Retail</th>\n",
              "      <th>PROFESSION_Retired</th>\n",
              "      <th>PROFESSION_Sales</th>\n",
              "      <th>PROFESSION_Student</th>\n",
              "      <th>PROFESSION_Trades</th>\n",
              "    </tr>\n",
              "  </thead>\n",
              "  <tbody>\n",
              "    <tr>\n",
              "      <td>50699</td>\n",
              "      <td>False</td>\n",
              "      <td>1</td>\n",
              "      <td>37</td>\n",
              "      <td>1.0</td>\n",
              "      <td>0.0</td>\n",
              "      <td>0.0</td>\n",
              "      <td>0</td>\n",
              "      <td>0</td>\n",
              "      <td>1</td>\n",
              "      <td>0</td>\n",
              "      <td>0</td>\n",
              "      <td>0</td>\n",
              "      <td>0</td>\n",
              "      <td>0</td>\n",
              "      <td>0</td>\n",
              "    </tr>\n",
              "    <tr>\n",
              "      <td>13923</td>\n",
              "      <td>False</td>\n",
              "      <td>0</td>\n",
              "      <td>29</td>\n",
              "      <td>0.0</td>\n",
              "      <td>0.0</td>\n",
              "      <td>1.0</td>\n",
              "      <td>0</td>\n",
              "      <td>0</td>\n",
              "      <td>0</td>\n",
              "      <td>1</td>\n",
              "      <td>0</td>\n",
              "      <td>0</td>\n",
              "      <td>0</td>\n",
              "      <td>0</td>\n",
              "      <td>0</td>\n",
              "    </tr>\n",
              "    <tr>\n",
              "      <td>2284</td>\n",
              "      <td>False</td>\n",
              "      <td>0</td>\n",
              "      <td>23</td>\n",
              "      <td>0.0</td>\n",
              "      <td>1.0</td>\n",
              "      <td>0.0</td>\n",
              "      <td>0</td>\n",
              "      <td>0</td>\n",
              "      <td>0</td>\n",
              "      <td>1</td>\n",
              "      <td>0</td>\n",
              "      <td>0</td>\n",
              "      <td>0</td>\n",
              "      <td>0</td>\n",
              "      <td>0</td>\n",
              "    </tr>\n",
              "    <tr>\n",
              "      <td>53238</td>\n",
              "      <td>False</td>\n",
              "      <td>0</td>\n",
              "      <td>29</td>\n",
              "      <td>0.0</td>\n",
              "      <td>1.0</td>\n",
              "      <td>0.0</td>\n",
              "      <td>0</td>\n",
              "      <td>0</td>\n",
              "      <td>1</td>\n",
              "      <td>0</td>\n",
              "      <td>0</td>\n",
              "      <td>0</td>\n",
              "      <td>0</td>\n",
              "      <td>0</td>\n",
              "      <td>0</td>\n",
              "    </tr>\n",
              "    <tr>\n",
              "      <td>1710</td>\n",
              "      <td>False</td>\n",
              "      <td>1</td>\n",
              "      <td>23</td>\n",
              "      <td>0.0</td>\n",
              "      <td>1.0</td>\n",
              "      <td>0.0</td>\n",
              "      <td>0</td>\n",
              "      <td>0</td>\n",
              "      <td>1</td>\n",
              "      <td>0</td>\n",
              "      <td>0</td>\n",
              "      <td>0</td>\n",
              "      <td>0</td>\n",
              "      <td>0</td>\n",
              "      <td>0</td>\n",
              "    </tr>\n",
              "    <tr>\n",
              "      <td>54567</td>\n",
              "      <td>True</td>\n",
              "      <td>1</td>\n",
              "      <td>29</td>\n",
              "      <td>0.0</td>\n",
              "      <td>1.0</td>\n",
              "      <td>0.0</td>\n",
              "      <td>0</td>\n",
              "      <td>0</td>\n",
              "      <td>0</td>\n",
              "      <td>0</td>\n",
              "      <td>0</td>\n",
              "      <td>0</td>\n",
              "      <td>0</td>\n",
              "      <td>0</td>\n",
              "      <td>1</td>\n",
              "    </tr>\n",
              "    <tr>\n",
              "      <td>2177</td>\n",
              "      <td>False</td>\n",
              "      <td>0</td>\n",
              "      <td>36</td>\n",
              "      <td>1.0</td>\n",
              "      <td>0.0</td>\n",
              "      <td>0.0</td>\n",
              "      <td>1</td>\n",
              "      <td>0</td>\n",
              "      <td>0</td>\n",
              "      <td>0</td>\n",
              "      <td>0</td>\n",
              "      <td>0</td>\n",
              "      <td>0</td>\n",
              "      <td>0</td>\n",
              "      <td>0</td>\n",
              "    </tr>\n",
              "    <tr>\n",
              "      <td>47495</td>\n",
              "      <td>True</td>\n",
              "      <td>1</td>\n",
              "      <td>24</td>\n",
              "      <td>0.0</td>\n",
              "      <td>1.0</td>\n",
              "      <td>0.0</td>\n",
              "      <td>0</td>\n",
              "      <td>0</td>\n",
              "      <td>1</td>\n",
              "      <td>0</td>\n",
              "      <td>0</td>\n",
              "      <td>0</td>\n",
              "      <td>0</td>\n",
              "      <td>0</td>\n",
              "      <td>0</td>\n",
              "    </tr>\n",
              "    <tr>\n",
              "      <td>29539</td>\n",
              "      <td>False</td>\n",
              "      <td>0</td>\n",
              "      <td>26</td>\n",
              "      <td>0.0</td>\n",
              "      <td>1.0</td>\n",
              "      <td>0.0</td>\n",
              "      <td>0</td>\n",
              "      <td>0</td>\n",
              "      <td>1</td>\n",
              "      <td>0</td>\n",
              "      <td>0</td>\n",
              "      <td>0</td>\n",
              "      <td>0</td>\n",
              "      <td>0</td>\n",
              "      <td>0</td>\n",
              "    </tr>\n",
              "    <tr>\n",
              "      <td>55143</td>\n",
              "      <td>False</td>\n",
              "      <td>0</td>\n",
              "      <td>30</td>\n",
              "      <td>1.0</td>\n",
              "      <td>0.0</td>\n",
              "      <td>0.0</td>\n",
              "      <td>1</td>\n",
              "      <td>0</td>\n",
              "      <td>0</td>\n",
              "      <td>0</td>\n",
              "      <td>0</td>\n",
              "      <td>0</td>\n",
              "      <td>0</td>\n",
              "      <td>0</td>\n",
              "      <td>0</td>\n",
              "    </tr>\n",
              "  </tbody>\n",
              "</table>\n",
              "</div>"
            ],
            "text/plain": [
              "       IS_TENT  GENDER  AGE  MARITAL_STATUS_Married  MARITAL_STATUS_Single  \\\n",
              "50699    False       1   37                     1.0                    0.0   \n",
              "13923    False       0   29                     0.0                    0.0   \n",
              "2284     False       0   23                     0.0                    1.0   \n",
              "53238    False       0   29                     0.0                    1.0   \n",
              "1710     False       1   23                     0.0                    1.0   \n",
              "54567     True       1   29                     0.0                    1.0   \n",
              "2177     False       0   36                     1.0                    0.0   \n",
              "47495     True       1   24                     0.0                    1.0   \n",
              "29539    False       0   26                     0.0                    1.0   \n",
              "55143    False       0   30                     1.0                    0.0   \n",
              "\n",
              "       MARITAL_STATUS_Unspecified  PROFESSION_Executive  \\\n",
              "50699                         0.0                     0   \n",
              "13923                         1.0                     0   \n",
              "2284                          0.0                     0   \n",
              "53238                         0.0                     0   \n",
              "1710                          0.0                     0   \n",
              "54567                         0.0                     0   \n",
              "2177                          0.0                     1   \n",
              "47495                         0.0                     0   \n",
              "29539                         0.0                     0   \n",
              "55143                         0.0                     1   \n",
              "\n",
              "       PROFESSION_Hospitality  PROFESSION_Other  PROFESSION_Professional  \\\n",
              "50699                       0                 1                        0   \n",
              "13923                       0                 0                        1   \n",
              "2284                        0                 0                        1   \n",
              "53238                       0                 1                        0   \n",
              "1710                        0                 1                        0   \n",
              "54567                       0                 0                        0   \n",
              "2177                        0                 0                        0   \n",
              "47495                       0                 1                        0   \n",
              "29539                       0                 1                        0   \n",
              "55143                       0                 0                        0   \n",
              "\n",
              "       PROFESSION_Retail  PROFESSION_Retired  PROFESSION_Sales  \\\n",
              "50699                  0                   0                 0   \n",
              "13923                  0                   0                 0   \n",
              "2284                   0                   0                 0   \n",
              "53238                  0                   0                 0   \n",
              "1710                   0                   0                 0   \n",
              "54567                  0                   0                 0   \n",
              "2177                   0                   0                 0   \n",
              "47495                  0                   0                 0   \n",
              "29539                  0                   0                 0   \n",
              "55143                  0                   0                 0   \n",
              "\n",
              "       PROFESSION_Student  PROFESSION_Trades  \n",
              "50699                   0                  0  \n",
              "13923                   0                  0  \n",
              "2284                    0                  0  \n",
              "53238                   0                  0  \n",
              "1710                    0                  0  \n",
              "54567                   0                  1  \n",
              "2177                    0                  0  \n",
              "47495                   0                  0  \n",
              "29539                   0                  0  \n",
              "55143                   0                  0  "
            ]
          },
          "execution_count": 24,
          "metadata": {},
          "output_type": "execute_result"
        }
      ],
      "source": [
        "gosales = pd.get_dummies(encoded_df, columns=['PROFESSION'])\n",
        "\n",
        "gosales.sample(10)"
      ]
    },
    {
      "cell_type": "markdown",
      "metadata": {
        "id": "J7cTC4C5USC1"
      },
      "source": [
        "### Using pandas get_dummies( ) function we can scale the whole data\n",
        "\n",
        "##### So here we are loading dataset again and then applying one hot encoding on the whole dataset"
      ]
    },
    {
      "cell_type": "code",
      "execution_count": null,
      "metadata": {
        "id": "iKngHAAuUSC2",
        "outputId": "857c0196-9a42-4c9a-a1cb-6d973845995e"
      },
      "outputs": [
        {
          "data": {
            "text/html": [
              "<div>\n",
              "<style scoped>\n",
              "    .dataframe tbody tr th:only-of-type {\n",
              "        vertical-align: middle;\n",
              "    }\n",
              "\n",
              "    .dataframe tbody tr th {\n",
              "        vertical-align: top;\n",
              "    }\n",
              "\n",
              "    .dataframe thead th {\n",
              "        text-align: right;\n",
              "    }\n",
              "</style>\n",
              "<table border=\"1\" class=\"dataframe\">\n",
              "  <thead>\n",
              "    <tr style=\"text-align: right;\">\n",
              "      <th></th>\n",
              "      <th>IS_TENT</th>\n",
              "      <th>GENDER</th>\n",
              "      <th>AGE</th>\n",
              "      <th>MARITAL_STATUS</th>\n",
              "      <th>PROFESSION</th>\n",
              "    </tr>\n",
              "  </thead>\n",
              "  <tbody>\n",
              "    <tr>\n",
              "      <td>56845</td>\n",
              "      <td>False</td>\n",
              "      <td>F</td>\n",
              "      <td>33</td>\n",
              "      <td>Married</td>\n",
              "      <td>Other</td>\n",
              "    </tr>\n",
              "    <tr>\n",
              "      <td>12493</td>\n",
              "      <td>False</td>\n",
              "      <td>M</td>\n",
              "      <td>25</td>\n",
              "      <td>Single</td>\n",
              "      <td>Student</td>\n",
              "    </tr>\n",
              "    <tr>\n",
              "      <td>37217</td>\n",
              "      <td>True</td>\n",
              "      <td>M</td>\n",
              "      <td>44</td>\n",
              "      <td>Married</td>\n",
              "      <td>Other</td>\n",
              "    </tr>\n",
              "    <tr>\n",
              "      <td>19539</td>\n",
              "      <td>False</td>\n",
              "      <td>F</td>\n",
              "      <td>49</td>\n",
              "      <td>Married</td>\n",
              "      <td>Professional</td>\n",
              "    </tr>\n",
              "    <tr>\n",
              "      <td>20574</td>\n",
              "      <td>True</td>\n",
              "      <td>M</td>\n",
              "      <td>35</td>\n",
              "      <td>Married</td>\n",
              "      <td>Sales</td>\n",
              "    </tr>\n",
              "    <tr>\n",
              "      <td>26496</td>\n",
              "      <td>False</td>\n",
              "      <td>F</td>\n",
              "      <td>23</td>\n",
              "      <td>Single</td>\n",
              "      <td>Student</td>\n",
              "    </tr>\n",
              "    <tr>\n",
              "      <td>46491</td>\n",
              "      <td>False</td>\n",
              "      <td>F</td>\n",
              "      <td>35</td>\n",
              "      <td>Single</td>\n",
              "      <td>Professional</td>\n",
              "    </tr>\n",
              "    <tr>\n",
              "      <td>40282</td>\n",
              "      <td>False</td>\n",
              "      <td>F</td>\n",
              "      <td>29</td>\n",
              "      <td>Single</td>\n",
              "      <td>Professional</td>\n",
              "    </tr>\n",
              "    <tr>\n",
              "      <td>19365</td>\n",
              "      <td>False</td>\n",
              "      <td>M</td>\n",
              "      <td>41</td>\n",
              "      <td>Unspecified</td>\n",
              "      <td>Other</td>\n",
              "    </tr>\n",
              "    <tr>\n",
              "      <td>28942</td>\n",
              "      <td>False</td>\n",
              "      <td>F</td>\n",
              "      <td>39</td>\n",
              "      <td>Married</td>\n",
              "      <td>Other</td>\n",
              "    </tr>\n",
              "  </tbody>\n",
              "</table>\n",
              "</div>"
            ],
            "text/plain": [
              "       IS_TENT GENDER  AGE MARITAL_STATUS    PROFESSION\n",
              "56845    False      F   33        Married         Other\n",
              "12493    False      M   25         Single       Student\n",
              "37217     True      M   44        Married         Other\n",
              "19539    False      F   49        Married  Professional\n",
              "20574     True      M   35        Married         Sales\n",
              "26496    False      F   23         Single       Student\n",
              "46491    False      F   35         Single  Professional\n",
              "40282    False      F   29         Single  Professional\n",
              "19365    False      M   41    Unspecified         Other\n",
              "28942    False      F   39        Married         Other"
            ]
          },
          "execution_count": 25,
          "metadata": {},
          "output_type": "execute_result"
        }
      ],
      "source": [
        "gosales = pd.read_csv('datasets/GoSales_Tx_LogisticRegression.csv')\n",
        "\n",
        "gosales.sample(10)"
      ]
    },
    {
      "cell_type": "code",
      "execution_count": null,
      "metadata": {
        "id": "BY3bQCg2USC3",
        "outputId": "c15ecb29-2448-4df2-f4c2-47c530c2bdcc"
      },
      "outputs": [
        {
          "data": {
            "text/html": [
              "<div>\n",
              "<style scoped>\n",
              "    .dataframe tbody tr th:only-of-type {\n",
              "        vertical-align: middle;\n",
              "    }\n",
              "\n",
              "    .dataframe tbody tr th {\n",
              "        vertical-align: top;\n",
              "    }\n",
              "\n",
              "    .dataframe thead th {\n",
              "        text-align: right;\n",
              "    }\n",
              "</style>\n",
              "<table border=\"1\" class=\"dataframe\">\n",
              "  <thead>\n",
              "    <tr style=\"text-align: right;\">\n",
              "      <th></th>\n",
              "      <th>IS_TENT</th>\n",
              "      <th>AGE</th>\n",
              "      <th>GENDER_F</th>\n",
              "      <th>GENDER_M</th>\n",
              "      <th>MARITAL_STATUS_Married</th>\n",
              "      <th>MARITAL_STATUS_Single</th>\n",
              "      <th>MARITAL_STATUS_Unspecified</th>\n",
              "      <th>PROFESSION_Executive</th>\n",
              "      <th>PROFESSION_Hospitality</th>\n",
              "      <th>PROFESSION_Other</th>\n",
              "      <th>PROFESSION_Professional</th>\n",
              "      <th>PROFESSION_Retail</th>\n",
              "      <th>PROFESSION_Retired</th>\n",
              "      <th>PROFESSION_Sales</th>\n",
              "      <th>PROFESSION_Student</th>\n",
              "      <th>PROFESSION_Trades</th>\n",
              "    </tr>\n",
              "  </thead>\n",
              "  <tbody>\n",
              "    <tr>\n",
              "      <td>44591</td>\n",
              "      <td>True</td>\n",
              "      <td>34</td>\n",
              "      <td>0</td>\n",
              "      <td>1</td>\n",
              "      <td>0</td>\n",
              "      <td>1</td>\n",
              "      <td>0</td>\n",
              "      <td>0</td>\n",
              "      <td>0</td>\n",
              "      <td>0</td>\n",
              "      <td>1</td>\n",
              "      <td>0</td>\n",
              "      <td>0</td>\n",
              "      <td>0</td>\n",
              "      <td>0</td>\n",
              "      <td>0</td>\n",
              "    </tr>\n",
              "    <tr>\n",
              "      <td>31086</td>\n",
              "      <td>False</td>\n",
              "      <td>32</td>\n",
              "      <td>0</td>\n",
              "      <td>1</td>\n",
              "      <td>1</td>\n",
              "      <td>0</td>\n",
              "      <td>0</td>\n",
              "      <td>0</td>\n",
              "      <td>0</td>\n",
              "      <td>1</td>\n",
              "      <td>0</td>\n",
              "      <td>0</td>\n",
              "      <td>0</td>\n",
              "      <td>0</td>\n",
              "      <td>0</td>\n",
              "      <td>0</td>\n",
              "    </tr>\n",
              "    <tr>\n",
              "      <td>9611</td>\n",
              "      <td>False</td>\n",
              "      <td>34</td>\n",
              "      <td>0</td>\n",
              "      <td>1</td>\n",
              "      <td>1</td>\n",
              "      <td>0</td>\n",
              "      <td>0</td>\n",
              "      <td>0</td>\n",
              "      <td>0</td>\n",
              "      <td>0</td>\n",
              "      <td>0</td>\n",
              "      <td>0</td>\n",
              "      <td>0</td>\n",
              "      <td>1</td>\n",
              "      <td>0</td>\n",
              "      <td>0</td>\n",
              "    </tr>\n",
              "    <tr>\n",
              "      <td>48641</td>\n",
              "      <td>False</td>\n",
              "      <td>29</td>\n",
              "      <td>0</td>\n",
              "      <td>1</td>\n",
              "      <td>1</td>\n",
              "      <td>0</td>\n",
              "      <td>0</td>\n",
              "      <td>0</td>\n",
              "      <td>0</td>\n",
              "      <td>1</td>\n",
              "      <td>0</td>\n",
              "      <td>0</td>\n",
              "      <td>0</td>\n",
              "      <td>0</td>\n",
              "      <td>0</td>\n",
              "      <td>0</td>\n",
              "    </tr>\n",
              "    <tr>\n",
              "      <td>55724</td>\n",
              "      <td>False</td>\n",
              "      <td>23</td>\n",
              "      <td>1</td>\n",
              "      <td>0</td>\n",
              "      <td>1</td>\n",
              "      <td>0</td>\n",
              "      <td>0</td>\n",
              "      <td>0</td>\n",
              "      <td>0</td>\n",
              "      <td>0</td>\n",
              "      <td>0</td>\n",
              "      <td>1</td>\n",
              "      <td>0</td>\n",
              "      <td>0</td>\n",
              "      <td>0</td>\n",
              "      <td>0</td>\n",
              "    </tr>\n",
              "    <tr>\n",
              "      <td>6404</td>\n",
              "      <td>False</td>\n",
              "      <td>38</td>\n",
              "      <td>0</td>\n",
              "      <td>1</td>\n",
              "      <td>1</td>\n",
              "      <td>0</td>\n",
              "      <td>0</td>\n",
              "      <td>0</td>\n",
              "      <td>0</td>\n",
              "      <td>1</td>\n",
              "      <td>0</td>\n",
              "      <td>0</td>\n",
              "      <td>0</td>\n",
              "      <td>0</td>\n",
              "      <td>0</td>\n",
              "      <td>0</td>\n",
              "    </tr>\n",
              "    <tr>\n",
              "      <td>27872</td>\n",
              "      <td>False</td>\n",
              "      <td>31</td>\n",
              "      <td>1</td>\n",
              "      <td>0</td>\n",
              "      <td>1</td>\n",
              "      <td>0</td>\n",
              "      <td>0</td>\n",
              "      <td>0</td>\n",
              "      <td>0</td>\n",
              "      <td>1</td>\n",
              "      <td>0</td>\n",
              "      <td>0</td>\n",
              "      <td>0</td>\n",
              "      <td>0</td>\n",
              "      <td>0</td>\n",
              "      <td>0</td>\n",
              "    </tr>\n",
              "    <tr>\n",
              "      <td>27775</td>\n",
              "      <td>False</td>\n",
              "      <td>61</td>\n",
              "      <td>1</td>\n",
              "      <td>0</td>\n",
              "      <td>1</td>\n",
              "      <td>0</td>\n",
              "      <td>0</td>\n",
              "      <td>0</td>\n",
              "      <td>0</td>\n",
              "      <td>0</td>\n",
              "      <td>0</td>\n",
              "      <td>0</td>\n",
              "      <td>1</td>\n",
              "      <td>0</td>\n",
              "      <td>0</td>\n",
              "      <td>0</td>\n",
              "    </tr>\n",
              "    <tr>\n",
              "      <td>59531</td>\n",
              "      <td>False</td>\n",
              "      <td>38</td>\n",
              "      <td>0</td>\n",
              "      <td>1</td>\n",
              "      <td>1</td>\n",
              "      <td>0</td>\n",
              "      <td>0</td>\n",
              "      <td>1</td>\n",
              "      <td>0</td>\n",
              "      <td>0</td>\n",
              "      <td>0</td>\n",
              "      <td>0</td>\n",
              "      <td>0</td>\n",
              "      <td>0</td>\n",
              "      <td>0</td>\n",
              "      <td>0</td>\n",
              "    </tr>\n",
              "    <tr>\n",
              "      <td>59202</td>\n",
              "      <td>False</td>\n",
              "      <td>34</td>\n",
              "      <td>0</td>\n",
              "      <td>1</td>\n",
              "      <td>1</td>\n",
              "      <td>0</td>\n",
              "      <td>0</td>\n",
              "      <td>0</td>\n",
              "      <td>0</td>\n",
              "      <td>1</td>\n",
              "      <td>0</td>\n",
              "      <td>0</td>\n",
              "      <td>0</td>\n",
              "      <td>0</td>\n",
              "      <td>0</td>\n",
              "      <td>0</td>\n",
              "    </tr>\n",
              "  </tbody>\n",
              "</table>\n",
              "</div>"
            ],
            "text/plain": [
              "       IS_TENT  AGE  GENDER_F  GENDER_M  MARITAL_STATUS_Married  \\\n",
              "44591     True   34         0         1                       0   \n",
              "31086    False   32         0         1                       1   \n",
              "9611     False   34         0         1                       1   \n",
              "48641    False   29         0         1                       1   \n",
              "55724    False   23         1         0                       1   \n",
              "6404     False   38         0         1                       1   \n",
              "27872    False   31         1         0                       1   \n",
              "27775    False   61         1         0                       1   \n",
              "59531    False   38         0         1                       1   \n",
              "59202    False   34         0         1                       1   \n",
              "\n",
              "       MARITAL_STATUS_Single  MARITAL_STATUS_Unspecified  \\\n",
              "44591                      1                           0   \n",
              "31086                      0                           0   \n",
              "9611                       0                           0   \n",
              "48641                      0                           0   \n",
              "55724                      0                           0   \n",
              "6404                       0                           0   \n",
              "27872                      0                           0   \n",
              "27775                      0                           0   \n",
              "59531                      0                           0   \n",
              "59202                      0                           0   \n",
              "\n",
              "       PROFESSION_Executive  PROFESSION_Hospitality  PROFESSION_Other  \\\n",
              "44591                     0                       0                 0   \n",
              "31086                     0                       0                 1   \n",
              "9611                      0                       0                 0   \n",
              "48641                     0                       0                 1   \n",
              "55724                     0                       0                 0   \n",
              "6404                      0                       0                 1   \n",
              "27872                     0                       0                 1   \n",
              "27775                     0                       0                 0   \n",
              "59531                     1                       0                 0   \n",
              "59202                     0                       0                 1   \n",
              "\n",
              "       PROFESSION_Professional  PROFESSION_Retail  PROFESSION_Retired  \\\n",
              "44591                        1                  0                   0   \n",
              "31086                        0                  0                   0   \n",
              "9611                         0                  0                   0   \n",
              "48641                        0                  0                   0   \n",
              "55724                        0                  1                   0   \n",
              "6404                         0                  0                   0   \n",
              "27872                        0                  0                   0   \n",
              "27775                        0                  0                   1   \n",
              "59531                        0                  0                   0   \n",
              "59202                        0                  0                   0   \n",
              "\n",
              "       PROFESSION_Sales  PROFESSION_Student  PROFESSION_Trades  \n",
              "44591                 0                   0                  0  \n",
              "31086                 0                   0                  0  \n",
              "9611                  1                   0                  0  \n",
              "48641                 0                   0                  0  \n",
              "55724                 0                   0                  0  \n",
              "6404                  0                   0                  0  \n",
              "27872                 0                   0                  0  \n",
              "27775                 0                   0                  0  \n",
              "59531                 0                   0                  0  \n",
              "59202                 0                   0                  0  "
            ]
          },
          "execution_count": 26,
          "metadata": {},
          "output_type": "execute_result"
        }
      ],
      "source": [
        "gosales = pd.get_dummies(gosales)\n",
        "\n",
        "gosales.sample(10)"
      ]
    },
    {
      "cell_type": "code",
      "execution_count": null,
      "metadata": {
        "id": "rjACMa6lUSC3"
      },
      "outputs": [],
      "source": [
        ""
      ]
    },
    {
      "cell_type": "code",
      "execution_count": null,
      "metadata": {
        "id": "ExoZ9gRCUSC4"
      },
      "outputs": [],
      "source": [
        ""
      ]
    },
    {
      "cell_type": "code",
      "execution_count": null,
      "metadata": {
        "id": "6lMSI2HnUSC4"
      },
      "outputs": [],
      "source": [
        ""
      ]
    },
    {
      "cell_type": "code",
      "execution_count": null,
      "metadata": {
        "id": "tmKVdpopUSC4"
      },
      "outputs": [],
      "source": [
        ""
      ]
    },
    {
      "cell_type": "code",
      "execution_count": null,
      "metadata": {
        "id": "w4tVqTKAUSC4"
      },
      "outputs": [],
      "source": [
        ""
      ]
    },
    {
      "cell_type": "code",
      "execution_count": null,
      "metadata": {
        "id": "TA2IRNzxUSC4"
      },
      "outputs": [],
      "source": [
        ""
      ]
    },
    {
      "cell_type": "code",
      "execution_count": null,
      "metadata": {
        "id": "fpWUtGDUUSC5"
      },
      "outputs": [],
      "source": [
        ""
      ]
    },
    {
      "cell_type": "code",
      "execution_count": null,
      "metadata": {
        "id": "628z44AqUSC5"
      },
      "outputs": [],
      "source": [
        ""
      ]
    },
    {
      "cell_type": "code",
      "execution_count": null,
      "metadata": {
        "id": "fgSYhILnUSC5"
      },
      "outputs": [],
      "source": [
        ""
      ]
    },
    {
      "cell_type": "code",
      "execution_count": null,
      "metadata": {
        "id": "sqE0pHR2USC6"
      },
      "outputs": [],
      "source": [
        ""
      ]
    },
    {
      "cell_type": "code",
      "execution_count": null,
      "metadata": {
        "id": "LAUyv0C-USC6"
      },
      "outputs": [],
      "source": [
        ""
      ]
    },
    {
      "cell_type": "code",
      "execution_count": null,
      "metadata": {
        "id": "g56_8C1yUSC6"
      },
      "outputs": [],
      "source": [
        ""
      ]
    },
    {
      "cell_type": "code",
      "execution_count": null,
      "metadata": {
        "id": "16ZOisWyUSC7"
      },
      "outputs": [],
      "source": [
        ""
      ]
    },
    {
      "cell_type": "code",
      "execution_count": null,
      "metadata": {
        "id": "BEiZmixEUSC7"
      },
      "outputs": [],
      "source": [
        ""
      ]
    }
  ],
  "metadata": {
    "kernelspec": {
      "display_name": "Python 3",
      "language": "python",
      "name": "python3"
    },
    "language_info": {
      "codemirror_mode": {
        "name": "ipython",
        "version": 3
      },
      "file_extension": ".py",
      "mimetype": "text/x-python",
      "name": "python",
      "nbconvert_exporter": "python",
      "pygments_lexer": "ipython3",
      "version": "3.6.4"
    },
    "colab": {
      "name": "Encoding_of_data(LabelEncoderAndOneHotEncoder).ipynb",
      "provenance": [],
      "include_colab_link": true
    }
  },
  "nbformat": 4,
  "nbformat_minor": 0
}